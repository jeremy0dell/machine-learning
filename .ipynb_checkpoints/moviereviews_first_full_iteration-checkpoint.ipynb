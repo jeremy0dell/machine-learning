{
 "cells": [
  {
   "cell_type": "markdown",
   "metadata": {},
   "source": [
    "# Movie reviews\n",
    "\n",
    "This notebook takes you though a complete iteration of Machine Learning Assignment 1 - Movie reviews. The assignment details (including links to download the data) can be found [here](https://docs.google.com/document/d/1WGYw99e5q6j5V0Zrf2HveagU6URt_kVvdR8B9HYQ99E/edit?usp=sharing). "
   ]
  },
  {
   "cell_type": "code",
   "execution_count": 342,
   "metadata": {},
   "outputs": [],
   "source": [
    "# all imports and magic commands\n",
    "import numpy as np\n",
    "import pandas as pd\n",
    "import matplotlib.pyplot as plt\n",
    "from my_measures import BinaryClassificationPerformance\n",
    "from sklearn.feature_extraction.text import HashingVectorizer\n",
    "from sklearn.feature_extraction.text import CountVectorizer\n",
    "from sklearn.feature_extraction.text import TfidfTransformer\n",
    "from scipy.sparse import csr_matrix, hstack\n",
    "from sklearn.preprocessing import StandardScaler\n",
    "from sklearn.model_selection import train_test_split\n",
    "%matplotlib inline"
   ]
  },
  {
   "cell_type": "code",
   "execution_count": 343,
   "metadata": {},
   "outputs": [
    {
     "name": "stdout",
     "output_type": "stream",
     "text": [
      "['assult' 'astray' 'asunder' 'atrocious' 'atrocities' 'atrocity' 'atrophy'\n",
      " 'attack' 'attacks' 'audacious' 'audaciously' 'audaciousness' 'audacity'\n",
      " 'audiciously' 'austere' 'authoritarian' 'autocrat' 'autocratic'\n",
      " 'avalanche' 'avarice' 'avaricious' 'avariciously' 'avenge' 'averse'\n",
      " 'aversion' 'aweful' 'awful' 'awfully' 'awfulness' 'awkward' 'awkwardness'\n",
      " 'ax' 'babble' 'back-logged' 'back-wood' 'back-woods' 'backache'\n",
      " 'backaches' 'backaching' 'backbite' 'backbiting' 'backward'\n",
      " 'backwardness' 'backwood' 'backwoods' 'bad' 'badly' 'baffle' 'baffled'\n",
      " 'bafflement' 'baffling' 'bait' 'balk' 'banal' 'banalize' 'bane' 'banish'\n",
      " 'banishment' 'bankrupt' 'barbarian' 'barbaric' 'barbarically' 'barbarity'\n",
      " 'barbarous' 'barbarously' 'barren' 'baseless' 'bash' 'bashed' 'bashful'\n",
      " 'bashing' 'bastard' 'bastards' 'battered' 'battering' 'batty' 'bearish'\n",
      " 'beastly' 'bedlam' 'bedlamite' 'befoul' 'beg' 'beggar' 'beggarly'\n",
      " 'begging' 'beguile' 'belabor' 'belated' 'beleaguer' 'belie' 'belittle'\n",
      " 'belittled' 'belittling' 'bellicose' 'belligerence' 'belligerent'\n",
      " 'belligerently' 'bemoan' 'bemoaning' 'bemused']\n"
     ]
    }
   ],
   "source": [
    "lines = np.loadtxt(\"../data/negative-words.txt\", dtype='str', comments=\"#\", delimiter=\",\", unpack=False)[200:300]\n",
    "lines_count = [line + '_count' for line in lines]\n",
    "\n",
    "print(lines)"
   ]
  },
  {
   "cell_type": "markdown",
   "metadata": {},
   "source": [
    "### IMPORTANT!!! Make sure you are using `BinaryClassificationPerformance` v1.02"
   ]
  },
  {
   "cell_type": "code",
   "execution_count": 344,
   "metadata": {},
   "outputs": [
    {
     "name": "stdout",
     "output_type": "stream",
     "text": [
      "Help on class BinaryClassificationPerformance in module my_measures:\n",
      "\n",
      "class BinaryClassificationPerformance(builtins.object)\n",
      " |  BinaryClassificationPerformance(predictions, labels, desc, probabilities=None)\n",
      " |  \n",
      " |  Performance measures to evaluate the fit of a binary classification model, v1.02\n",
      " |  \n",
      " |  Methods defined here:\n",
      " |  \n",
      " |  __init__(self, predictions, labels, desc, probabilities=None)\n",
      " |      Initialize attributes: predictions-vector of predicted values for Y, labels-vector of labels for Y\n",
      " |  \n",
      " |  compute_measures(self)\n",
      " |      Compute performance measures defined by Flach p. 57\n",
      " |  \n",
      " |  img_indices(self)\n",
      " |      Get the indices of true and false positives to be able to locate the corresponding images in a list of image names\n",
      " |  \n",
      " |  ----------------------------------------------------------------------\n",
      " |  Data descriptors defined here:\n",
      " |  \n",
      " |  __dict__\n",
      " |      dictionary for instance variables (if defined)\n",
      " |  \n",
      " |  __weakref__\n",
      " |      list of weak references to the object (if defined)\n",
      "\n"
     ]
    }
   ],
   "source": [
    "help(BinaryClassificationPerformance)"
   ]
  },
  {
   "cell_type": "markdown",
   "metadata": {},
   "source": [
    "# Function for feature building and extraction on natural language data"
   ]
  },
  {
   "cell_type": "code",
   "execution_count": 345,
   "metadata": {},
   "outputs": [],
   "source": [
    "# function that takes raw data and completes all preprocessing required before model fits\n",
    "def process_raw_data_jeremy(fn, my_random_seed, test=False):\n",
    "    # read and summarize data\n",
    "    movie_data = pd.read_csv(fn, sep='\\t')\n",
    "    print(\"movie_data is:\", type(movie_data))\n",
    "    print(\"movie_data has\", movie_data.shape[0], \"rows and\", movie_data.shape[1], \"columns\", \"\\n\")\n",
    "    print(\"the data types for each of the columns in movie_data:\")\n",
    "    print(movie_data.dtypes, \"\\n\")\n",
    "    print(\"the first 10 rows in movie_data:\")\n",
    "    print(movie_data.head(5))\n",
    "    if (not test):\n",
    "        print(\"The rate of 'good' movie reviews in the dataset: \")\n",
    "        print(movie_data['sentiment'].mean())\n",
    "\n",
    "    # vectorize Bag of Words from review text; as sparse matrix\n",
    "    if (not test): # fit_transform()\n",
    "        cv = CountVectorizer(ngram_range=(1, 2))\n",
    "        X_cv = cv.fit_transform(movie_data.review)\n",
    "        fitted_transformations.append(cv)\n",
    "#         print(v.fit(movie_data.review).vocabulary_)\n",
    "        print(\"Shape of CountVectorizer X:\")\n",
    "        print(X_cv.shape)\n",
    "    else: # transform() \n",
    "        X_cv = fitted_transformations[0].transform(movie_data.review)\n",
    "        print(\"Shape of CountVectorizer X:\")\n",
    "        print(X_cv.shape)\n",
    "    \n",
    "    # http://scikit-learn.org/stable/modules/generated/sklearn.feature_extraction.text.TfidfTransformer.html\n",
    "    if (not test):\n",
    "        transformer = TfidfTransformer()\n",
    "        X_tfidf = transformer.fit_transform(X_cv)\n",
    "        fitted_transformations.append(transformer)\n",
    "    else:\n",
    "        X_tfidf = fitted_transformations[1].transform(X_cv)\n",
    "    \n",
    "    # create additional quantitative features\n",
    "    # features from Amazon.csv to add to feature set\n",
    "    movie_data['word_count'] = movie_data['review'].str.split(' ').str.len()\n",
    "    movie_data['punc_count'] = movie_data['review'].str.count(\"\\.\")\n",
    "#     movie_data['doesn\\'t_count'] = movie_data['review'].str.count(\"doesn't\")\n",
    "#     movie_data['does_not_count'] = movie_data['review'].str.count(\"does not\")\n",
    "    \n",
    "#     print(p)\n",
    "#     for word in lines:\n",
    "#         movie_data[word + '_count'] = movie_data['review'].str.count(word)\n",
    "    \n",
    "#     movie_data['bad_count'] = movie_data['review'].str.count(\"bad\")\n",
    "#     movie_data['worst_count'] = movie_data['review'].str.count(\"worst\")\n",
    "#     movie_data['ellipsis_ratio'] = movie_data['review'].str.split('...').str.len() / movie_data['review'].str.split(' ').str.len()\n",
    "\n",
    "#     X_quant_features = movie_data[[\"word_count\", \"punc_count\", \"bad_count\", \"worst_count\", \"ellipsis_ratio\"]]\n",
    "    X_quant_features = movie_data[[\"word_count\", \"punc_count\"]]\n",
    "    print(\"Look at a few rows of the new quantitative features: \")\n",
    "    print(X_quant_features.head(10))\n",
    "    \n",
    "    # Combine all quantitative features into a single sparse matrix\n",
    "    X_quant_features_csr = csr_matrix(X_quant_features)\n",
    "    X_combined = hstack([X_tfidf, X_quant_features_csr])\n",
    "    X_matrix = csr_matrix(X_combined) # convert to sparse matrix\n",
    "    print(\"Size of combined bag of words and new quantitative variables matrix:\")\n",
    "    print(X_matrix.shape)\n",
    "    \n",
    "    # Create `X`, scaled matrix of features\n",
    "    # feature scaling\n",
    "    if (not test):\n",
    "        sc = StandardScaler(with_mean=False)\n",
    "        X = sc.fit_transform(X_matrix)\n",
    "        fitted_transformations.append(sc)\n",
    "        print(X.shape)\n",
    "        y = movie_data['sentiment']\n",
    "    else:\n",
    "        X = fitted_transformations[2].transform(X_matrix)\n",
    "        print(X.shape)\n",
    "    \n",
    "    # Create Training and Test Sets\n",
    "    # enter an integer for the random_state parameter; any integer will work\n",
    "    if (test):\n",
    "        X_submission_test = X\n",
    "        print(\"Shape of X_test for submission:\")\n",
    "        print(X_submission_test.shape)\n",
    "        print('SUCCESS!')\n",
    "        return(movie_data, X_submission_test)\n",
    "    else: \n",
    "        X_train, X_test, y_train, y_test, X_raw_train, X_raw_test = train_test_split(X, y, movie_data, test_size=0.2, random_state=my_random_seed)\n",
    "        print(\"Shape of X_train and X_test:\")\n",
    "        print(X_train.shape)\n",
    "        print(X_test.shape)\n",
    "        print(\"Shape of y_train and y_test:\")\n",
    "        print(y_train.shape)\n",
    "        print(y_test.shape)\n",
    "        print(\"Shape of X_raw_train and X_raw_test:\")\n",
    "        print(X_raw_train.shape)\n",
    "        print(X_raw_test.shape)\n",
    "        print('SUCCESS!')\n",
    "        return(X_train, X_test, y_train, y_test, X_raw_train, X_raw_test)"
   ]
  },
  {
   "cell_type": "code",
   "execution_count": 346,
   "metadata": {},
   "outputs": [],
   "source": [
    "\n",
    "# function that takes raw data and completes all preprocessing required before model fits\n",
    "def process_raw_data(fn, my_random_seed, test=False):\n",
    "    # read and summarize data\n",
    "    movie_data = pd.read_csv(fn, sep='\\t')\n",
    "    print(\"movie_data is:\", type(movie_data))\n",
    "    print(\"movie_data has\", movie_data.shape[0], \"rows and\", movie_data.shape[1], \"columns\", \"\\n\")\n",
    "    print(\"the data types for each of the columns in movie_data:\")\n",
    "    print(movie_data.dtypes, \"\\n\")\n",
    "    print(\"the first 10 rows in movie_data:\")\n",
    "    print(movie_data.head(5))\n",
    "    if (not test):\n",
    "        print(\"The rate of 'good' movie reviews in the dataset: \")\n",
    "        print(movie_data['sentiment'].mean())\n",
    "\n",
    "    # vectorize Bag of Words from review text; as sparse matrix\n",
    "    if (not test): # fit_transform()\n",
    "        hv = HashingVectorizer(n_features=2 ** 17, alternate_sign=False)\n",
    "        X_hv = hv.fit_transform(movie_data.review)\n",
    "        fitted_transformations.append(hv)\n",
    "        print(\"Shape of HashingVectorizer X:\")\n",
    "        print(X_hv.shape)\n",
    "    else: # transform() \n",
    "        X_hv = fitted_transformations[0].transform(movie_data.review)\n",
    "        print(\"Shape of HashingVectorizer X:\")\n",
    "        print(X_hv.shape)\n",
    "    \n",
    "    # http://scikit-learn.org/stable/modules/generated/sklearn.feature_extraction.text.TfidfTransformer.html\n",
    "    if (not test):\n",
    "        transformer = TfidfTransformer()\n",
    "        X_tfidf = transformer.fit_transform(X_hv)\n",
    "        fitted_transformations.append(transformer)\n",
    "    else:\n",
    "        X_tfidf = fitted_transformations[1].transform(X_hv)\n",
    "    \n",
    "    # create additional quantitative features\n",
    "    # features from Amazon.csv to add to feature set\n",
    "    movie_data['word_count'] = movie_data['review'].str.split(' ').str.len()\n",
    "    movie_data['punc_count'] = movie_data['review'].str.count(\"\\.\")\n",
    "\n",
    "    X_quant_features = movie_data[[\"word_count\", \"punc_count\"]]\n",
    "    print(\"Look at a few rows of the new quantitative features: \")\n",
    "    print(X_quant_features.head(10))\n",
    "    \n",
    "    # Combine all quantitative features into a single sparse matrix\n",
    "    X_quant_features_csr = csr_matrix(X_quant_features)\n",
    "    X_combined = hstack([X_tfidf, X_quant_features_csr])\n",
    "    X_matrix = csr_matrix(X_combined) # convert to sparse matrix\n",
    "    print(\"Size of combined bag of words and new quantitative variables matrix:\")\n",
    "    print(X_matrix.shape)\n",
    "    \n",
    "    # Create `X`, scaled matrix of features\n",
    "    # feature scaling\n",
    "    if (not test):\n",
    "        sc = StandardScaler(with_mean=False)\n",
    "        X = sc.fit_transform(X_matrix)\n",
    "        fitted_transformations.append(sc)\n",
    "        print(X.shape)\n",
    "        y = movie_data['sentiment']\n",
    "    else:\n",
    "        X = fitted_transformations[2].transform(X_matrix)\n",
    "        print(X.shape)\n",
    "    \n",
    "    # Create Training and Test Sets\n",
    "    # enter an integer for the random_state parameter; any integer will work\n",
    "    if (test):\n",
    "        X_submission_test = X\n",
    "        print(\"Shape of X_test for submission:\")\n",
    "        print(X_submission_test.shape)\n",
    "        print('SUCCESS!')\n",
    "        return(movie_data, X_submission_test)\n",
    "    else: \n",
    "        X_train, X_test, y_train, y_test, X_raw_train, X_raw_test = train_test_split(X, y, movie_data, test_size=0.2, random_state=my_random_seed)\n",
    "        print(\"Shape of X_train and X_test:\")\n",
    "        print(X_train.shape)\n",
    "        print(X_test.shape)\n",
    "        print(\"Shape of y_train and y_test:\")\n",
    "        print(y_train.shape)\n",
    "        print(y_test.shape)\n",
    "        print(\"Shape of X_raw_train and X_raw_test:\")\n",
    "        print(X_raw_train.shape)\n",
    "        print(X_raw_test.shape)\n",
    "        print('SUCCESS!')\n",
    "        return(X_train, X_test, y_train, y_test, X_raw_train, X_raw_test)"
   ]
  },
  {
   "cell_type": "markdown",
   "metadata": {},
   "source": [
    "# Create training and test sets from function"
   ]
  },
  {
   "cell_type": "code",
   "execution_count": 347,
   "metadata": {
    "scrolled": true
   },
   "outputs": [
    {
     "name": "stdout",
     "output_type": "stream",
     "text": [
      "movie_data is: <class 'pandas.core.frame.DataFrame'>\n",
      "movie_data has 25000 rows and 3 columns \n",
      "\n",
      "the data types for each of the columns in movie_data:\n",
      "id           object\n",
      "sentiment     int64\n",
      "review       object\n",
      "dtype: object \n",
      "\n",
      "the first 10 rows in movie_data:\n",
      "       id  sentiment                                             review\n",
      "0  5814_8          1  With all this stuff going down at the moment w...\n",
      "1  2381_9          1  \\The Classic War of the Worlds\\\" by Timothy Hi...\n",
      "2  7759_3          0  The film starts with a manager (Nicholas Bell)...\n",
      "3  3630_4          0  It must be assumed that those who praised this...\n",
      "4  9495_8          1  Superbly trashy and wondrously unpretentious 8...\n",
      "The rate of 'good' movie reviews in the dataset: \n",
      "0.5\n",
      "Shape of HashingVectorizer X:\n",
      "(25000, 131072)\n",
      "Look at a few rows of the new quantitative features: \n",
      "   word_count  punc_count\n",
      "0         433          20\n",
      "1         158          16\n",
      "2         378          20\n",
      "3         379           8\n",
      "4         367           9\n",
      "5          89           5\n",
      "6         112           9\n",
      "7         132           9\n",
      "8         163           7\n",
      "9          43           5\n",
      "Size of combined bag of words and new quantitative variables matrix:\n",
      "(25000, 131074)\n",
      "(25000, 131074)\n",
      "Shape of X_train and X_test:\n",
      "(20000, 131074)\n",
      "(5000, 131074)\n",
      "Shape of y_train and y_test:\n",
      "(20000,)\n",
      "(5000,)\n",
      "Shape of X_raw_train and X_raw_test:\n",
      "(20000, 5)\n",
      "(5000, 5)\n",
      "SUCCESS!\n",
      "Number of fits stored in `fitted_transformations` list: \n",
      "[HashingVectorizer(alternate_sign=False, n_features=131072), TfidfTransformer(), StandardScaler(with_mean=False)]\n"
     ]
    }
   ],
   "source": [
    "# create an empty list to store any use of fit_transform() to transform() later\n",
    "# it is a global list to store model and feature extraction fits\n",
    "fitted_transformations = []\n",
    "\n",
    "# CHANGE FILE PATH and my_random_seed number (any integer other than 74 will do): \n",
    "X_train, X_test, y_train, y_test, X_raw_train, X_raw_test = process_raw_data(fn='../data/moviereviews_train.tsv', my_random_seed=999)\n",
    "\n",
    "print(\"Number of fits stored in `fitted_transformations` list: \")\n",
    "print(fitted_transformations)"
   ]
  },
  {
   "cell_type": "code",
   "execution_count": 348,
   "metadata": {},
   "outputs": [],
   "source": [
    "# Fit (and tune) Various Models"
   ]
  },
  {
   "cell_type": "markdown",
   "metadata": {},
   "source": [
    "### MODEL: ordinary least squares"
   ]
  },
  {
   "cell_type": "code",
   "execution_count": 349,
   "metadata": {},
   "outputs": [
    {
     "name": "stderr",
     "output_type": "stream",
     "text": [
      "/Users/jeremyodell/opt/anaconda3/envs/machineleaning/lib/python3.9/site-packages/sklearn/linear_model/_stochastic_gradient.py:165: FutureWarning: The loss 'squared_loss' was deprecated in v1.0 and will be removed in version 1.2. Use `loss='squared_error'` which is equivalent.\n",
      "  warnings.warn(\n"
     ]
    },
    {
     "name": "stdout",
     "output_type": "stream",
     "text": [
      "{'Pos': 9965, 'Neg': 10035, 'TP': 5095, 'TN': 4786, 'FP': 5249, 'FN': 4870, 'Accuracy': 0.49405, 'Precision': 0.49255607115235883, 'Recall': 0.5112895132965379, 'desc': 'ols_train'}\n"
     ]
    }
   ],
   "source": [
    "from sklearn import linear_model\n",
    "ols = linear_model.SGDClassifier(loss=\"squared_loss\")\n",
    "ols.fit(X_train, y_train)\n",
    "\n",
    "ols_performance_train = BinaryClassificationPerformance(ols.predict(X_train), y_train, 'ols_train')\n",
    "ols_performance_train.compute_measures()\n",
    "print(ols_performance_train.performance_measures)"
   ]
  },
  {
   "cell_type": "markdown",
   "metadata": {},
   "source": [
    "### MODEL: SVM, linear"
   ]
  },
  {
   "cell_type": "code",
   "execution_count": 350,
   "metadata": {},
   "outputs": [
    {
     "name": "stdout",
     "output_type": "stream",
     "text": [
      "{'Pos': 9965, 'Neg': 10035, 'TP': 9965, 'TN': 10035, 'FP': 0, 'FN': 0, 'Accuracy': 1.0, 'Precision': 1.0, 'Recall': 1.0, 'desc': 'svm_train'}\n"
     ]
    }
   ],
   "source": [
    "from sklearn import linear_model\n",
    "svm = linear_model.SGDClassifier()\n",
    "svm.fit(X_train, y_train)\n",
    "\n",
    "svm_performance_train = BinaryClassificationPerformance(svm.predict(X_train), y_train, 'svm_train')\n",
    "svm_performance_train.compute_measures()\n",
    "print(svm_performance_train.performance_measures)"
   ]
  },
  {
   "cell_type": "markdown",
   "metadata": {},
   "source": [
    "### MODEL: logistic regression"
   ]
  },
  {
   "cell_type": "code",
   "execution_count": 351,
   "metadata": {},
   "outputs": [
    {
     "name": "stdout",
     "output_type": "stream",
     "text": [
      "{'Pos': 9965, 'Neg': 10035, 'TP': 9965, 'TN': 10035, 'FP': 0, 'FN': 0, 'Accuracy': 1.0, 'Precision': 1.0, 'Recall': 1.0, 'desc': 'lgs_train'}\n"
     ]
    }
   ],
   "source": [
    "from sklearn import linear_model\n",
    "lgs = linear_model.SGDClassifier(loss='log')\n",
    "lgs.fit(X_train, y_train)\n",
    "\n",
    "lgs_performance_train = BinaryClassificationPerformance(lgs.predict(X_train), y_train, 'lgs_train')\n",
    "lgs_performance_train.compute_measures()\n",
    "print(lgs_performance_train.performance_measures)"
   ]
  },
  {
   "cell_type": "markdown",
   "metadata": {},
   "source": [
    "### MODEL: Naive Bayes"
   ]
  },
  {
   "cell_type": "code",
   "execution_count": 352,
   "metadata": {},
   "outputs": [
    {
     "name": "stdout",
     "output_type": "stream",
     "text": [
      "{'Pos': 9965, 'Neg': 10035, 'TP': 9546, 'TN': 9873, 'FP': 162, 'FN': 419, 'Accuracy': 0.97095, 'Precision': 0.9833127317676144, 'Recall': 0.9579528349222278, 'desc': 'nbs_train'}\n"
     ]
    }
   ],
   "source": [
    "from sklearn.naive_bayes import MultinomialNB\n",
    "nbs = MultinomialNB()\n",
    "nbs.fit(X_train, y_train)\n",
    "\n",
    "nbs_performance_train = BinaryClassificationPerformance(nbs.predict(X_train), y_train, 'nbs_train')\n",
    "nbs_performance_train.compute_measures()\n",
    "print(nbs_performance_train.performance_measures)"
   ]
  },
  {
   "cell_type": "markdown",
   "metadata": {},
   "source": [
    "### MODEL: Perceptron"
   ]
  },
  {
   "cell_type": "code",
   "execution_count": 353,
   "metadata": {},
   "outputs": [
    {
     "name": "stdout",
     "output_type": "stream",
     "text": [
      "{'Pos': 9965, 'Neg': 10035, 'TP': 9965, 'TN': 10035, 'FP': 0, 'FN': 0, 'Accuracy': 1.0, 'Precision': 1.0, 'Recall': 1.0, 'desc': 'prc_train'}\n"
     ]
    }
   ],
   "source": [
    "from sklearn import linear_model\n",
    "prc = linear_model.SGDClassifier(loss='perceptron')\n",
    "prc.fit(X_train, y_train)\n",
    "\n",
    "prc_performance_train = BinaryClassificationPerformance(prc.predict(X_train), y_train, 'prc_train')\n",
    "prc_performance_train.compute_measures()\n",
    "print(prc_performance_train.performance_measures)"
   ]
  },
  {
   "cell_type": "markdown",
   "metadata": {},
   "source": [
    "### MODEL: Ridge Regression Classifier"
   ]
  },
  {
   "cell_type": "code",
   "execution_count": 354,
   "metadata": {},
   "outputs": [
    {
     "name": "stdout",
     "output_type": "stream",
     "text": [
      "{'Pos': 9965, 'Neg': 10035, 'TP': 0, 'TN': 10035, 'FP': 0, 'FN': 9965, 'Accuracy': 0.50175, 'Precision': nan, 'Recall': 0.0, 'desc': 'rdg_train'}\n"
     ]
    },
    {
     "name": "stderr",
     "output_type": "stream",
     "text": [
      "/Users/jeremyodell/Desktop/ML/ml/final_assignment_1/my_measures.py:25: RuntimeWarning: invalid value encountered in long_scalars\n",
      "  self.performance_measures['Precision'] = self.performance_measures['TP'] / (self.performance_measures['TP'] + self.performance_measures['FP'])\n"
     ]
    }
   ],
   "source": [
    "from sklearn import linear_model\n",
    "rdg = linear_model.RidgeClassifier(alpha=9999999.0)\n",
    "rdg.fit(X_train, y_train)\n",
    "\n",
    "rdg_performance_train = BinaryClassificationPerformance(rdg.predict(X_train), y_train, 'rdg_train')\n",
    "rdg_performance_train.compute_measures()\n",
    "print(rdg_performance_train.performance_measures)"
   ]
  },
  {
   "cell_type": "markdown",
   "metadata": {},
   "source": [
    "### MODEL: Random Forest Classifier"
   ]
  },
  {
   "cell_type": "code",
   "execution_count": 355,
   "metadata": {},
   "outputs": [
    {
     "name": "stdout",
     "output_type": "stream",
     "text": [
      "{'Pos': 9965, 'Neg': 10035, 'TP': 7549, 'TN': 8079, 'FP': 1956, 'FN': 2416, 'Accuracy': 0.7814, 'Precision': 0.7942135718043135, 'Recall': 0.7575514300050176, 'desc': 'rdf_train'}\n"
     ]
    }
   ],
   "source": [
    "from sklearn.ensemble import RandomForestClassifier\n",
    "rdf = RandomForestClassifier(max_depth=2, random_state=0)\n",
    "rdf.fit(X_train, y_train)\n",
    "\n",
    "rdf_performance_train = BinaryClassificationPerformance(rdf.predict(X_train), y_train, 'rdf_train')\n",
    "rdf_performance_train.compute_measures()\n",
    "print(rdf_performance_train.performance_measures)"
   ]
  },
  {
   "cell_type": "markdown",
   "metadata": {},
   "source": [
    "### ROC plot to compare performance of various models and fits"
   ]
  },
  {
   "cell_type": "code",
   "execution_count": 356,
   "metadata": {
    "scrolled": false
   },
   "outputs": [
    {
     "data": {
      "image/png": "[encoded data removed]",
      "text/plain": [
       "<Figure size 432x288 with 1 Axes>"
      ]
     },
     "metadata": {
      "needs_background": "light"
     },
     "output_type": "display_data"
    }
   ],
   "source": [
    "fits = [rdg_performance_train]\n",
    "\n",
    "for fit in fits:\n",
    "    plt.plot(fit.performance_measures['FP'] / fit.performance_measures['Neg'], \n",
    "             fit.performance_measures['TP'] / fit.performance_measures['Pos'], 'bo')\n",
    "    plt.text(fit.performance_measures['FP'] / fit.performance_measures['Neg'], \n",
    "             fit.performance_measures['TP'] / fit.performance_measures['Pos'], fit.desc)\n",
    "plt.axis([0, 1, 0, 1])\n",
    "plt.title('ROC plot: test set')\n",
    "plt.xlabel('False positive rate')\n",
    "plt.ylabel('True positive rate')\n",
    "plt.show()"
   ]
  },
  {
   "cell_type": "markdown",
   "metadata": {},
   "source": [
    "### looking at reviews based on their classification\n",
    "\n",
    "Let's say we decide that Ordinary Least Squares (OLS) Regression is the best model for generalization. Let's take a look at some of the reviews and try to make a (subjective) determination of whether it's generalizing well. "
   ]
  },
  {
   "cell_type": "code",
   "execution_count": 357,
   "metadata": {},
   "outputs": [],
   "source": [
    "ols_predictions = nbs.predict(X_train)"
   ]
  },
  {
   "cell_type": "markdown",
   "metadata": {},
   "source": [
    "### let's look at some false positives:"
   ]
  },
  {
   "cell_type": "code",
   "execution_count": 358,
   "metadata": {},
   "outputs": [
    {
     "name": "stdout",
     "output_type": "stream",
     "text": [
      "Examples of false positives:\n",
      "161\n",
      "The Good Earth is not a great film by any means, it is way to ordinary. Maybe it was different in the 1930's but who would want to see the life of a farmer. It is not very interesting to me. Yes, Luis Rainer and Paul Muni do an excellent job acting but the film dragged on way too long. I could have told you the ending of this movie by the first act. In short Wang Lung (Muni) a small time farmer who does not want to be like his own father turns out exactly like him. Both falling in love with their wives just as they are on their death beds. The film does a complete 360 going from one generation to the next. Also this film did not have any good character actors or funny moments, it just was depressing stuff about lasting as a farmer during a time of crisis.\n",
      "* * * * * * * * * \n",
      "758\n",
      "I'm not a big fan of the Stooges' slapstick, but I find their history interesting. I've recently tried to check out stuff from each Stooge era, but the opportunity to see Joe shorts doesn't seem to come easy; this is the only one I've seen so far.<br /><br />Some say the quality problems with Joe-era shorts are really not Joe's fault, and I suspect that's the case. Joe as a performer is far from the worst thing about this. The thing that bothers me the most about it has been pointed out in another comment: the pitting of the other guys against the third violates the whole comedy-team/Stooges ethos. Perhaps Joe's style was perceived, by those in charge, as not really fitting in -- though there were no real off-camera conflicts between him & the others -- and this was their way of working around that.<br /><br />And what's with the titles of this and some of the other late Stooges shorts? Definitely a lack of creativity going on there; was that sort of thing the cause or the effect of the shorts market drying up?\n",
      "* * * * * * * * * \n",
      "1413\n",
      "I chose this movie by the cover which was a bad move. It wasn't funny at all and the main characters were obnoxious. The girl was beautiful but the story and the acting were terrible. It had absolutely nothing to do with surfing. Terrible movie with a surf \\theme\\\" that had nothing to do with surfing and no real surfers. Catherine Zeta Jones was beautiful and the movie will probably see a resurgence just becuase she is in the limelight now, being married with Gordon Gekko and all, but if you haven't seen it don't waste your time. A bad movie with GREAT surfing, REAL surfers and AMAZING, BEAUTIFUL cinematography was IN GOD'S HANDS.\"\n",
      "* * * * * * * * * \n",
      "1874\n",
      "I don't know what the Oscar voters saw in this movie, but they must of seen some pretty hard stuff to see in it to be able to award it with the best picture Oscar. All I know is that fortunately there was Gene Kelly to play in it or this would have been twice as bad as I believe it is. First of all, I don't think Leslie Caron was really fit to play such a role. She isn't that talented, she isn't a great dancer and she's not good looking at all. It's a shame that one actor or actress may ruin a movie just like by playing in it because if Leslie Caron hadn't been in this, it might have made a terrific movie. The story was intelligent, the directing wasn't bad, and, as I said, Gene Kelly was pretty good. Now I'm not saying all this stuff about Leslie Caron just to criticize her, I'm just saying it because I think that's what the worse part of the movie is. She's probably a good actress but I can't tell because I haven't seen her in anything else but I think she was pretty bad in \\An American in Paris\\\". So if you want to see it, go ahead but I'm telling you, you're way better off watching \\\"Singin' in the rain\\\".\"\n",
      "* * * * * * * * * \n",
      "1966\n",
      "Think \\stage play\\\". This is worth seeing once for the performances of Lionel Atwill and Dwight Frye. COmpare the Melvyn DOuglas in \\\"Ghost Story\\\" with the Melvyn DOuglas of this film. Are there vampires at loose in this 'Bavarian' village, or is there a more natural, albeit equally sinister, explanation? Dwight Frye is Herman, a red herring, who is cast as an especially moronic character. It's fun to look at his different facial expressions in what is really a stock character. NOt much happens for a long time, but then we discover that Atwill's pipe smoking doctor is the real murderer. There is too much 'comic relief' but that is par for the course for this era. Fay Wray looks really good.\"\n",
      "* * * * * * * * * \n",
      "2921\n",
      "After reading the book, I loved the story. Watching the movie I was disappointed that so many changes were made. It is understandable that books and movies differ but it was two different stories, only the names and some of the book's story remained. Read the book and you'll have a better understanding of the movie. The book gives you a better development of the characters. These characters are extremely interesting and make you care about them. The locations were indeed in line with the book's descriptions. Some characters not included. Television has microwaved so many great books and stories, this is a perfect example of that. Input from the author doesn't always insure a good movie but it can help sometimes.\n",
      "* * * * * * * * * \n",
      "3020\n",
      "I honestly had somewhat high expectations when I first began to watch this movie, but it turned out to be probably one of the most boring films I have ever seen!<br /><br />First of all, the pace is incredibly slow, so it seems much longer than it is (and it's not short).I'm sure when Jane Austen wrote the book, she made it several pages long, filled it with description, and didn't intend for people to read in in one day, or it might drag and lose it's appeal, which \\Emma\\\" most certainly did. Now \\\"Sense and Sensibility\\\" had this flaw of a slow pace, but at least it had lively lines to make up for it, as well as some good performances!<br /><br />That brings me to flaw #2, which is of course, the acting. While I don't happen to care for basically anybody involved in this film, I am sure they are capable of good work, but I didn't see much of it in this movie. It was like people were trying too hard to be witty, too hard to be \\\"upper-class\\\", too hard to be British (well, some of them), so they all just came off as a bunch of actors and not as people.<br /><br />#3. The cast, as I said, seemed only like actors, and not actually like the people they were playing. Maybe that's a good thing, because the people they played really weren't all that nice. Why did everybody like Emma, for example? Sure, she was nice to the rich, handsome people in front of them, but she was an awful gossip behind their backs. If her friends were \\\"ugly\\\", then she didn't even bother to go behind their backs. So, why is this girl so great? Why do people have to tell stories, \\\"just to make her laugh?\\\" Of course the snob couldn't even do that right. I have enough problems with Gwyneth Paltrow as Gwyneth Paltrow, and her \\\"Emma\\\" did not exactly change my opinion.<br /><br />Well, it's easy to see that I did not care for this one. I'm sure it's a lovely book and all, but some books are really not meant to be made for the big screen, and \\\"Emma\\\" is one of them.\"\n",
      "* * * * * * * * * \n",
      "3146\n",
      "While it's early to say how the series will evolve, I can say that the pilot was less than I thought it would be. There is still potential for the series, however. Of course when I first saw Voyager I thought it had potential, too - but was sorely disappointed. My gut tells me Enterprise won't be as bad as Voyager, however.<br /><br />As for the impressions of the pilot...<br /><br />The pilot had some good ideas and good themes. I liked the introduction. The show's opening credits were interesting, with the progress of exploration and a fitting theme song. Scott Bakula is excellent in the role of captain.<br /><br />Where it fell short for me was largely that the story lacked the \\feel\\\" of setting out on a grand adventure. The plot of the episode itself was more a \\\"generic\\\" Trek story with the themes of \\\"exploration\\\" and \\\"first step towards space\\\" merely subplot and subtext. Were you to edit out the references to this being the first deep space mission, the plot would be hard to differentiate between the eras of Enterprise, TOS or TNG. The central plot didn't reflect or do justice to the grand theme of the series.<br /><br /> The plot of launching the first mission would have been grand enough without the \\\"action\\\". Instead of isolated references to the newness of exploration, they could have been the story. Get a little more nostalgic and philosophical about it (oh, for a TV show that once again would make us THINK). Make us feel the excitement of \\\"the wind\\\" and being on \\\"the sea\\\" instead of distracting us with a rescue and a plethora of gunplay. There was WAY too much gunplay.<br /><br />We had the feeling more that humans were the \\\"freshmen\\\" in an established school. New kids on the block, as opposed to venturing into a largely unknown universe. Sadly, the Klingons landed on our doorstep instead of us finding them. That meeting could have been far more historic and far more sociological. Just how DO two such different societies interact? Don't just hint about it, SHOW it!<br /><br />I had to think of it more as `Trek with an akward crew and limited technology' as opposed to `the first brave steps into the unknown'. I wanted to see something newer and fresher. The series promises to have a new concept but so far I haven't seen this new, great concept.<br /><br />I will conclude with reiterating the sentiment that the series has potential. There are some interesting characters. Bakula is wonderful. Blalock has potential. The overall theme is the most interesting since we first saw Kirk in a world before Apollo 11. If only future episodes can do justice to this grand and wonderful theme, we will have a show which will create new legends.<br /><br />You shoot an arrow into the air... Good luck Capt. Archer.<br /><br />To the producers: TAKE MORE RISKS AND MAKE US *THINK*! :-)\"\n",
      "* * * * * * * * * \n",
      "3442\n",
      "The hysterical thing about this movie is that, according to the director, it has difficulty finding a distributor in the U.S. because most of them that viewed it couldn't reconcile the seemingly conflicting messages of Christianity and American angst. The thought of anyone seeing this as a religious film in anyway is laughable.<br /><br />Because a minister at a mission prays with the homeless or wishes someone \\Godspeed\\\" this makes it a \\\"Christian\\\" movie? One could interpret that it is actually mocking religion for in the \\\"Land of Plenty\\\" with all of its material excess, the best an organized mission can do is hand out a bowl of soup and a bible verse. Plenty of unfortunate or downtrodden maybe? Plenty of useless homeless missions? How about plenty of psycho Vietnam vets? As a pill-popping delusional survivor of agent \\\"pink\\\" are we to think America is a \\\"Land of Plenty\\\" of paranoid patriots? Maybe we have plenty of psychiatric patients? Certainly we don't have plenty of people concerned about Palestine politics based on the main characters phone conversation in the film. Of course if you worked in a German homeless shelter the unfortunate there would be much more concerned about peace in a distant land than their own personal survival as the world knows how Europe is the \\\"Continent of Plenty\\\" when it comes to sophistication.<br /><br />Indeed I agreed with the title in the end as the United States is the \\\"Land of Plenty\\\" and in this particular case it refers to the abundance of poor scripts, amateur acting and dispassionately directed films. Life is too short and one, even an American, doesn't have \\\"plenty\\\" of time to waste watching this piece.\"\n",
      "* * * * * * * * * \n",
      "3477\n",
      "A few weeks ago, I read the classic George Orwell novel, 1984. I was fascinated with it and thought it was one of the best books I've read recently. So when I rented the DVD, I was intrigued to see how this adaptation measured up. Unfortunately, the movie didn't even come close to creating the ambiance or developing the characters that Orwell so masterfully did in his book. The director seems to think that everyone watching the movie has read the book, because he makes no attempt to demonstrate WHY the characters act and feel the way they do. John Hurt, the main actor, is droll the entire way through, and hardly does any acting until the end. We never really find out what he does for a living, or why his love affair is forbidden, or what the political climate is and why the main character desires rebellion. This book cannot be done justice in movie form without proper narration and explanation of the political system oppressing the characters, and the fact that those are missing is the greatest shortcoming of this film. Besides that, John Hurt was a terrible casting choice, looking about 15 years older than the 39 year old Winston he was supposed to be portraying. On a more positive note, however, the rest of the cast was well chosen. It's just too bad they were put in such a horribly adapted film with the wrong lead actor. -Brian O.\n",
      "* * * * * * * * * \n",
      "3516\n",
      "I remember watching the BSG pilot. I can describe that night exactly. I remember what chair I sat in. That show was magic. It came alive. I enjoyed the first two years of BSG. I enjoyed parts of the third year even, and I watched every episode of the fourth year, totally faithfully in great hopes that it would somehow turn around. Well, it didn't.<br /><br />I watched the Caprica pilot and was enthralled. There was hope for something good here. Then I started watching the regular episodes, and they are getting more and more boring.<br /><br />It's too obvious, too predictable. It reminds me of the droll political correctness of his last failed show, Virtuality.<br /><br />Much of his line work on DS9 was good. When he focused on BSG in an organized way, it was good. This was especially true early on when they more or less followed the pattern of episodes set by the first BSG series. When they departed from that after meeting up with Admiral Cain and the Pegasus, it all went to pot. It was like he wrote the rest of the show without knowing where he was going.<br /><br />Maybe it will improve. Maybe it was just a few weak initial episodes. But I am very, very nervous.\n",
      "* * * * * * * * * \n",
      "3761\n",
      "Positively awful George Sanders vehicle where he goes from being a thief to police czar.<br /><br />While Sanders was an excellent character actor, he was certainly no leading man and this film proves it.<br /><br />It is absolutely beyond stupidity. Gene Lockhart did provide some comic relief until a moment of anger led him to fire his gun with tragedy resulting.<br /><br />Sadly, George Sanders and co-star Carol Landis committed suicide in real life. After making a film as deplorable as this, it is not shocking.<br /><br />The usual appealing Signe Hasso is really nothing here.\n",
      "* * * * * * * * * \n",
      "4346\n",
      "The five or so really good westerns that Mann made are unequaled as an ensemble in Hollywood. Even John Ford never made that many with so much quality. The curious thing about them all is how uneven they are. Ford's My Darling Clementine is worth about two and a half of any of them. Or at least two. <br /><br />The real hero of them besides Mann and Stewart is Chase. Chase being responsible for the brilliant Red River. Chase wrote far country, bend of the river, and probably some others. But none of them are as finished as My Darling Clementine, but then very few films, western or otherwise are. <br /><br />Each of the five films of Mann have huge gaps, or is it six, lets see. Bend, Far, Man of the West, Furies, Winchester 73, and yep, six, Naked Spur. Each have magnificent scene after magnificent scene, with fairly glaring lapses. Yet so does Red River, which is still the single greatest western ever made. So perfection isn't everything. <br /><br />But The Far Country has huge, huge holes. It's mawkish, and really comes alive only when Stewart and Mc Entire are locking horns. The rest is pretty pedestrian, with the usual exception of Mann's camera. Mann's camera is a one man course in cinematography. It is about as good an eye as anybody who ever got behind a strip of moving film. It is almost never in the wrong place, never. <br /><br />The Far Country has one amazing moment. And as usual it comes from Stewart. Nobody in the history of cinema ever received physical punishment with the authority of that man. He is absolutely amazing: look at him in Bend, Far, Winchester, and Man from Laramie: in Bend has been beaten up and is hanging by a thread so believably and with such boiling hatred he looks like somebody displaced from Dachau, in Far he is shot off a raft with such violence, it looks so convincing that you wince, and of course when he is dragged through the fire in Man, well you find yourself looking for the burn marks. What an actor. Not to mention the moment in Winchester when he is beaten up early in the hotel room, also as well as anybody ever did it. <br /><br />But that was Mann's territory: look at Gary Cooper fighting with Jack Lord in Man of the West. As painful as any fight scene ever recorded. Cooper while not being quite as convincing as Stewart, nevertheless is somehow his equal in looking exhausted at the end of the fight. In short, nobody but nobody but nobody ever showed the human being in extremis as well as Mann. <br /><br />What a great, great director. <br /><br />See every western he ever made. They are his real monuments, even if all are scetchy. But so what. When he gets roaring with his great scenes they are as good as anybody, including Ford. And his six westerns as an ensemble are the best ever done by anyone, period.<br /><br />Thanks, Anthony.\n",
      "* * * * * * * * * \n",
      "4510\n",
      "A female country singer nicknamed \\Big T\\\"--seriously, that's what they call her--risks her budding musical career and her life by falling into the company of a sleazy drunkard (Busey) who wants to be her manager. His mother committed suicide, his father's an alcoholic as well, and he has a violent temper. You can imagine where that leads. In the meantime, there's music aplenty, as Parton, with her fluid vocal talents, belts out song after song (at least half a dozen of them about Texas). Steer clear of this mess and check her out in NINE TO FIVE or STEEL MAGNOLIAS instead.\"\n",
      "* * * * * * * * * \n",
      "4764\n",
      "Noting the cast, I recently watched this movie on TCM, hoping for an under-appreciated gem, as I regard many films from the 30's. This is no gem - not even semi-precious. The anachronistic clothing and 1930's Rolls Royce limo hit you immediately. The casting is strange, also. But mostly, there are too many dumb and unnecessary plot devices. This film has lots of good ingredients and a basic plot that holds promise, but the components aren't mixed according to the right recipe. It simply doesn't come together like it should. And that's a shame. WIth a few rather obvious, but minor alterations, this might have been a very good movie.<br /><br />The film is about an American showgirl (Jean Harlow) seeking a rich British husband - preferably from the nobility. She meets Franchot Tone and his buddy, who are on a lark in a Rolls Royce owned by his buddy's employer. Harlow mistakenly assumes Tone is the Lord who owns the Rolls, and she sets her sights on him. This early part of the film is a light comedy of no real distinction. <br /><br />However, Tone unwittingly uncovers the fact that his employer is actually a German 5th columnist on the eve of WWI, and that is when the movie changes tone altogether and begins to fall apart. Tone and Harlow are married, but just as the honeymoon begins, he is gunned down by a Mata Hari-type (Benita Hume), and Harlow flees the scene, with a bystander accusing her of Tone's murder. (In fact, Tone recovers from the wounds.)<br /><br />Harlow flees to France, where she falls in love again - this time with a wealthy French cad (Cary Grant). Tone, now in the army, and Harlow are unexpectedly brought back together in Grant's hospital room where he is in rehab from a plane crash. In the following scene, Tone accuses Harlow of abandoning him because she is essentially a gold-digger. Harlow never explains about the witness' accusing her of murder and her panic! That is one of those unreal, movie-plot-device break-downs in the story.<br /><br />Then Tone is also brought back into contact with the woman (Hume) who shot him. She is on hand to watch her paramour, Grant, test the new plane that Tone has delivered to him from England. Incredibly, both Hume and Tone dimly recognize each other, but simply can't place where from! Okay, so Tone was shot and almost died; perhaps his memory is a little out of whack. But how many men did Hume shoot that she would forget one of her marks? (She does not seem to be faking the memory lapse.)<br /><br />This is inexplicable and unnecessary. Hume should have absolutely recognized him, but played it coy when she realized that Tone wasn't able to place her. That would have been a much better treatment of that issue.<br /><br />The finale also is very unsatisfying. The movie, as made, has Tone and Harlow conspiring to preserve the good reputation of the cad, Grant, leading to his fraudulent burial as a hero. Then Harlow and Tone just walk away. It is noble to preserve the French public's perception of their national war hero, but very unsatisfying as a love story!<br /><br />What the film begs for is this: Harlow explains that she fled in a panic in the face of accusations of murder; Tone forgives her and quietly rekindles his love for her; he then carries a torch for her, even while helping her to rig the crash site to preserve Grant's reputation. Meanwhile, Harlow finally recognizes Grant for the cad he is. Then having seen Tone for the brave and noble man he is, Harlow rekindles feelings for him, too. At film's end, the two of them become reconciled even as they work together to rig the appearance of Grant's death. After Grant's hero's burial, we see them embrace and kiss at the fade-out. That would have made a nice little movie. For Cary Grant fans, it would have been even better had Tone played the French cad who is killed and Grant the long-suffering first husband, reunited with Harlow.<br /><br />It is incomprehensible that Franchot Tone is cast as the Irishman living in England, while Cary Grant is cast as the Frenchman. This movie would have been much better had they reversed roles. That also would have been more conducive to the film that should have been...\n",
      "* * * * * * * * * \n",
      "4827\n",
      "My husband is a huge Robin Williams fan. I like him too, but have generally found that he should \\stick to what he does best\\\" and focus on comedic roles. My thoughts were confirmed with this movie. I was completely bored throughout the entire film. The story was predictable. I realize it was inspired by a true story. But, my guess is that there could have been some suspense or intrigue even while maintaining truth in the story. None of the characters were well developed. There was a side story about the main character and his partner. This relationship could have been explored further. More important, though, would have been a deeper exploration of the mother of the \\\"boy\\\". Her psychological profile would have been interesting to delve into. She obviously has a long history that was not touched upon except in the most superficial way. If my husband wasn't such a huge Williams fan, we would have left 20 minutes into it. Too bad I can't get my $20 or 2 hours back.\"\n",
      "* * * * * * * * * \n",
      "4834\n",
      "Was this meant to be a comedy or a serious drama? This film starts with a light-hearted banter between three women. Fine. It moves into a conflict between the women when one of them meets a man. Fine. There are a few antics between them. Fine. But when the plot thickens and finally becomes black I started to wonder whether I had misinterpreted the first part of the movie. It continues in this vein for a while until, in the end, it tries to go back to the original light-hearted banter. But by now it's too late. It's hard to see why these women would still be talking to one another and the finale is unconvincing. Truly a lesson (for British filmmakers anyway) of how not to make films. Difficult to see how the producers ever convinced themselves this film would work. And the box office proved it to be a real flop, because I'd never heard of this film until this weekend (four years after its release).\n",
      "* * * * * * * * * \n",
      "4853\n",
      "An illegal immigrant resists the social support system causing dire consequences for many. Well filmed and acted even though the story is a bit forced, yet the slow pacing really sets off the conclusion. The feeling of being lost in the big city is effectively conveyed. The little person lost in the big society is something to which we can all relate, but I cannot endorse going out of your way to see this movie.\n",
      "* * * * * * * * * \n",
      "4879\n",
      "this is just usual Indian garbage that gets turned out as cinema, as Indians we can proudly boast that we have the biggest cinema industry, however it also the worst.<br /><br />how can other poor countries have films with real characters that challenge the views of their respective societies and we just keep on pumping out garbage. take a look at Russia, Iran, china and Latin America, look at the brilliant films they have and we get crap like Kisna!!<br /><br />get real people, no wonder the international community in general laughs at Indian cinema.\n",
      "* * * * * * * * * \n",
      "4901\n",
      "Maggie Smith and Peter Ustinov as a very unlikely couple in a very not likable film at all.<br /><br />The film shows promise for Ustinov is released from prison for embezzling. He convinces Robert Morley to go away so that he can assume his identity and begin hacking away at computers at a very fancy firm run by Karl Malden and Bob Newhart, another unusual duo for films.<br /><br />Morley sounds just as he did in 1938's \\Marie Antoinette.\\\" Perhaps, he needed to return to that genre.<br /><br />This film is ridiculous at best. Hard to believe that the following year, Maggie Smith totally changed her ways and gave a shattering Oscar performance in \\\"The Prime of Miss Jean Brodie.\\\"<br /><br />Ms. Smith is made out here to be an apparent dumb-red head, but by film's end, she is the brains of the outfit. Too bad the writing didn't go the way with her.\"\n",
      "* * * * * * * * * \n",
      "5075\n",
      "Working with one of the best Shakespeare sources, this film manages to be creditable to it's source, whilst still appealing to a wider audience.<br /><br />Branagh steals the film from under Fishburne's nose, and there's a talented cast on good form.\n",
      "* * * * * * * * * \n"
     ]
    },
    {
     "name": "stdout",
     "output_type": "stream",
     "text": [
      "5580\n",
      "There is no question as to who is in command of the training of cadets in this film: Major Chick Davis (Pat O'Brien). O'Brien plays an officer who adheres to military discipline in the creation of a new kind of soldier from his cadets--the bombardier. But he is not so rigid as to be unfair or unfriendly. In fact, he even changes his opinion as to the value of women working in the military. He's tough when he has to be, yet at other times he is a clear mix of coach and pastor, roles he perfected in other films. His character is the foundation of the action around which everything revolves. O'Brien seems natural in the role, and plays it in fine fashion. Two things help this movie: O'Brien's performance and the spectacular special effects ending.\n",
      "* * * * * * * * * \n",
      "6239\n",
      "I must be that one guy in America that didn't like this movie. I guess this just wasn't my style or something, I just don't see what's so fascinating about it, this was *barely entertaining, let alone one of the greatest achievements in cinema history. <br /><br />It's about a guy that came from nothing, and goes on to become a drug lord. Pretty simple way to describe an entire movie, and that's exactly my feeling about the entire movie. Contrary to what a lot of people think, just because a movie is about mafias/drug trade/criminal groups doesn't automatically make it a great movie, don't forget good storytelling.\n",
      "* * * * * * * * * \n",
      "6637\n",
      "There is a reason why Jay Leno himself will not acknowledge this film. It consistently ranks as one of the worst films of all time. The acting is horrible, the script lacks direction and the director himself doesn't seem sure on which way to take this film. \\A buddy film,\\\" \\\"an action/comedy,\\\" \\\"mystery.\\\" Seems half way through, he gives up, and is just along for the ride. Jay Leno and Pat Morita are talented and dedicated performers. It is a shame that they wasted their time and gifts making this mess of a movie. Jay Leno and Pat Morita prior to involving themselves with this, had spent years pounding out their crafts on the Hollywood circuit. Mr. Morita had already been a star in his own right, acting steadily since the mid 1960s as the star of such cult TV and movie classics as \\\"Happy Days,\\\" and the dismal but affable \\\"Mr. T and Tina.\\\" And won the hearts of America with his roles in the powerful film, \\\"Midway,\\\" \\\"The Karate Kid,\\\" and a host of others. Mr. Leno can been seen on TV shows dating back to the mid 70s. And was a top performer in the comedy clubs of America. He can be seen in countless TV spots and in major films. It is a shame, that they agreed to be seen with this nonsense.\"\n",
      "* * * * * * * * * \n",
      "6891\n",
      "Vic (Richard Dreyfuss) is a mob boss, leaving a mental institution, back to his world of gangsters. How can a director have a cast with Richard Dreyfuss, Ellen Barkin, Jeff Goldblum, Diane Lane (very gorgeous), Gabriel Byrne, Gregory Hines, Kyle MacLachlan, Burt Reynolds, Billy Idol and a make such a waste of time? This movie is a comedy that is not funny, having a constellation in the cast. My vote is four.<br /><br />Title (Brazil):' Prazer em Matar-te!' ('Pleasure in Killing You!')<br /><br />\n",
      "* * * * * * * * * \n",
      "6927\n",
      "\\The Return of Chandu\\\" is notable, if one can say that, for the casting of Bela Lugosi as the hero rather than the villain. Why he even gets the girl.<br /><br /> The story as such, involves the Black Magic Cult of Ubasti trying to capture the last Egyptian princess Nadji (the delectable Maria Alba) and use her as a sacrifice as a means of reviving their ancient leader who just happens to look like Nadji. Lugosi as Chandu, who possesses magical powers, tries to thwart the villains.<br /><br /> Director Ray Taylor does his best with limited resources and extensive stock footage. Fans of King Kong (1933) will recognize the giant doors that were used to keep Kong at bay in several scenes. The acting is for the most part, awful. The actor who plays the high priest (I believe Lucien Prival) for example, uses that acting coach inspired pronunciation that was so common in the early talkies. The less said about the others the better.<br /><br /> It is a mystery why Lugosi accepted parts in independent quickies at this stage of his career, because he was still a bankable star at Universal at this time. Maybe it was because in this case he got to play the hero and get the girl, who knows. As his career started to spiral downwards in the late 30s, this kind of fare would become the norm for Lugosi rather than the exception.<br /><br />\"\n",
      "* * * * * * * * * \n",
      "7088\n",
      "Let me start by stating that I usually do like Renny Harlin's directing style, for the most part, and that the cinematographer should be commended for some the shots. Unlike Harlin's \\Elm Street 4\\\", and \\\"Die Hard 2\\\" which I really liked, there is something that is missing from this movie. That, my friends, is a script. The dialogue in movies like this is always pretty awful, but this one takes the gold medal for stupidity. There are so many awful lines in this movie, I don't even want to have to remember any of them. Not just that but the execution of the lines is pathetic and seems more suited toward a bad porn movie than an action adventure. It's almost like Harlin thought that if they slowed down the words being said, they could improve the script. Wrong again.<br /><br />The sad part is that there is some talented actors thrown into bad roles with worse dialogue. Stallone has never been a favorite of mine, but when he is acting circles around Lithgow, Turner, and the worst of the bunch Rooker, there is something wrong with this picture. Lithgow played one of the best villains in \\\"Ricochet\\\", yet comes across as someone who can't act to save his life here. How is that possible? I've always been a huge fan of his and he gets schooled in acting by Stallone, who himself still phoned-in his performance. Turner's part is so small and pointless, but she still manages to appear lost on screen. Michael Rooker CAN act. I know this because I have witnessed it in \\\"Days of Thunder\\\", but he seems like he is READING his lines from cue cards. Has it come to this? When Rooker and Lithgow have scenes together where they are speaking, I just wanted the movie to end right there, or have them both amazingly find their acting ability. Unfortunately, neither of those things occurred.<br /><br />Which brings me back to Harlin, who can be the only one to really blame for this mess other than the screenwriters. It's his fault that I was never drawn into this movie at all, because he should have made the people actually act. The script is not very good, but still the actors' performances are what destroys this movie and that has to lie with the director. I don't care how much was paid for the special effects, which for the most part are good, you still can't just sacrifice the movie with terrible acting. <br /><br />Plus, the pacing of this movie seems to be off. The opening sequence was good and the plane scene was very well done, but how are you supposed to care about the outcome of the heist at all. I mean I understand that they were trying to create tension with all of the bells and whistles of the plane scene, but I really didn't care if they got the money or not in that scene. If the bad guy's would have won early, maybe I wouldn't have had to witness one of the worst movies ever!\"\n",
      "* * * * * * * * * \n",
      "7532\n",
      "While I count myself as a fan of the Babylon 5 television series, the original movie that introduced the series was a weak start. Although many of the elements that would later mature and become much more compelling in the series are there, the pace of The Gathering is slow, the makeup somewhat inadequate, and the plot confusing. Worse, the characterization in the premiere episode is poor. Although the ratings chart shows that many fans are willing to overlook these problems, I remember The Gathering almost turned me off off what soon grew into a spectacular series.\n",
      "* * * * * * * * * \n",
      "7684\n",
      "I am sorry to say that it was one of the worst films I've ever seen. Although visually fascinating (e.g. the use of colour was absolutely stunning), it was pretty boring and disturbing (see the father/son incest).<br /><br />What's more, music is totally absent, and if you think of those wonderful soundtracks by Michael Nyman (who wrote the soundtracks for most of Greenaway's films) then you can imagine what a difference it makes.<br /><br />\n",
      "* * * * * * * * * \n",
      "7745\n",
      "May (Anne Reid) and Toots (Peter Vaughan) are paying an apparently infrequent visit to their son Bobby (Steven Mackintosh) and his family in London. Even as the visit begins, Toots suffers a fatal heart attack, leaving May adrift, unsure, and questioning her life and future. Finding herself attracted to her daughter's boyfriend Darren (Daniel Craig), her actions lead to inevitable consequences.<br /><br />Beautifully filmed, but for all its heralded realism and acclaim, The Mother offers a collection of mostly unpleasant, even repellent characters, and asks the viewer to engage with them. Reid shines as May, and it is her skill and commitment as a wonderfully understated actor that salvages the film from a completely depressing mire, but Michell and Kureishi have allowed Craig, Mackintosh and Cathryn Bradshaw to create such utterly obnoxious characters, that it becomes increasingly difficult to care what happens to May. As written, the characters played by Mackintosh and Bradshaw are in fact so utterly selfish and cold-hearted that one begins to wonder what exactly was Kureishi trying to say. As directed, they are either unwilling or unable to lift Bobby and Paula above the two dimensional in their ghastly selfishness. <br /><br />Worth seeing for Reid's performance, but little else. A crying shame...\n",
      "* * * * * * * * * \n"
     ]
    },
    {
     "name": "stdout",
     "output_type": "stream",
     "text": [
      "8081\n",
      "I never saw the original 1954 version with Judy Garland, so have no means of comparison. Also, it's been some years, but I found this tale neither gripping nor its romance captivating. The movie tells the story of two lovers whose musical careers are headed in opposite directions. John Norman Howard is a worn out, disillusioned rock star on the decline, embarking upon a romance with a fresh, talented new singing sensation, Esther Hoffman. Her dramatic success only serves to emphasize his decline.<br /><br />The lead actors, Kris Kristofferson and Barbra Streisand, are adequate in their roles, but neither their chemistry nor the plot left much of a mark with me. The film is noteworthy to me for only one aspect, Streisand's beautiful rendition of the Oscar winning song 'Evergreen'. She truly has a powerful and magnificent voice.\n",
      "* * * * * * * * * \n",
      "8485\n",
      "Robin Williams gave a fine performance in The Night Listener as did the other cast members. However, the movie seems rushed and leaves too many loose ends to be considered a \\must see.\\\" I think the problem happens because there isn't a strong enough relationship established between the caller and the Gabriel Noon(I had to spell it this way, because IMDb wants to auto correct the right spelling to \\\"No one\\\") character. The movie runs a little over 01:30 and within the first 15 minutes, or so it seems, Noon begins his search for Pete Logande, the boy caller.<br /><br />This happens after he talks to the mysterious caller about 3 or 4 times. The conversations aren't too in-depth mostly consisting of how are you... I'm in the hospital...why did you boyfriend move out... etc. In the book, the kid almost becomes Noon's shrink and vice versa and the reader understands why he goes in search of this boy, once he finds out the kid disappears and thinks he might be a hoax.<br /><br />In the movie, Noon becomes obsessed with finding Logande, but the audience is left to wonder why? Since there really isn't a strong enough bond established between Noon and the caller, why bother? Who cares if the caller doesn't exist? <br /><br />I know there's a difference between a book and a movie, but those calls and that relationship was critical to establish on screen, because it provides the foundation for the rest of the movie. Since it doesn't, the movie falls apart.<br /><br />This is surprising because of Maupin's other work, Tales of the City. When it was made into a mini-series, it worked beautifully.\"\n",
      "* * * * * * * * * \n",
      "9108\n",
      "I actually prefer Robin Williams in his more serious roles (e.g. Good Will Hunting, The Fisher King, The World According to Garp). These are my favorite Robin Williams movies. But Seize the Day, although well-acted, is one of the worst movies I've ever seen and certainly the worst Robin Williams movie (even worse than Death to Smoochy, Club Paradise, and Alladin on Ice).<br /><br />Every good story is going to have its ups and downs. This movie, however, is one giant down. I don't need a feel-good Hollywood cheese-fest, but I've got to have something other than 90 minutes of complete and utter hopelessness. This movie reminds me of \\Love Liza\\\" (which is actually worse) because it seems that the only point of the movie is to see how far one person can fall. The answer? Who cares.\"\n",
      "* * * * * * * * * \n",
      "9166\n",
      "Having loved 'Paris, Je T'aime', I highly anticipated this film and I admit I went in with high expectations, but was sorely disappointed for a number of reasons.<br /><br />Although, I was not expecting a re-make of 'Paris' in New York I was expecting the same structure. What I liked about 'Paris' was the breakup of the neighborhoods. You got a sense of each directors style and the story they wanted to tell. In 'NY', there is no clear separation of the stories, at different points in the film, characters from different stories run into each other which made me confused as to who I was watching and what exactly was going on. Also, the switch in directing was evident but confusing since there was no flow.<br /><br />Another thing I loved about the 'Paris' film was the different takes on love. It wasn't all romantic. There was love between parents and their children, unrequited love, a lonely, middle-aged woman yearning for love etc., it explored so many layers of the complexity of love between humans. 'NY' seemed to only go for an edgy, over-the-top sexuality. There were some redeemable shorts (the older couple having spent a lifetime together, Julie Christie's short), but overall the'NY' film didn't evoke any emotion for me. I didn't connect with any of the characters like I did with 'Paris'. I remember watching 'Paris' and feeling a deep sadness, loneliness, yearning, hopefulness, wonder... it just had so much soul. For me, there was no soul in the 'NY' film.<br /><br />Maybe if I had gone into it without having 'Paris' looming in the back of my brain as a comparison this film might have elicited a more favorable response, but as a self-titled re-take of 'Paris, Je T'aime' I was sorely disappointed.\n",
      "* * * * * * * * * \n",
      "9732\n",
      "In Cold Blood was one of several 60s films that created a new vision of violence in the Hollywood film industry. Capote coined the phrase \\nonfiction novel\\\" to describe the book on which this film is based, and the spirit of that form was carried over into the film script, which he co-wrote. Despite the fact that we were well into the era of color film, Richard Brooks elected to present this film in black and white to underscore both the starkness of the landscape and the bleakness of the story. This is the first problem with the TV remake --color changes the tone of the story. In addition, the confinement of shooting a film for TV makes reduces the options of how the shots are framed and focused. As a result, we lose the dramatic clash which makes the second part of the original film (police interviews, trial, imprisonment, and execution) so claustrophobic. On the small screen, it's just another version of Law and Order spin-offs. <br /><br />Hollywood's search for scripts continuously takes it back to movies that were successful in another age. Usually, that's a mistake, and this is no exception.<br /><br />All of the actors are competent. The script is OK. The directing doesn't get in the way. It's just that the movie doesn't work as well as the original precision instrument. It doesn't hook the viewer into the ambivalence toward Smith and Hickock that the original film provokes. At the end of the TV version, we are left with the feeling: \\\"Ho hum, who cares?\\\"<br /><br />See the original first, on as large a screen as you can, then watch the TV version simply to understand why the first one was such an important film in 1967.<br /><br />Wouldn't hurt to also go on line and read a bit about Capote and the original book. It will help you to understand the extraordinary effort he put into the material, and also some of the controversy surrounding both the book and the movie.<br /><br />I actually only gave this a 4 because I save the bottom 3 rankings for true bombs--the kind that enrage you about having been sucked into spending an\"\n",
      "* * * * * * * * * \n",
      "9801\n",
      "I think that movie can`t be a Scott`s film. That is impossible. Do you remember Blade Runner? And Alien? Two greats movies versus a one. I hope didn´t see ever it. good bye!!\n",
      "* * * * * * * * * \n",
      "9887\n",
      "Despite being a huge fan of Fred Astaire and Ginger Rogers' movies, it wasn't until about 6 years ago that I first saw 'Follow the Fleet'. I knew all the songs from an old Astaire/Rogers record (yes, vinyl) but knew nothing of the plot.<br /><br />Unfortunately, while the songs are catchy and Ginger Rogers' character is sweet and funny, you just can't like 'Bake Baker'. While trying to make up to his longtime partner, he continually sabotages her career. His character doesn't have the usual humour and elan of the other films' Astaire characters.<br /><br />Worth watching for the songs and a great solo tap routine by Ginger Rogers.\n",
      "* * * * * * * * * \n",
      "10070\n",
      "The film is almost laughable with Debbie Reynolds and Shelley Winters teaming up as the mothers of convicted murderers. With the horrible notoriety after the trial, the two women team up and leave N.Y. for California in order to open and song and dance studio for Shirley Temple-like girls.<br /><br />From the beginning, it becomes apparent that Reynolds has made a mistake in taking Winters with her to California. Winters plays a deeply religious woman who increasingly seems to be going off her rocker. <br /><br />To make matters worse, the women who live together, are receiving menacing phone calls. Reynolds, who puts on a blond wig, is soon romanced by the wealthy father of one of her students, nicely played by Dennis Weaver.<br /><br />Agnes Moorehead, in one of her last films, briefly is seen as Sister Alma, who Winters is a faithful listener of.<br /><br />The film really belongs to Shelley Winters. She is heavy here and heaviness seemed to make her acting even better. Winters always did well in roles testing her nerves.<br /><br />The ending is of the macabre and who can forget Winters at the piano banging away with that totally insane look?\n",
      "* * * * * * * * * \n",
      "10390\n",
      "This move reminded my of Tales from the Crypt Keeper. It has the same sort of idea of people get what they deserve. I think that's always the them in a Crypt story. The same goes for the bad acting. Very bad acting. I enjoyed the movie knowing that most people didn't like it and I wasn't expecting much. Whenever I watch a stephen King movie I don't expect much because all his movies are awful compared to the genius of his novels. I have read The Shining and Carrie and they were great books. I love how Carrie played out like it was a true story and the whole book is a bunch of reports and theories and such. It was so good. But I noticed that both of the novels were nothing like the movies. The endings were very different then the movie versions. I assume from those two novels that all of his novels are changed greatly and the endings are always cheesy. I ending of Thinner is the worst. So Cheesy. I want to read the book to find out the real ending. I suggest everyone who intends to read stephen King's novels to watch his movies before hand so that you may compare. And that way you will be greatly satisfied in the book. I intend on doing so with all his novels that were made into movies. I'm sure if they were made into movies they were real good books... and the screenplay went terribly wrong.\n",
      "* * * * * * * * * \n"
     ]
    },
    {
     "name": "stdout",
     "output_type": "stream",
     "text": [
      "11024\n",
      "For getting so many positive reviews, this movie really disappointed me! It is slow moving and long. At times the story is not clear, particularly in the evolving relationships among characters. My advice? Read the book, it's a fabulous story which loses it's impact on screen.\n",
      "* * * * * * * * * \n",
      "11505\n",
      "I have just watched the movie for the first time. I wanted to watch it as I like Drew Barrymore and wanted to see one of her early movies. <br /><br />The movie is about a girl (played by young and beautiful Drew Barrymore), who moves from NYC to LA in order to get over her recently troubled loss. Short after moving to a guy who falls in love with her, it becomes obvious that she has an evil twin=doppelganger, who haunts her.<br /><br />The movie is quite poor and lousy. Both the dialogs and the acting make the film not really worth seeing it. Summing up it is just something for the fans of Drew Barrymore.\n",
      "* * * * * * * * * \n",
      "11531\n",
      "I watched the film recently and it poorly resembles the book is based on. I blame this on poor screenplay and direction. Some parts were forcibly introduced (the gay rape scene) for no apparent reason. I actually read the book after watching the movie and some 20 years or so after reading it for the first time. I found it hard to read and somewhat clumsy. Too many disparate ideas introduced for no benefit at all... other than sensational parts for the time. As it covers stuff that was deemed 'sensitive', to say the least, during communism, I can see the fascination it produced at the time. That isn't the case anymore though or maybe I see things differently now or a bit of both. The film tries too much to cover many aspects from the book, the result being a concoction of scenes that may make some sense to someone who read the book. Even so this is a film that is difficult to watch and maybe should have never been made.\n",
      "* * * * * * * * * \n",
      "11875\n",
      "George Brent is a reporter sent to interview an heiress. She is supposedly the heir to a face cream fortune. He interviews her on her yacht. They fall for each other in bathing costumes.<br /><br />It turns out (quite early) that she is not an heiress. She part of an advertising campaign for the cold cream.<br /><br />The movie follows the ups and downs of their romance.<br /><br />The supporting cast does little to buoy it up. Davis and Brent carry the picture. Though it's fairly predictable, it is also fairly entertaining. It's far from her best. But, especially considering its obscurity in her oeuvre, it's not one of her worst, either.\n",
      "* * * * * * * * * \n",
      "12323\n",
      "George P. Cosmatos' \\Rambo: First Blood Part II\\\" is pure wish-fulfillment. The United States clearly didn't win the war in Vietnam. They caused damage to this country beyond the imaginable and this movie continues the fairy story of the oh-so innocent soldiers. The only bad guys were the leaders of the nation, who made this war happen. The character of Rambo is perfect to notice this. He is extremely patriotic, bemoans that US-Americans didn't appreciate and celebrate the achievements of the single soldier, but has nothing but distrust for leading officers and politicians. Like every film that defends the war (e.g. \\\"We Were Soldiers\\\") also this one avoids the need to give a comprehensible reason for the engagement in South Asia. And for that matter also the reason for every single US-American soldier that was there. Instead, Rambo gets to take revenge for the wounds of a whole nation. It would have been better to work on how to deal with the memories, rather than suppressing them. \\\"Do we get to win this time?\\\" Yes, you do.\"\n",
      "* * * * * * * * * \n",
      "12458\n",
      "This was a fairly creepy movie; I found the music to be effective for this. The photographs Mario took of the village were also unnerving. However, I had three problems with this film. One is that the lighting was very dark so some of the time it was hard to tell what was going on, but this may have just been my copy. The second is that the very beginning is not explained very well and I'm still not sure what was going on there. The third problem is that I didn't understand the ending, but apparently some people do. Of course there are also the usual problems of people doing stupid things, and the male lead is very 70s. All in all, watchable but not even close to being a favorite.\n",
      "* * * * * * * * * \n",
      "12892\n",
      "Another movie to suffer without an adventure to run, no enigma to solve. Just an illness man, acting like an animal. No a good reason to take this journey. Pitt and Lewis are great actors; magnificent Michelle Forbes but a weak David Duchovny performance...\n",
      "* * * * * * * * * \n",
      "13304\n",
      "I am very disappointed with \\K-911.\\\" The original \\\"good\\\" quality of \\\"K-9\\\" doesn't exist any more. This is more like a sitcom! Some of casts from original movie returned and got some of my memory back. The captain of Dooley now loves to hit him like a scene from old comedy show. That was crazy. What's the deal with the change of Police? It seems like they are now LAPD! Not San Diego PD. It is a completely different movie from \\\"\"\n",
      "* * * * * * * * * \n",
      "13414\n",
      "On Broadway, A Chorus Line was pure magic. From the second the show opened with a spectacular burst of energy to the truly grand finale, a joyous curtain call of all those chorus members who we grew to love during the course of the show, we were totally engaged - captivated by the intensely personal stories, some funny, some clever, some stirring, of this chorus line. The movie is another matter entirely. The focus is now on the director - and WHAT an ogre he is! Every time the film switches to Michael Douglas, there he is with a bitter, sour expression, barking out questions and orders, screaming and yelling whenever he gets the chance. Yikes!! That changes the dynamics of the story. On Broadway, the director was indeed an imperious offstage presence, but he was also sort of a theatrical device to allow the stories of these amazing strong/fragile/intriguing/hilarious chorus line members to be told with insight and clarity. There is a reason this work won the Pulitzer Prize! And actually in one of the only moments the director appears, he is there to comfort the young Puerto Rican Dancer after we hear that dancer's heart-breaking story. He appears again to ultimately express his genuine affection/ concern for Cassie. But in the movie, from the second Douglas' director starts bitterly barking orders, the chorus line members' stories become secondary. It's like they are in a lousy profession, where a jaded director instead of showing the joy at creating a new exciting theatrical show, is jaded, exhausted, furious at having to audition these chorus members. On stage, there was ALWAYS the excitement of the show. Here in the movie practically from the word go, you feel sorry for everyone involved. During the course of the musical, we desperately wished every single one of those chorus members well, and how happy we would have been if they had all gotten the job! But of course that couldn't happen. But in the Finale when they all came back in glorious costume with those amazing spinning mirrors on stage, sometimes reflecting us in the audience, in our hearts, and we know, also in the hearts of all those chorus members both accepted and rejected, they were on stage forever dancing in a profession they loved so much, bringing magic to the theatre. In the movie, after all the misplaced story lines and emphasis, that magic becomes totally diluted. All we feel (even with the exact same curtain call), is that some of the members got a job with a mean-spirited director. So they all come on the screen and are dancing again. Big deal.\n",
      "* * * * * * * * * \n",
      "13727\n",
      "I was really disappointed with this film. The first Waters movie I saw was Serial Mom and I loved it. Then I saw Pecker and I loved it. Then I watched Polyester and really sort of hated it. The only thing I liked about that movie was DIVINE. She/He had a hell of a lot of talent. I was truly surprised. As a whole, I wouldn't recommend this film...\n",
      "* * * * * * * * * \n",
      "13878\n",
      "Remakes (and sequels) have been a staple of Cinema from the beginning of the media. It is pretty much a hit or miss venture though. If you take what's good of the original and build upon it and update key features too current standards, you can have a success. Note, such films like THE THIEF OF BAGDAD (1924/1940) or KING KONG (1933/2005) succeeded in their attempts. Others like KING KONG (1976) fail, miserably.<br /><br />BRIEF ENCOUNTER (1945) is the template for this film. It is as perfect as could be made on such a subject and we rate it IMDb**********Ten. The story is simple, Love, innocently found by accident and tragically lost. Why, it just happened for the two (2) principals involved at the wrong time. These are portrayed in a convincing and sensitive manner by TREVOR HOWARD and CECILIA JOHNSON. Neither are conventionally leading Star material, but quality Character Actors. For the details watch the film.<br /><br />Now what went wrong? A T.V. Movie, remade practically scene for scene with name actors RICHARD BURTON and SOPHIA LOREN should have at least scored IMDb******Six. Both actors though appear disinterested, just showing up to punch their time-clocks and pick up their checks. Neither are involved with their characters or with each other. You do not believe they are in Love or when they finally separate it is any great loss to either of them. That should not be and that's why it fails in its intent. Sometimes it is just better to leave things alone.\n",
      "* * * * * * * * * \n",
      "14469\n",
      "Essentially a story of man versus nature, this film has beautiful cinematography, the lush jungles of Ceylon and the presence of Elizabeth Taylor but the film really never gets going. Newlwed Taylor is ignored and neglected by her husband and later is drawn to the plantation's foreman, played by Dana Andrews. The plantation is under the spell of owner Peter Finch's late father whose ghost casts a pall over Elephant Walk that becomes a major point of contention between Taylor and Finch. The elephants are determined to reclaim their traditional path to water that was blocked when the mansion was built across their right-of-way. The beasts go on a rampage and provides the best moments of action in the picture. Taylor and Andrews have some good moments as she struggles to remain a faithful wife in spite of he marital difficulties with Finch.\n",
      "* * * * * * * * * \n",
      "14758\n",
      "i just saw Dick Tracy and I thought it was terrible. The paintings in the background of the cities looked awful. Also the mob characters looked too weird. Warren Beatty didn't do an awful job as Dick Tracy but it was definetely not one of his better performances. Madonna should just stick to singing. Glenne Headly did a good job in this movie. I gave this movie a 2/10 just because of the amazing acting by Al Pacino. It wasn't a high note in his career but he still did a good job.\n",
      "* * * * * * * * * \n",
      "14811\n",
      "This movie shows us nothing original. Every idea or (action) scene can be found in many previously released movies. Fabulous Nick is completely plain here. Even Will Patton is calm and evil nor good. Mr. Duvall is ok, but has a very small part. So does Angelina, so how can we determine her newly acclaimed stardom? Overall, there are too many characters, so that nobody and nothing is especially detailed. This makes the movie easy to forget. Too bad, don't you think?\n",
      "* * * * * * * * * \n",
      "14943\n",
      "For those who like depressing films with sleazy characters and a sordid storyline, this one is for you! From the bleak New York City atmosphere, which comes across as an extremely grim and almost hopeless place, to two diverse lead characters devoid of much sense of morality, this movie is a real downer. <br /><br />Why it won the Academy Award was because it was so shocking at that time that Hollywood, brand new its freedom to show anything it wanted with all moral codes abandoned, wanted to celebrate that fact. Filmmakers then were like an immature six-year-old with an unlimited expense account at the local candy store. So, Hollywood gave theater viewers (for probably the first time) a dose of rape, prostitution, homosexuality, child nudity, homeless existence and other such wonderful sights and sounds only its twisted brain would think is appealing....and then awarded its work. <br /><br />It also hoped, I'm sure, to shock mainstream audiences. Well, it succeeded on that level. Audiences were stunned at what they say and heard and the Academy, proud of itself for being able to display filth and make money at the same time, couldn't help but bestow honors upon this piece of gilded garbage.<br /><br />Forty years ago, as a very young man, I found this film fascinating, too. However, seeing it again in the 1990s left such a bad taste in my mouth I never watched to view it again. <br /><br />The acting was good, but so what? Acting is good in many films. Nobody ever said Dustin Hoffman and Jon Voight couldn't act. Hoffman was particularly good in his younger days in playing wacked-out people. He was kind of like the Johnny Depp of his era, playing guys like \\Ratso Rizzo\\\" in this film and then going to be the \\\"Rain Man\\\" later on. Yes, \\\"Ratso\\\" is a character you'll never forget, and \\\"Joe Buck\\\" (Voight) is one you want to forget, but the story is so sordid, it overwhelms the fine acting.<br /><br />This movie isn't \\\"art,\\\" and it isn't worthy of its many awards; it only pushed the envelope big-time in 1969 and that's why it is so fondly remembered in the hearts of film people and critics. It's two hours of profanity and ultra-sleazy, religious cheap shots, glorifying weirdos (Andy Warhol even gets in the act - no surprise), and generally despicable people.<br /><br />I did like the catchy song, \\\"Everybody's Talking'\\\" that helped make Harry Nilsson famous, but even that was bogus because Fred Neil wrote the song and sang it better, before Nilsson did it....and few people have ever heard of Neil (which is their loss). And - as mentioned - the name \\\"Ratso Rizzo\\\" kind of stays with you!<br /><br />The film is a landmark, but in a negative sense, I fear: this marked it as \\\"official\\\" that Hollywood had gone down the toilet, and it has remained in the sewer ever since.\"\n",
      "* * * * * * * * * \n",
      "15020\n",
      "This movie was so unrelentingly bad, I could hardly believe I was watching it. The directing, editing, production, and script all seemed as though they had been done by junior high school students who don't know all that much about movies. There was no narrative flow that made any sort of sense. Big emotional moments and climaxes (like one early on between Heath Ledger and Naomi Watts) and character relationships (like one hinted at at the very beginning) come completely out of no where and are not set up like they would have been in a more elegantly and effectively made film. The characters are sadly underdeveloped, making it difficult for us to have any sort of connection with them. The acting, surprisingly, is not entirely bad, but the terrible writing cancels out the relatively convincing performances. The film plays like a particularly bad T.V. western/epic, and sadly diminishes the fascinating (true) story that it attempts to tell. I have read a lot of reviews that defend the film as being important to Australians because of the subject matter. That's all very well, but just because Ned Kelly is an important Australian historical icon DOESN'T MAKE THE MOVIE GOOD. No one is saying that the subject matter isn't good, just the quality of the movie itself. Pearl Harbor was about a very important historical event to Americans, but that doesn't mean I'm going to defend the movie and say it was good, because it was still bad. A failure all around, though Heath and Orlando are lovely to look at.\n",
      "* * * * * * * * * \n",
      "15046\n",
      "I recently watched Belle Epoque, thinking it might be wonderful as it did win an Oscar for Best Foreign Language Film. I was a bit underwhelmed by the predictability and simplicity of the film. Maybe the conflict I had was that from the time the movie was filmed to now, the plot of a man falling for beautiful women and eventually falling for the good girl has been done so many times. Aside from predictability of the plot, some scenes in the film felt really out of place with the storyline (ex. a certain event at the wedding). At times the film was a bit preachy in it's ideas and in relation to the Franco era the film was set in and the Church. The only thing the film had going for it was the cutesy moments, the scenery, and the character of Violeta being a strong, independent woman during times when women were not really associated with those characteristics.\n",
      "* * * * * * * * * \n",
      "15220\n",
      "Anyone who has a remote interest in science fiction should start at the basics. Everyone says STAR WARS and STAR TREK are the best science fiction films to begin at, which is fine but the truth is THE TERMINATOR and this movie, SOYLENT GREEN, are far better choices than those series. SOYLENT is probably science fiction 's best kept secret. It remains one of the biggest, yet most forgotten films but the impact of its setting is becoming more a reality with each passing day. Charlton Heston overdramatizes his role, yet it works. Edward G. Robinson, in his final role, makes the most out of it in SOYLENT GREEN more than anyone else and his final scenes are touching.<br /><br />It is Manhattan in 2022, the world is overcrowded and food is an unbelievable fortune (a small jar of strawberry jam costs $150). A big executive for the Soylent company is murdered and police detective Thorn is on the case.<br /><br />The secret of soylent green is not a mystery if you do research on the movie. SOYLENT is enjoyable to watch, but the whole screenplay is a joke. It is just as cheap as the entire production. The screenplay and the over dramatics of the actors made the movie, yet were completely hilarious. Everyone seems to be a moron and no one knows the rules, specifically cop Thorn who likes to just waltz into people 's apartments, peruse around shamelessly and steal anything he wants. The character 's interactions keeps your attention on the movie, but still you realize that SOYLENT GREEN sucks. An enjoyable piece if you have the time, but do not expect anything more.\n",
      "* * * * * * * * * \n",
      "15323\n",
      "This was a disappointment - none of the nuance of the original. The Brits just seem to be able to make a truly unsettling film with none of the over-the-top histrionics of the American version. The original series combined both creepy stories and subtlety of performance with great attention to lighting and settings. I have watched the series many times and am still enthralled.<br /><br />Just another poor adaptation along the lines of the dreadful adaptation of \\Cracker\\\". Get hooked up with BBC America or BBC Canada and watch for such delights as Waking the Dead, Spooks, Silent Witness, and Judge John Deed. Watch the original Touching Evil, then look for \\\"Wire in the Blood\\\" for more of the truly understated, elegant performance of Robson Green. Hollywood needs to have a look at this actor!\"\n",
      "* * * * * * * * * \n",
      "15454\n",
      "This is an attempt, by both author Edgar Rice Burroughs and filmmakers, at an Arabian \\Tarzan of the Apes\\\". But, this desert-set film shows none of the majesty present in Burroughs' more successful jungle adventure. The focus is on the love between handsome English noble Jon Hall (as \\\"El 'Lion\\\" Chatham) and exotic Arab beauty Kathleen Burke (as \\\"Princess\\\" Eulilah), with revenge happening to coincide with their urge to merge. The opening states that, although guilty of conduct unbecoming, the lad's mother is living - but, she never re-enters the picture. Unfortunately, \\\"The Lion Man\\\" has deteriorated, and is looks like it's missing footage.<br /><br />*** The Lion Man (1936) John P. McCarthy ~ Jon Hall, Kathleen Burke, Ted Adams\"\n",
      "* * * * * * * * * \n",
      "15704\n",
      "When I first saw this film, I thought it should have come from the children's section - It's very fun and at times humorous, and is actually quite a good story, but it severely lacks the \\romantic chemistry\\\" that actors like Meg Ryan and Tim Robbins are capable of delivering. I must note that Walter Matthau is perfect for the part of Albert Einstein, and his performance is extraordinary, but that's the sole exception. This film appears a bit forced, the directing lacks substance, and oh yeah...the music is ridiculously awful, it didn't put me in a very good mood. But if you are not expecting a smart, well-crafted comedy/romance tale, then this certainly can be entertaining, like I said..it should be in the children's section. Einstein and his buddies are a good relief from Tim Robbins' boring, almost tense quest to steal Meg Ryan's heart. A very conflicting film, but as long as it's not taken seriously this can be an alright movie.\"\n",
      "* * * * * * * * * \n",
      "15813\n",
      "I haven't seen this movie in a while, so I'm afraid I can't be very specific about details... It did have some interesting points. Ralph Bakshi's attempt at an animated adaptation of J.R.R Tolkien's masterpiece was a very ambitious project, so ambitious in fact that it went bankrupt at some point during the production. Therefore, not only does it stop abruptly somewhere around the middle of the second book of the trilogy (with sort of a shade of a hint of a sequel that was never made), the film itself seems less than finished. It seems that some characters were animated while others were filmed, but whether or not it's intentional is hard to say. The whole thing seems shabbily made and undone, especially the Orcs and the Nazgul. Another problem, of course, is the huge gaps in the plot. Bakshi was in a rush to finish this movie, and he somehow hoped to cram a book and a half in little more than two hours (the new trilogy by Peter Jackson does it in about twice that time.) Far too many important bits were left out (and I don't refer only to Tom Bombadil, which, I think, was lovely in the book but would look silly in a movie.) And of course, the ending, which is completely sudden and out of place. I'm not even sure if Bakshi originally intended to end the film there, or if he even had any idea where he's going to end it.<br /><br />The characters... well, most of them were okay. The hobbits don't look so bad (except for the gay Sam. Did you know that the producers of the new trilogy originally wanted to make Sam a woman so there would be a feminine lead character?) If you're a Tolkien fanatic (like me), watch this movie (though I'm not too sure about buying it. What special features does the DVD version have, anyway?) But know in advance that you're not going to watch a real 'Lord Of The Rings Movie' but not much more than a historical curiosity, which probably looks not much better than the 60s version would have had the Beatles carried on with their plan (I actually think a psychedelic LOTR could have been quite cool. The idea was to cast George as Gandalf, Paul as Frodo, Ringo as Sam and John as Gollum.) If you didn't read the book or didn't like it much or don't like animation films or don't want to see a half-finished movie... stay away.\n",
      "* * * * * * * * * \n"
     ]
    },
    {
     "name": "stdout",
     "output_type": "stream",
     "text": [
      "16735\n",
      "The first part of Grease with John Travolta and Olivia Newton John is one of the best movie for teens, This one is a very bad copy. The change is only in the sex. In the first one the good one was Sandy, here it's Michael. I prefer to watch the first Grease.\n",
      "* * * * * * * * * \n",
      "17414\n",
      "My girlfriend picked this one; as a southern born and raised African American I found this movie's plot and premise totally without credibility. To believe that class and racial biases would be so easily and comfortably suspended would only come from someone totally unfamiliar with the ante-bellum south. Totally absurd !!! I wonder how they got a good actor like Harvey Keitel and a good actress like Andie McDowell (who being southern knows better) to participate in this crap\n",
      "* * * * * * * * * \n",
      "17559\n",
      "This movie is really goofy! I saw it as an 11 year old, and even then I thought it was pretty ridiculous! I would only recommend this film to kids under the age of 12. I really didn't care for it, but I do think that it answers some very good questions that kids need to be aware of, such as: 1)Does money buy happiness? 2)Should I lie (to my parents) about things I think they wouldn't approve of? 3)Does money buy friendships? 4)Is money everything? 5)Shouldn't I tell my parents when someone is trying to hurt me? Granted, these are very unrealistic situations, but I do think that if parents discussed these issues with their children, maybe they should watch this video as well, in order to show/scare their kids that lies have the potential to get you hurt.\n",
      "* * * * * * * * * \n",
      "17960\n",
      "It's a good movie if you plan to watch lots of landscapes and animals, like an animal documentary. And making Pierce Brosnan an indian make you wonder 'Does all those people don't recognize if someone isn't indian at plain sight?'\n",
      "* * * * * * * * * \n",
      "18350\n",
      "The fine cast cannot uplift this routine tale of a secretary murdered by her married paramour. In fact there are more questions than answers in this one-sided tale of romance and murder; and since we are only provided with the prosecution's side, none of these questions will be answered. This is the type of fare that appeals to the \\He Woman, Man Hater\\\" clubs of America. As presented, it is the tale of an innocent woman who just happens to be \\\"caught up\\\" in a romance with a married, high-profile attorney. Is it possible that IF, she had not been two timing her boy friend and having an affair with a married man, the whole nasty murderous, sordid incident could have been avoided? When you watch this, don't worry about going to the 'fridge, you won't miss anything.\"\n",
      "* * * * * * * * * \n",
      "18401\n",
      "The secret is...this movie blows. Sorry, but it just did. <br /><br />****SPOILER****<br /><br />In this bad riff on I KNOW WHAT YOU DID LAST SUMMER and SCREAM, Beth, played admirably by Dorie Barton, joins several friends on a Spring Break trip. The group rents a fancy house and tries to enjoy a fun vacation. Then, the deaths begin. First one then another then another of the friends is murdered, leading to a sad and trite climax with predictable results. <br /><br />One note, Dorie Barton is the poor man's Reese Witherspoonshe looks like Reese, acts like Reese and could pass for Reese in a police lineup. Maybe that's how they cast her? Anyhoo, decent cinematography and fair acting could not quite make up for bad dialog and terrible writing.\n",
      "* * * * * * * * * \n",
      "19316\n",
      "Bad Movie - saw it at the TIFF and the movie gives me a sense of 'been there done that' - it reminds me alot of the movie Blow - expect the Blow was actually interesting.<br /><br />This one story told two ways and both times it is not told that well.<br /><br />\n",
      "* * * * * * * * * \n",
      "19533\n",
      "The concept for Sarafina appears to be a sound one, that is aside from the musical perspective. It attempts to combine upbeat African music with a story describing the atrocious conditions and atmosphere that black people were forced to endure at the time the film was set. The contradictions of each of the two elements are too glaring and the film never justifies such rapid shifts between jubilation and terror. Had it simply been a drama reflecting these conditions it may have been a good film, however the scenes of school children being shot down by soldiers don't exactly sit well next to the songs. <br /><br />Aside from the poor premise the acting isn't the best either, Goldberg gives a mediocre performance as does the remainder of the cast. Overall a disappointment.<br /><br />3/10\n",
      "* * * * * * * * * \n",
      "19569\n",
      "Sorry to go against the flow but I thought this film was unrealistic, boring and way too long. I got tired of watching Gena Rowlands long arduous battle with herself and the crisis she was experiencing. Maybe the film has some cinematic value or represented an important step for the director but for pure entertainment value I wish I would have skipped it.\n",
      "* * * * * * * * * \n"
     ]
    }
   ],
   "source": [
    "# false positives\n",
    "\n",
    "print(\"Examples of false positives:\")\n",
    "\n",
    "import random, time\n",
    "\n",
    "for i in range(0, len(ols_predictions)):\n",
    "    if (ols_predictions[i] == 1):\n",
    "        if (X_raw_train.iloc[i]['sentiment'] == 0):\n",
    "            if (random.uniform(0, 1) < 0.5): # to print only 5% of the false positives\n",
    "                print(i)\n",
    "                print(X_raw_train.iloc[i]['review'])\n",
    "                print('* * * * * * * * * ')\n"
   ]
  },
  {
   "cell_type": "markdown",
   "metadata": {},
   "source": [
    "---\n",
    "\n",
    "# <span style=\"color:red\">WARNING: Don't look at test set performance too much!</span>\n",
    "\n",
    "---\n",
    "\n",
    "The following cells show performance on your test set. Do not look at this too often! "
   ]
  },
  {
   "cell_type": "markdown",
   "metadata": {},
   "source": [
    "# Look at performance on the test set"
   ]
  },
  {
   "cell_type": "markdown",
   "metadata": {},
   "source": [
    "### MODEL: ordinary least squares"
   ]
  },
  {
   "cell_type": "code",
   "execution_count": 359,
   "metadata": {},
   "outputs": [
    {
     "name": "stdout",
     "output_type": "stream",
     "text": [
      "{'Pos': 2535, 'Neg': 2465, 'TP': 1350, 'TN': 1123, 'FP': 1342, 'FN': 1185, 'Accuracy': 0.4946, 'Precision': 0.5014858841010401, 'Recall': 0.5325443786982249, 'desc': 'ols_test'}\n"
     ]
    }
   ],
   "source": [
    "ols_performance_test = BinaryClassificationPerformance(ols.predict(X_test), y_test, 'ols_test')\n",
    "ols_performance_test.compute_measures()\n",
    "print(ols_performance_test.performance_measures)"
   ]
  },
  {
   "cell_type": "markdown",
   "metadata": {},
   "source": [
    "### MODEL: SVM, linear"
   ]
  },
  {
   "cell_type": "code",
   "execution_count": 360,
   "metadata": {},
   "outputs": [
    {
     "name": "stdout",
     "output_type": "stream",
     "text": [
      "{'Pos': 2535, 'Neg': 2465, 'TP': 2090, 'TN': 2050, 'FP': 415, 'FN': 445, 'Accuracy': 0.828, 'Precision': 0.8343313373253493, 'Recall': 0.8244575936883629, 'desc': 'svm_test'}\n"
     ]
    }
   ],
   "source": [
    "svm_performance_test = BinaryClassificationPerformance(svm.predict(X_test), y_test, 'svm_test')\n",
    "svm_performance_test.compute_measures()\n",
    "print(svm_performance_test.performance_measures)"
   ]
  },
  {
   "cell_type": "markdown",
   "metadata": {},
   "source": [
    "### MODEL: logistic regression"
   ]
  },
  {
   "cell_type": "code",
   "execution_count": 361,
   "metadata": {},
   "outputs": [
    {
     "name": "stdout",
     "output_type": "stream",
     "text": [
      "{'Pos': 2535, 'Neg': 2465, 'TP': 2105, 'TN': 2048, 'FP': 417, 'FN': 430, 'Accuracy': 0.8306, 'Precision': 0.8346550356859636, 'Recall': 0.8303747534516766, 'desc': 'lgs_test'}\n"
     ]
    }
   ],
   "source": [
    "lgs_performance_test = BinaryClassificationPerformance(lgs.predict(X_test), y_test, 'lgs_test')\n",
    "lgs_performance_test.compute_measures()\n",
    "print(lgs_performance_test.performance_measures)"
   ]
  },
  {
   "cell_type": "markdown",
   "metadata": {},
   "source": [
    "### MODEL: Naive Bayes"
   ]
  },
  {
   "cell_type": "code",
   "execution_count": 362,
   "metadata": {},
   "outputs": [
    {
     "name": "stdout",
     "output_type": "stream",
     "text": [
      "{'Pos': 2535, 'Neg': 2465, 'TP': 1825, 'TN': 1833, 'FP': 632, 'FN': 710, 'Accuracy': 0.7316, 'Precision': 0.7427757427757428, 'Recall': 0.7199211045364892, 'desc': 'nbs_test'}\n"
     ]
    }
   ],
   "source": [
    "nbs_performance_test = BinaryClassificationPerformance(nbs.predict(X_test), y_test, 'nbs_test')\n",
    "nbs_performance_test.compute_measures()\n",
    "print(nbs_performance_test.performance_measures)"
   ]
  },
  {
   "cell_type": "markdown",
   "metadata": {},
   "source": [
    "### MODEL: Perceptron"
   ]
  },
  {
   "cell_type": "code",
   "execution_count": 363,
   "metadata": {},
   "outputs": [
    {
     "name": "stdout",
     "output_type": "stream",
     "text": [
      "{'Pos': 2535, 'Neg': 2465, 'TP': 2114, 'TN': 2055, 'FP': 410, 'FN': 421, 'Accuracy': 0.8338, 'Precision': 0.8375594294770206, 'Recall': 0.8339250493096647, 'desc': 'prc_test'}\n"
     ]
    }
   ],
   "source": [
    "prc_performance_test = BinaryClassificationPerformance(prc.predict(X_test), y_test, 'prc_test')\n",
    "prc_performance_test.compute_measures()\n",
    "print(prc_performance_test.performance_measures)"
   ]
  },
  {
   "cell_type": "markdown",
   "metadata": {},
   "source": [
    "### MODEL: Ridge Regression Classifier"
   ]
  },
  {
   "cell_type": "code",
   "execution_count": 364,
   "metadata": {},
   "outputs": [
    {
     "name": "stdout",
     "output_type": "stream",
     "text": [
      "{'Pos': 2535, 'Neg': 2465, 'TP': 0, 'TN': 2465, 'FP': 0, 'FN': 2535, 'Accuracy': 0.493, 'Precision': nan, 'Recall': 0.0, 'desc': 'rdg_test'}\n"
     ]
    },
    {
     "name": "stderr",
     "output_type": "stream",
     "text": [
      "/Users/jeremyodell/Desktop/ML/ml/final_assignment_1/my_measures.py:25: RuntimeWarning: invalid value encountered in long_scalars\n",
      "  self.performance_measures['Precision'] = self.performance_measures['TP'] / (self.performance_measures['TP'] + self.performance_measures['FP'])\n"
     ]
    }
   ],
   "source": [
    "rdg_performance_test = BinaryClassificationPerformance(rdg.predict(X_test), y_test, 'rdg_test')\n",
    "rdg_performance_test.compute_measures()\n",
    "print(rdg_performance_test.performance_measures)"
   ]
  },
  {
   "cell_type": "markdown",
   "metadata": {},
   "source": [
    "### MODEL: Random Forest Classifier"
   ]
  },
  {
   "cell_type": "code",
   "execution_count": 365,
   "metadata": {},
   "outputs": [
    {
     "name": "stdout",
     "output_type": "stream",
     "text": [
      "{'Pos': 2535, 'Neg': 2465, 'TP': 1887, 'TN': 1911, 'FP': 554, 'FN': 648, 'Accuracy': 0.7596, 'Precision': 0.7730438344940598, 'Recall': 0.744378698224852, 'desc': 'rdf_test'}\n"
     ]
    }
   ],
   "source": [
    "rdf_performance_test = BinaryClassificationPerformance(rdf.predict(X_test), y_test, 'rdf_test')\n",
    "rdf_performance_test.compute_measures()\n",
    "print(rdf_performance_test.performance_measures)"
   ]
  },
  {
   "cell_type": "markdown",
   "metadata": {},
   "source": [
    "### ROC plot to compare performance of various models and fits"
   ]
  },
  {
   "cell_type": "code",
   "execution_count": 366,
   "metadata": {},
   "outputs": [
    {
     "data": {
      "image/png": "[encoded data removed]",
      "text/plain": [
       "<Figure size 432x288 with 1 Axes>"
      ]
     },
     "metadata": {
      "needs_background": "light"
     },
     "output_type": "display_data"
    }
   ],
   "source": [
    "fits = [rdg_performance_test]\n",
    "\n",
    "for fit in fits:\n",
    "    plt.plot(fit.performance_measures['FP'] / fit.performance_measures['Neg'], \n",
    "             fit.performance_measures['TP'] / fit.performance_measures['Pos'], 'bo')\n",
    "    plt.text(fit.performance_measures['FP'] / fit.performance_measures['Neg'], \n",
    "             fit.performance_measures['TP'] / fit.performance_measures['Pos'], fit.desc)\n",
    "plt.axis([0, 1, 0, 1])\n",
    "plt.title('ROC plot: test set')\n",
    "plt.xlabel('False positive rate')\n",
    "plt.ylabel('True positive rate')\n",
    "plt.show()"
   ]
  },
  {
   "cell_type": "markdown",
   "metadata": {},
   "source": [
    "---\n",
    "\n",
    "# <span style=\"color:red\">SUBMISSION</span>\n",
    "\n",
    "---"
   ]
  },
  {
   "cell_type": "code",
   "execution_count": 367,
   "metadata": {},
   "outputs": [
    {
     "name": "stdout",
     "output_type": "stream",
     "text": [
      "movie_data is: <class 'pandas.core.frame.DataFrame'>\n",
      "movie_data has 25000 rows and 2 columns \n",
      "\n",
      "the data types for each of the columns in movie_data:\n",
      "id        object\n",
      "review    object\n",
      "dtype: object \n",
      "\n",
      "the first 10 rows in movie_data:\n",
      "         id                                             review\n",
      "0  12311_10  Naturally in a film who's main themes are of m...\n",
      "1    8348_2  This movie is a disaster within a disaster fil...\n",
      "2    5828_4  All in all, this is a movie for kids. We saw i...\n",
      "3    7186_2  Afraid of the Dark left me with the impression...\n",
      "4   12128_7  A very accurate depiction of small time mob li...\n",
      "Shape of HashingVectorizer X:\n",
      "(25000, 131072)\n",
      "Look at a few rows of the new quantitative features: \n",
      "   word_count  punc_count\n",
      "0         131           5\n",
      "1         169          15\n",
      "2         176          18\n",
      "3         112           5\n",
      "4         133           8\n",
      "5         331          20\n",
      "6         121          18\n",
      "7         230          22\n",
      "8          59           3\n",
      "9         224          14\n",
      "Size of combined bag of words and new quantitative variables matrix:\n",
      "(25000, 131074)\n",
      "(25000, 131074)\n",
      "Shape of X_test for submission:\n",
      "(25000, 131074)\n",
      "SUCCESS!\n",
      "Number of rows in the submission test set (should be 25,000): \n"
     ]
    }
   ],
   "source": [
    "# read in test data for submission\n",
    "# CHANGE FILE PATH and my_random_seed number (any integer other than 74 will do): \n",
    "raw_data, X_test_submission = process_raw_data(fn='../data/moviereviews_test.tsv', my_random_seed=999, test=True)\n",
    "print(\"Number of rows in the submission test set (should be 25,000): \")"
   ]
  },
  {
   "cell_type": "markdown",
   "metadata": {},
   "source": [
    "---\n",
    "\n",
    "Choose a <span style=\"color:red\">*single*</span> model for your submission. In this code, I am choosing the Ordinary Least Squares model fit, which is in the `ols` object. But you should choose the model that is performing the best for you! "
   ]
  },
  {
   "cell_type": "code",
   "execution_count": 368,
   "metadata": {},
   "outputs": [
    {
     "name": "stdout",
     "output_type": "stream",
     "text": [
      "0.52076\n"
     ]
    }
   ],
   "source": [
    "# store the id from the raw data\n",
    "my_submission = pd.DataFrame(raw_data[\"id\"])\n",
    "# concatenate predictions to the id\n",
    "my_submission[\"prediction\"] = ols.predict(X_test_submission)\n",
    "# look at the proportion of positive predictions\n",
    "print(my_submission['prediction'].mean())"
   ]
  },
  {
   "cell_type": "code",
   "execution_count": 369,
   "metadata": {},
   "outputs": [
    {
     "data": {
      "text/html": [
       "<div>\n",
       "<style scoped>\n",
       "    .dataframe tbody tr th:only-of-type {\n",
       "        vertical-align: middle;\n",
       "    }\n",
       "\n",
       "    .dataframe tbody tr th {\n",
       "        vertical-align: top;\n",
       "    }\n",
       "\n",
       "    .dataframe thead th {\n",
       "        text-align: right;\n",
       "    }\n",
       "</style>\n",
       "<table border=\"1\" class=\"dataframe\">\n",
       "  <thead>\n",
       "    <tr style=\"text-align: right;\">\n",
       "      <th></th>\n",
       "      <th>id</th>\n",
       "      <th>review</th>\n",
       "      <th>word_count</th>\n",
       "      <th>punc_count</th>\n",
       "    </tr>\n",
       "  </thead>\n",
       "  <tbody>\n",
       "    <tr>\n",
       "      <th>0</th>\n",
       "      <td>12311_10</td>\n",
       "      <td>Naturally in a film who's main themes are of m...</td>\n",
       "      <td>131</td>\n",
       "      <td>5</td>\n",
       "    </tr>\n",
       "    <tr>\n",
       "      <th>1</th>\n",
       "      <td>8348_2</td>\n",
       "      <td>This movie is a disaster within a disaster fil...</td>\n",
       "      <td>169</td>\n",
       "      <td>15</td>\n",
       "    </tr>\n",
       "    <tr>\n",
       "      <th>2</th>\n",
       "      <td>5828_4</td>\n",
       "      <td>All in all, this is a movie for kids. We saw i...</td>\n",
       "      <td>176</td>\n",
       "      <td>18</td>\n",
       "    </tr>\n",
       "    <tr>\n",
       "      <th>3</th>\n",
       "      <td>7186_2</td>\n",
       "      <td>Afraid of the Dark left me with the impression...</td>\n",
       "      <td>112</td>\n",
       "      <td>5</td>\n",
       "    </tr>\n",
       "    <tr>\n",
       "      <th>4</th>\n",
       "      <td>12128_7</td>\n",
       "      <td>A very accurate depiction of small time mob li...</td>\n",
       "      <td>133</td>\n",
       "      <td>8</td>\n",
       "    </tr>\n",
       "  </tbody>\n",
       "</table>\n",
       "</div>"
      ],
      "text/plain": [
       "         id                                             review  word_count  \\\n",
       "0  12311_10  Naturally in a film who's main themes are of m...         131   \n",
       "1    8348_2  This movie is a disaster within a disaster fil...         169   \n",
       "2    5828_4  All in all, this is a movie for kids. We saw i...         176   \n",
       "3    7186_2  Afraid of the Dark left me with the impression...         112   \n",
       "4   12128_7  A very accurate depiction of small time mob li...         133   \n",
       "\n",
       "   punc_count  \n",
       "0           5  \n",
       "1          15  \n",
       "2          18  \n",
       "3           5  \n",
       "4           8  "
      ]
     },
     "execution_count": 369,
     "metadata": {},
     "output_type": "execute_result"
    }
   ],
   "source": [
    "raw_data.head()"
   ]
  },
  {
   "cell_type": "code",
   "execution_count": 370,
   "metadata": {},
   "outputs": [
    {
     "data": {
      "text/html": [
       "<div>\n",
       "<style scoped>\n",
       "    .dataframe tbody tr th:only-of-type {\n",
       "        vertical-align: middle;\n",
       "    }\n",
       "\n",
       "    .dataframe tbody tr th {\n",
       "        vertical-align: top;\n",
       "    }\n",
       "\n",
       "    .dataframe thead th {\n",
       "        text-align: right;\n",
       "    }\n",
       "</style>\n",
       "<table border=\"1\" class=\"dataframe\">\n",
       "  <thead>\n",
       "    <tr style=\"text-align: right;\">\n",
       "      <th></th>\n",
       "      <th>id</th>\n",
       "      <th>prediction</th>\n",
       "    </tr>\n",
       "  </thead>\n",
       "  <tbody>\n",
       "    <tr>\n",
       "      <th>0</th>\n",
       "      <td>12311_10</td>\n",
       "      <td>0</td>\n",
       "    </tr>\n",
       "    <tr>\n",
       "      <th>1</th>\n",
       "      <td>8348_2</td>\n",
       "      <td>1</td>\n",
       "    </tr>\n",
       "    <tr>\n",
       "      <th>2</th>\n",
       "      <td>5828_4</td>\n",
       "      <td>0</td>\n",
       "    </tr>\n",
       "    <tr>\n",
       "      <th>3</th>\n",
       "      <td>7186_2</td>\n",
       "      <td>1</td>\n",
       "    </tr>\n",
       "    <tr>\n",
       "      <th>4</th>\n",
       "      <td>12128_7</td>\n",
       "      <td>1</td>\n",
       "    </tr>\n",
       "  </tbody>\n",
       "</table>\n",
       "</div>"
      ],
      "text/plain": [
       "         id  prediction\n",
       "0  12311_10           0\n",
       "1    8348_2           1\n",
       "2    5828_4           0\n",
       "3    7186_2           1\n",
       "4   12128_7           1"
      ]
     },
     "execution_count": 370,
     "metadata": {},
     "output_type": "execute_result"
    }
   ],
   "source": [
    "my_submission.head()"
   ]
  },
  {
   "cell_type": "code",
   "execution_count": 371,
   "metadata": {},
   "outputs": [
    {
     "data": {
      "text/plain": [
       "(25000, 2)"
      ]
     },
     "execution_count": 371,
     "metadata": {},
     "output_type": "execute_result"
    }
   ],
   "source": [
    "my_submission.shape"
   ]
  },
  {
   "cell_type": "code",
   "execution_count": 372,
   "metadata": {},
   "outputs": [],
   "source": [
    "# export submission file as pdf\n",
    "# CHANGE FILE PATH: \n",
    "# my_submission.to_csv('/home/ec2-user/data/moviereviews_submission.csv', index=False)"
   ]
  },
  {
   "cell_type": "markdown",
   "metadata": {},
   "source": [
    "# Submit to Canvas: 1) the CSV file that was written in the previous cell and 2) the url to the repository (GitHub or other) that contains your code and documentation"
   ]
  }
 ],
 "metadata": {
  "kernelspec": {
   "display_name": "Python 3 (ipykernel)",
   "language": "python",
   "name": "python3"
  },
  "language_info": {
   "codemirror_mode": {
    "name": "ipython",
    "version": 3
   },
   "file_extension": ".py",
   "mimetype": "text/x-python",
   "name": "python",
   "nbconvert_exporter": "python",
   "pygments_lexer": "ipython3",
   "version": "3.9.7"
  }
 },
 "nbformat": 4,
 "nbformat_minor": 2
}
