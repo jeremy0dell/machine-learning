{
 "cells": [
  {
   "cell_type": "markdown",
   "metadata": {},
   "source": [
    "# Movie reviews\n",
    "\n",
    "This notebook takes you though a complete iteration of Machine Learning Assignment 1 - Movie reviews. The assignment details (including links to download the data) can be found [here](https://docs.google.com/document/d/1WGYw99e5q6j5V0Zrf2HveagU6URt_kVvdR8B9HYQ99E/edit?usp=sharing). "
   ]
  },
  {
   "cell_type": "code",
   "execution_count": 373,
   "metadata": {},
   "outputs": [],
   "source": [
    "# all imports and magic commands\n",
    "import numpy as np\n",
    "import pandas as pd\n",
    "import matplotlib.pyplot as plt\n",
    "from my_measures import BinaryClassificationPerformance\n",
    "from sklearn.feature_extraction.text import HashingVectorizer\n",
    "from sklearn.feature_extraction.text import CountVectorizer\n",
    "from sklearn.feature_extraction.text import TfidfTransformer\n",
    "from scipy.sparse import csr_matrix, hstack\n",
    "from sklearn.preprocessing import StandardScaler\n",
    "from sklearn.model_selection import train_test_split\n",
    "%matplotlib inline"
   ]
  },
  {
   "cell_type": "code",
   "execution_count": 374,
   "metadata": {},
   "outputs": [
    {
     "name": "stdout",
     "output_type": "stream",
     "text": [
      "['assult' 'astray' 'asunder' 'atrocious' 'atrocities' 'atrocity' 'atrophy'\n",
      " 'attack' 'attacks' 'audacious' 'audaciously' 'audaciousness' 'audacity'\n",
      " 'audiciously' 'austere' 'authoritarian' 'autocrat' 'autocratic'\n",
      " 'avalanche' 'avarice' 'avaricious' 'avariciously' 'avenge' 'averse'\n",
      " 'aversion' 'aweful' 'awful' 'awfully' 'awfulness' 'awkward' 'awkwardness'\n",
      " 'ax' 'babble' 'back-logged' 'back-wood' 'back-woods' 'backache'\n",
      " 'backaches' 'backaching' 'backbite' 'backbiting' 'backward'\n",
      " 'backwardness' 'backwood' 'backwoods' 'bad' 'badly' 'baffle' 'baffled'\n",
      " 'bafflement' 'baffling' 'bait' 'balk' 'banal' 'banalize' 'bane' 'banish'\n",
      " 'banishment' 'bankrupt' 'barbarian' 'barbaric' 'barbarically' 'barbarity'\n",
      " 'barbarous' 'barbarously' 'barren' 'baseless' 'bash' 'bashed' 'bashful'\n",
      " 'bashing' 'bastard' 'bastards' 'battered' 'battering' 'batty' 'bearish'\n",
      " 'beastly' 'bedlam' 'bedlamite' 'befoul' 'beg' 'beggar' 'beggarly'\n",
      " 'begging' 'beguile' 'belabor' 'belated' 'beleaguer' 'belie' 'belittle'\n",
      " 'belittled' 'belittling' 'bellicose' 'belligerence' 'belligerent'\n",
      " 'belligerently' 'bemoan' 'bemoaning' 'bemused']\n"
     ]
    }
   ],
   "source": [
    "lines = np.loadtxt(\"../data/negative-words.txt\", dtype='str', comments=\"#\", delimiter=\",\", unpack=False)[200:300]\n",
    "lines_count = [line + '_count' for line in lines]\n",
    "\n",
    "print(lines)"
   ]
  },
  {
   "cell_type": "markdown",
   "metadata": {},
   "source": [
    "### IMPORTANT!!! Make sure you are using `BinaryClassificationPerformance` v1.02"
   ]
  },
  {
   "cell_type": "code",
   "execution_count": 375,
   "metadata": {},
   "outputs": [
    {
     "name": "stdout",
     "output_type": "stream",
     "text": [
      "Help on class BinaryClassificationPerformance in module my_measures:\n",
      "\n",
      "class BinaryClassificationPerformance(builtins.object)\n",
      " |  BinaryClassificationPerformance(predictions, labels, desc, probabilities=None)\n",
      " |  \n",
      " |  Performance measures to evaluate the fit of a binary classification model, v1.02\n",
      " |  \n",
      " |  Methods defined here:\n",
      " |  \n",
      " |  __init__(self, predictions, labels, desc, probabilities=None)\n",
      " |      Initialize attributes: predictions-vector of predicted values for Y, labels-vector of labels for Y\n",
      " |  \n",
      " |  compute_measures(self)\n",
      " |      Compute performance measures defined by Flach p. 57\n",
      " |  \n",
      " |  img_indices(self)\n",
      " |      Get the indices of true and false positives to be able to locate the corresponding images in a list of image names\n",
      " |  \n",
      " |  ----------------------------------------------------------------------\n",
      " |  Data descriptors defined here:\n",
      " |  \n",
      " |  __dict__\n",
      " |      dictionary for instance variables (if defined)\n",
      " |  \n",
      " |  __weakref__\n",
      " |      list of weak references to the object (if defined)\n",
      "\n"
     ]
    }
   ],
   "source": [
    "help(BinaryClassificationPerformance)"
   ]
  },
  {
   "cell_type": "markdown",
   "metadata": {},
   "source": [
    "# Function for feature building and extraction on natural language data"
   ]
  },
  {
   "cell_type": "code",
   "execution_count": 376,
   "metadata": {},
   "outputs": [],
   "source": [
    "# function that takes raw data and completes all preprocessing required before model fits\n",
    "def process_raw_data_jeremy(fn, my_random_seed, test=False):\n",
    "    # read and summarize data\n",
    "    movie_data = pd.read_csv(fn, sep='\\t')\n",
    "    print(\"movie_data is:\", type(movie_data))\n",
    "    print(\"movie_data has\", movie_data.shape[0], \"rows and\", movie_data.shape[1], \"columns\", \"\\n\")\n",
    "    print(\"the data types for each of the columns in movie_data:\")\n",
    "    print(movie_data.dtypes, \"\\n\")\n",
    "    print(\"the first 10 rows in movie_data:\")\n",
    "    print(movie_data.head(5))\n",
    "    if (not test):\n",
    "        print(\"The rate of 'good' movie reviews in the dataset: \")\n",
    "        print(movie_data['sentiment'].mean())\n",
    "\n",
    "    # vectorize Bag of Words from review text; as sparse matrix\n",
    "    if (not test): # fit_transform()\n",
    "        cv = CountVectorizer(ngram_range=(1, 2))\n",
    "        X_cv = cv.fit_transform(movie_data.review)\n",
    "        fitted_transformations.append(cv)\n",
    "#         print(v.fit(movie_data.review).vocabulary_)\n",
    "        print(\"Shape of CountVectorizer X:\")\n",
    "        print(X_cv.shape)\n",
    "    else: # transform() \n",
    "        X_cv = fitted_transformations[0].transform(movie_data.review)\n",
    "        print(\"Shape of CountVectorizer X:\")\n",
    "        print(X_cv.shape)\n",
    "    \n",
    "    # http://scikit-learn.org/stable/modules/generated/sklearn.feature_extraction.text.TfidfTransformer.html\n",
    "    if (not test):\n",
    "        transformer = TfidfTransformer()\n",
    "        X_tfidf = transformer.fit_transform(X_cv)\n",
    "        fitted_transformations.append(transformer)\n",
    "    else:\n",
    "        X_tfidf = fitted_transformations[1].transform(X_cv)\n",
    "    \n",
    "    # create additional quantitative features\n",
    "    # features from Amazon.csv to add to feature set\n",
    "    movie_data['word_count'] = movie_data['review'].str.split(' ').str.len()\n",
    "    movie_data['punc_count'] = movie_data['review'].str.count(\"\\.\")\n",
    "#     movie_data['doesn\\'t_count'] = movie_data['review'].str.count(\"doesn't\")\n",
    "#     movie_data['does_not_count'] = movie_data['review'].str.count(\"does not\")\n",
    "    \n",
    "#     print(p)\n",
    "#     for word in lines:\n",
    "#         movie_data[word + '_count'] = movie_data['review'].str.count(word)\n",
    "    \n",
    "#     movie_data['bad_count'] = movie_data['review'].str.count(\"bad\")\n",
    "#     movie_data['worst_count'] = movie_data['review'].str.count(\"worst\")\n",
    "#     movie_data['ellipsis_ratio'] = movie_data['review'].str.split('...').str.len() / movie_data['review'].str.split(' ').str.len()\n",
    "\n",
    "#     X_quant_features = movie_data[[\"word_count\", \"punc_count\", \"bad_count\", \"worst_count\", \"ellipsis_ratio\"]]\n",
    "    X_quant_features = movie_data[[\"word_count\", \"punc_count\"]]\n",
    "    print(\"Look at a few rows of the new quantitative features: \")\n",
    "    print(X_quant_features.head(10))\n",
    "    \n",
    "    # Combine all quantitative features into a single sparse matrix\n",
    "    X_quant_features_csr = csr_matrix(X_quant_features)\n",
    "    X_combined = hstack([X_tfidf, X_quant_features_csr])\n",
    "    X_matrix = csr_matrix(X_combined) # convert to sparse matrix\n",
    "    print(\"Size of combined bag of words and new quantitative variables matrix:\")\n",
    "    print(X_matrix.shape)\n",
    "    \n",
    "    # Create `X`, scaled matrix of features\n",
    "    # feature scaling\n",
    "    if (not test):\n",
    "        sc = StandardScaler(with_mean=False)\n",
    "        X = sc.fit_transform(X_matrix)\n",
    "        fitted_transformations.append(sc)\n",
    "        print(X.shape)\n",
    "        y = movie_data['sentiment']\n",
    "    else:\n",
    "        X = fitted_transformations[2].transform(X_matrix)\n",
    "        print(X.shape)\n",
    "    \n",
    "    # Create Training and Test Sets\n",
    "    # enter an integer for the random_state parameter; any integer will work\n",
    "    if (test):\n",
    "        X_submission_test = X\n",
    "        print(\"Shape of X_test for submission:\")\n",
    "        print(X_submission_test.shape)\n",
    "        print('SUCCESS!')\n",
    "        return(movie_data, X_submission_test)\n",
    "    else: \n",
    "        X_train, X_test, y_train, y_test, X_raw_train, X_raw_test = train_test_split(X, y, movie_data, test_size=0.2, random_state=my_random_seed)\n",
    "        print(\"Shape of X_train and X_test:\")\n",
    "        print(X_train.shape)\n",
    "        print(X_test.shape)\n",
    "        print(\"Shape of y_train and y_test:\")\n",
    "        print(y_train.shape)\n",
    "        print(y_test.shape)\n",
    "        print(\"Shape of X_raw_train and X_raw_test:\")\n",
    "        print(X_raw_train.shape)\n",
    "        print(X_raw_test.shape)\n",
    "        print('SUCCESS!')\n",
    "        return(X_train, X_test, y_train, y_test, X_raw_train, X_raw_test)"
   ]
  },
  {
   "cell_type": "code",
   "execution_count": 377,
   "metadata": {},
   "outputs": [],
   "source": [
    "\n",
    "# function that takes raw data and completes all preprocessing required before model fits\n",
    "def process_raw_data(fn, my_random_seed, test=False):\n",
    "    # read and summarize data\n",
    "    movie_data = pd.read_csv(fn, sep='\\t')\n",
    "    print(\"movie_data is:\", type(movie_data))\n",
    "    print(\"movie_data has\", movie_data.shape[0], \"rows and\", movie_data.shape[1], \"columns\", \"\\n\")\n",
    "    print(\"the data types for each of the columns in movie_data:\")\n",
    "    print(movie_data.dtypes, \"\\n\")\n",
    "    print(\"the first 10 rows in movie_data:\")\n",
    "    print(movie_data.head(5))\n",
    "    if (not test):\n",
    "        print(\"The rate of 'good' movie reviews in the dataset: \")\n",
    "        print(movie_data['sentiment'].mean())\n",
    "\n",
    "    # vectorize Bag of Words from review text; as sparse matrix\n",
    "    if (not test): # fit_transform()\n",
    "        hv = HashingVectorizer(n_features=2 ** 17, alternate_sign=False)\n",
    "        X_hv = hv.fit_transform(movie_data.review)\n",
    "        fitted_transformations.append(hv)\n",
    "        print(\"Shape of HashingVectorizer X:\")\n",
    "        print(X_hv.shape)\n",
    "    else: # transform() \n",
    "        X_hv = fitted_transformations[0].transform(movie_data.review)\n",
    "        print(\"Shape of HashingVectorizer X:\")\n",
    "        print(X_hv.shape)\n",
    "    \n",
    "    # http://scikit-learn.org/stable/modules/generated/sklearn.feature_extraction.text.TfidfTransformer.html\n",
    "    if (not test):\n",
    "        transformer = TfidfTransformer()\n",
    "        X_tfidf = transformer.fit_transform(X_hv)\n",
    "        fitted_transformations.append(transformer)\n",
    "    else:\n",
    "        X_tfidf = fitted_transformations[1].transform(X_hv)\n",
    "    \n",
    "    # create additional quantitative features\n",
    "    # features from Amazon.csv to add to feature set\n",
    "    movie_data['word_count'] = movie_data['review'].str.split(' ').str.len()\n",
    "    movie_data['punc_count'] = movie_data['review'].str.count(\"\\.\")\n",
    "\n",
    "    X_quant_features = movie_data[[\"word_count\", \"punc_count\"]]\n",
    "    print(\"Look at a few rows of the new quantitative features: \")\n",
    "    print(X_quant_features.head(10))\n",
    "    \n",
    "    # Combine all quantitative features into a single sparse matrix\n",
    "    X_quant_features_csr = csr_matrix(X_quant_features)\n",
    "    X_combined = hstack([X_tfidf, X_quant_features_csr])\n",
    "    X_matrix = csr_matrix(X_combined) # convert to sparse matrix\n",
    "    print(\"Size of combined bag of words and new quantitative variables matrix:\")\n",
    "    print(X_matrix.shape)\n",
    "    \n",
    "    # Create `X`, scaled matrix of features\n",
    "    # feature scaling\n",
    "    if (not test):\n",
    "        sc = StandardScaler(with_mean=False)\n",
    "        X = sc.fit_transform(X_matrix)\n",
    "        fitted_transformations.append(sc)\n",
    "        print(X.shape)\n",
    "        y = movie_data['sentiment']\n",
    "    else:\n",
    "        X = fitted_transformations[2].transform(X_matrix)\n",
    "        print(X.shape)\n",
    "    \n",
    "    # Create Training and Test Sets\n",
    "    # enter an integer for the random_state parameter; any integer will work\n",
    "    if (test):\n",
    "        X_submission_test = X\n",
    "        print(\"Shape of X_test for submission:\")\n",
    "        print(X_submission_test.shape)\n",
    "        print('SUCCESS!')\n",
    "        return(movie_data, X_submission_test)\n",
    "    else: \n",
    "        X_train, X_test, y_train, y_test, X_raw_train, X_raw_test = train_test_split(X, y, movie_data, test_size=0.2, random_state=my_random_seed)\n",
    "        print(\"Shape of X_train and X_test:\")\n",
    "        print(X_train.shape)\n",
    "        print(X_test.shape)\n",
    "        print(\"Shape of y_train and y_test:\")\n",
    "        print(y_train.shape)\n",
    "        print(y_test.shape)\n",
    "        print(\"Shape of X_raw_train and X_raw_test:\")\n",
    "        print(X_raw_train.shape)\n",
    "        print(X_raw_test.shape)\n",
    "        print('SUCCESS!')\n",
    "        return(X_train, X_test, y_train, y_test, X_raw_train, X_raw_test)"
   ]
  },
  {
   "cell_type": "markdown",
   "metadata": {},
   "source": [
    "# Create training and test sets from function"
   ]
  },
  {
   "cell_type": "code",
   "execution_count": 378,
   "metadata": {
    "scrolled": true
   },
   "outputs": [
    {
     "name": "stdout",
     "output_type": "stream",
     "text": [
      "movie_data is: <class 'pandas.core.frame.DataFrame'>\n",
      "movie_data has 25000 rows and 3 columns \n",
      "\n",
      "the data types for each of the columns in movie_data:\n",
      "id           object\n",
      "sentiment     int64\n",
      "review       object\n",
      "dtype: object \n",
      "\n",
      "the first 10 rows in movie_data:\n",
      "       id  sentiment                                             review\n",
      "0  5814_8          1  With all this stuff going down at the moment w...\n",
      "1  2381_9          1  \\The Classic War of the Worlds\\\" by Timothy Hi...\n",
      "2  7759_3          0  The film starts with a manager (Nicholas Bell)...\n",
      "3  3630_4          0  It must be assumed that those who praised this...\n",
      "4  9495_8          1  Superbly trashy and wondrously unpretentious 8...\n",
      "The rate of 'good' movie reviews in the dataset: \n",
      "0.5\n",
      "Shape of HashingVectorizer X:\n",
      "(25000, 131072)\n",
      "Look at a few rows of the new quantitative features: \n",
      "   word_count  punc_count\n",
      "0         433          20\n",
      "1         158          16\n",
      "2         378          20\n",
      "3         379           8\n",
      "4         367           9\n",
      "5          89           5\n",
      "6         112           9\n",
      "7         132           9\n",
      "8         163           7\n",
      "9          43           5\n",
      "Size of combined bag of words and new quantitative variables matrix:\n",
      "(25000, 131074)\n",
      "(25000, 131074)\n",
      "Shape of X_train and X_test:\n",
      "(20000, 131074)\n",
      "(5000, 131074)\n",
      "Shape of y_train and y_test:\n",
      "(20000,)\n",
      "(5000,)\n",
      "Shape of X_raw_train and X_raw_test:\n",
      "(20000, 5)\n",
      "(5000, 5)\n",
      "SUCCESS!\n",
      "Number of fits stored in `fitted_transformations` list: \n",
      "[HashingVectorizer(alternate_sign=False, n_features=131072), TfidfTransformer(), StandardScaler(with_mean=False)]\n"
     ]
    }
   ],
   "source": [
    "# create an empty list to store any use of fit_transform() to transform() later\n",
    "# it is a global list to store model and feature extraction fits\n",
    "fitted_transformations = []\n",
    "\n",
    "# CHANGE FILE PATH and my_random_seed number (any integer other than 74 will do): \n",
    "X_train, X_test, y_train, y_test, X_raw_train, X_raw_test = process_raw_data(fn='../data/moviereviews_train.tsv', my_random_seed=999)\n",
    "\n",
    "print(\"Number of fits stored in `fitted_transformations` list: \")\n",
    "print(fitted_transformations)"
   ]
  },
  {
   "cell_type": "code",
   "execution_count": 379,
   "metadata": {},
   "outputs": [],
   "source": [
    "# Fit (and tune) Various Models"
   ]
  },
  {
   "cell_type": "markdown",
   "metadata": {},
   "source": [
    "### MODEL: ordinary least squares"
   ]
  },
  {
   "cell_type": "code",
   "execution_count": 380,
   "metadata": {},
   "outputs": [
    {
     "name": "stderr",
     "output_type": "stream",
     "text": [
      "/Users/jeremyodell/opt/anaconda3/envs/machineleaning/lib/python3.9/site-packages/sklearn/linear_model/_stochastic_gradient.py:165: FutureWarning: The loss 'squared_loss' was deprecated in v1.0 and will be removed in version 1.2. Use `loss='squared_error'` which is equivalent.\n",
      "  warnings.warn(\n"
     ]
    },
    {
     "name": "stdout",
     "output_type": "stream",
     "text": [
      "{'Pos': 9965, 'Neg': 10035, 'TP': 5151, 'TN': 4940, 'FP': 5095, 'FN': 4814, 'Accuracy': 0.50455, 'Precision': 0.5027327737653718, 'Recall': 0.5169091821374812, 'desc': 'ols_train'}\n"
     ]
    }
   ],
   "source": [
    "from sklearn import linear_model\n",
    "ols = linear_model.SGDClassifier(loss=\"squared_loss\")\n",
    "ols.fit(X_train, y_train)\n",
    "\n",
    "ols_performance_train = BinaryClassificationPerformance(ols.predict(X_train), y_train, 'ols_train')\n",
    "ols_performance_train.compute_measures()\n",
    "print(ols_performance_train.performance_measures)"
   ]
  },
  {
   "cell_type": "markdown",
   "metadata": {},
   "source": [
    "### MODEL: SVM, linear"
   ]
  },
  {
   "cell_type": "code",
   "execution_count": 381,
   "metadata": {},
   "outputs": [
    {
     "name": "stdout",
     "output_type": "stream",
     "text": [
      "{'Pos': 9965, 'Neg': 10035, 'TP': 9965, 'TN': 10035, 'FP': 0, 'FN': 0, 'Accuracy': 1.0, 'Precision': 1.0, 'Recall': 1.0, 'desc': 'svm_train'}\n"
     ]
    }
   ],
   "source": [
    "from sklearn import linear_model\n",
    "svm = linear_model.SGDClassifier()\n",
    "svm.fit(X_train, y_train)\n",
    "\n",
    "svm_performance_train = BinaryClassificationPerformance(svm.predict(X_train), y_train, 'svm_train')\n",
    "svm_performance_train.compute_measures()\n",
    "print(svm_performance_train.performance_measures)"
   ]
  },
  {
   "cell_type": "markdown",
   "metadata": {},
   "source": [
    "### MODEL: logistic regression"
   ]
  },
  {
   "cell_type": "code",
   "execution_count": 382,
   "metadata": {},
   "outputs": [
    {
     "name": "stdout",
     "output_type": "stream",
     "text": [
      "{'Pos': 9965, 'Neg': 10035, 'TP': 9965, 'TN': 10035, 'FP': 0, 'FN': 0, 'Accuracy': 1.0, 'Precision': 1.0, 'Recall': 1.0, 'desc': 'lgs_train'}\n"
     ]
    }
   ],
   "source": [
    "from sklearn import linear_model\n",
    "lgs = linear_model.SGDClassifier(loss='log')\n",
    "lgs.fit(X_train, y_train)\n",
    "\n",
    "lgs_performance_train = BinaryClassificationPerformance(lgs.predict(X_train), y_train, 'lgs_train')\n",
    "lgs_performance_train.compute_measures()\n",
    "print(lgs_performance_train.performance_measures)"
   ]
  },
  {
   "cell_type": "markdown",
   "metadata": {},
   "source": [
    "### MODEL: Naive Bayes"
   ]
  },
  {
   "cell_type": "code",
   "execution_count": 383,
   "metadata": {},
   "outputs": [
    {
     "name": "stdout",
     "output_type": "stream",
     "text": [
      "{'Pos': 9965, 'Neg': 10035, 'TP': 9546, 'TN': 9873, 'FP': 162, 'FN': 419, 'Accuracy': 0.97095, 'Precision': 0.9833127317676144, 'Recall': 0.9579528349222278, 'desc': 'nbs_train'}\n"
     ]
    }
   ],
   "source": [
    "from sklearn.naive_bayes import MultinomialNB\n",
    "nbs = MultinomialNB()\n",
    "nbs.fit(X_train, y_train)\n",
    "\n",
    "nbs_performance_train = BinaryClassificationPerformance(nbs.predict(X_train), y_train, 'nbs_train')\n",
    "nbs_performance_train.compute_measures()\n",
    "print(nbs_performance_train.performance_measures)"
   ]
  },
  {
   "cell_type": "markdown",
   "metadata": {},
   "source": [
    "### MODEL: Perceptron"
   ]
  },
  {
   "cell_type": "code",
   "execution_count": 384,
   "metadata": {},
   "outputs": [
    {
     "name": "stdout",
     "output_type": "stream",
     "text": [
      "{'Pos': 9965, 'Neg': 10035, 'TP': 9965, 'TN': 10035, 'FP': 0, 'FN': 0, 'Accuracy': 1.0, 'Precision': 1.0, 'Recall': 1.0, 'desc': 'prc_train'}\n"
     ]
    }
   ],
   "source": [
    "from sklearn import linear_model\n",
    "prc = linear_model.SGDClassifier(loss='perceptron')\n",
    "prc.fit(X_train, y_train)\n",
    "\n",
    "prc_performance_train = BinaryClassificationPerformance(prc.predict(X_train), y_train, 'prc_train')\n",
    "prc_performance_train.compute_measures()\n",
    "print(prc_performance_train.performance_measures)"
   ]
  },
  {
   "cell_type": "markdown",
   "metadata": {},
   "source": [
    "### MODEL: Ridge Regression Classifier"
   ]
  },
  {
   "cell_type": "code",
   "execution_count": 385,
   "metadata": {},
   "outputs": [
    {
     "name": "stdout",
     "output_type": "stream",
     "text": [
      "{'Pos': 9965, 'Neg': 10035, 'TP': 8684, 'TN': 9803, 'FP': 232, 'FN': 1281, 'Accuracy': 0.92435, 'Precision': 0.9739793629430238, 'Recall': 0.871450075263422, 'desc': 'rdg_train'}\n"
     ]
    }
   ],
   "source": [
    "from sklearn import linear_model\n",
    "rdg = linear_model.RidgeClassifier(alpha=9999999.0)\n",
    "rdg.fit(X_train, y_train)\n",
    "\n",
    "rdg_performance_train = BinaryClassificationPerformance(rdg.predict(X_train), y_train, 'rdg_train')\n",
    "rdg_performance_train.compute_measures()\n",
    "print(rdg_performance_train.performance_measures)"
   ]
  },
  {
   "cell_type": "markdown",
   "metadata": {},
   "source": [
    "### MODEL: Random Forest Classifier"
   ]
  },
  {
   "cell_type": "code",
   "execution_count": 386,
   "metadata": {},
   "outputs": [
    {
     "name": "stdout",
     "output_type": "stream",
     "text": [
      "{'Pos': 9965, 'Neg': 10035, 'TP': 7549, 'TN': 8079, 'FP': 1956, 'FN': 2416, 'Accuracy': 0.7814, 'Precision': 0.7942135718043135, 'Recall': 0.7575514300050176, 'desc': 'rdf_train'}\n"
     ]
    }
   ],
   "source": [
    "from sklearn.ensemble import RandomForestClassifier\n",
    "rdf = RandomForestClassifier(max_depth=2, random_state=0)\n",
    "rdf.fit(X_train, y_train)\n",
    "\n",
    "rdf_performance_train = BinaryClassificationPerformance(rdf.predict(X_train), y_train, 'rdf_train')\n",
    "rdf_performance_train.compute_measures()\n",
    "print(rdf_performance_train.performance_measures)"
   ]
  },
  {
   "cell_type": "markdown",
   "metadata": {},
   "source": [
    "### ROC plot to compare performance of various models and fits"
   ]
  },
  {
   "cell_type": "code",
   "execution_count": 387,
   "metadata": {
    "scrolled": false
   },
   "outputs": [
    {
     "data": {
      "image/png": "[encoded data removed]",
      "text/plain": [
       "<Figure size 432x288 with 1 Axes>"
      ]
     },
     "metadata": {
      "needs_background": "light"
     },
     "output_type": "display_data"
    }
   ],
   "source": [
    "fits = [rdg_performance_train]\n",
    "\n",
    "for fit in fits:\n",
    "    plt.plot(fit.performance_measures['FP'] / fit.performance_measures['Neg'], \n",
    "             fit.performance_measures['TP'] / fit.performance_measures['Pos'], 'bo')\n",
    "    plt.text(fit.performance_measures['FP'] / fit.performance_measures['Neg'], \n",
    "             fit.performance_measures['TP'] / fit.performance_measures['Pos'], fit.desc)\n",
    "plt.axis([0, 1, 0, 1])\n",
    "plt.title('ROC plot: test set')\n",
    "plt.xlabel('False positive rate')\n",
    "plt.ylabel('True positive rate')\n",
    "plt.show()"
   ]
  },
  {
   "cell_type": "markdown",
   "metadata": {},
   "source": [
    "### looking at reviews based on their classification\n",
    "\n",
    "Let's say we decide that Ordinary Least Squares (OLS) Regression is the best model for generalization. Let's take a look at some of the reviews and try to make a (subjective) determination of whether it's generalizing well. "
   ]
  },
  {
   "cell_type": "code",
   "execution_count": 388,
   "metadata": {},
   "outputs": [],
   "source": [
    "ols_predictions = nbs.predict(X_train)"
   ]
  },
  {
   "cell_type": "markdown",
   "metadata": {},
   "source": [
    "### let's look at some false positives:"
   ]
  },
  {
   "cell_type": "code",
   "execution_count": 389,
   "metadata": {},
   "outputs": [
    {
     "name": "stdout",
     "output_type": "stream",
     "text": [
      "Examples of false positives:\n",
      "488\n",
      "What did the director think? Everybody who has read the biography of Artemisia is left impressed by her guts to face a public rape trial in Renaissance times and even suffer torture in order to show that Tassi was guilty. That fact shows the real independence and emancipation - in her most terrible hour she stands her MAN. Why do movies depicting Renaissance have to be so clinically beautiful and romantic, are we afraid to see the gritty side of life or has the Hollywood happy-happy-mood won? While I would always defend a director's freedom to create his own reality in a movie I cannot make sense of turning Artimisia's life story on its head. Very disappointing choice by the makers of this film.\n",
      "* * * * * * * * * \n",
      "758\n",
      "I'm not a big fan of the Stooges' slapstick, but I find their history interesting. I've recently tried to check out stuff from each Stooge era, but the opportunity to see Joe shorts doesn't seem to come easy; this is the only one I've seen so far.<br /><br />Some say the quality problems with Joe-era shorts are really not Joe's fault, and I suspect that's the case. Joe as a performer is far from the worst thing about this. The thing that bothers me the most about it has been pointed out in another comment: the pitting of the other guys against the third violates the whole comedy-team/Stooges ethos. Perhaps Joe's style was perceived, by those in charge, as not really fitting in -- though there were no real off-camera conflicts between him & the others -- and this was their way of working around that.<br /><br />And what's with the titles of this and some of the other late Stooges shorts? Definitely a lack of creativity going on there; was that sort of thing the cause or the effect of the shorts market drying up?\n",
      "* * * * * * * * * \n",
      "1413\n",
      "I chose this movie by the cover which was a bad move. It wasn't funny at all and the main characters were obnoxious. The girl was beautiful but the story and the acting were terrible. It had absolutely nothing to do with surfing. Terrible movie with a surf \\theme\\\" that had nothing to do with surfing and no real surfers. Catherine Zeta Jones was beautiful and the movie will probably see a resurgence just becuase she is in the limelight now, being married with Gordon Gekko and all, but if you haven't seen it don't waste your time. A bad movie with GREAT surfing, REAL surfers and AMAZING, BEAUTIFUL cinematography was IN GOD'S HANDS.\"\n",
      "* * * * * * * * * \n",
      "1874\n",
      "I don't know what the Oscar voters saw in this movie, but they must of seen some pretty hard stuff to see in it to be able to award it with the best picture Oscar. All I know is that fortunately there was Gene Kelly to play in it or this would have been twice as bad as I believe it is. First of all, I don't think Leslie Caron was really fit to play such a role. She isn't that talented, she isn't a great dancer and she's not good looking at all. It's a shame that one actor or actress may ruin a movie just like by playing in it because if Leslie Caron hadn't been in this, it might have made a terrific movie. The story was intelligent, the directing wasn't bad, and, as I said, Gene Kelly was pretty good. Now I'm not saying all this stuff about Leslie Caron just to criticize her, I'm just saying it because I think that's what the worse part of the movie is. She's probably a good actress but I can't tell because I haven't seen her in anything else but I think she was pretty bad in \\An American in Paris\\\". So if you want to see it, go ahead but I'm telling you, you're way better off watching \\\"Singin' in the rain\\\".\"\n",
      "* * * * * * * * * \n",
      "1966\n",
      "Think \\stage play\\\". This is worth seeing once for the performances of Lionel Atwill and Dwight Frye. COmpare the Melvyn DOuglas in \\\"Ghost Story\\\" with the Melvyn DOuglas of this film. Are there vampires at loose in this 'Bavarian' village, or is there a more natural, albeit equally sinister, explanation? Dwight Frye is Herman, a red herring, who is cast as an especially moronic character. It's fun to look at his different facial expressions in what is really a stock character. NOt much happens for a long time, but then we discover that Atwill's pipe smoking doctor is the real murderer. There is too much 'comic relief' but that is par for the course for this era. Fay Wray looks really good.\"\n",
      "* * * * * * * * * \n",
      "2652\n",
      "First one was much better, I had enjoyed it a lot. This one has not even produced a smile. The idea was showing how deep down can human kind fall, but in reference to the characters not the film-maker.\n",
      "* * * * * * * * * \n",
      "3113\n",
      "... to not live in Montana and especially not to live there at the end of the 19th century.<br /><br />\\A river runs through it\\\" certainly is a well made movie from a cineastic stand-point. Great landscapes, Redford acting well.<br /><br />Unfortunately, the story is bad (if there is a story at all).<br /><br />I felt sorry for the narrator / author, who is as dry, narrow-minded a character as his father, a preacher. Being driven, not driving his own life, he is left to watch his brother, who is also caged in the small town environment, losing his life. The author never even comes close to undestand his brother's motivations, but at least realizes, that he is lacking the slightest amount of homour / fun. All there is, is fly-fishing, where he follows even as an old man the style of his father.<br /><br />The end is not surprising, it is forseeable from the very beginning.<br /><br />Definitely NOT a must-see (3 / 10)<br /><br />\"\n",
      "* * * * * * * * * \n",
      "3146\n",
      "While it's early to say how the series will evolve, I can say that the pilot was less than I thought it would be. There is still potential for the series, however. Of course when I first saw Voyager I thought it had potential, too - but was sorely disappointed. My gut tells me Enterprise won't be as bad as Voyager, however.<br /><br />As for the impressions of the pilot...<br /><br />The pilot had some good ideas and good themes. I liked the introduction. The show's opening credits were interesting, with the progress of exploration and a fitting theme song. Scott Bakula is excellent in the role of captain.<br /><br />Where it fell short for me was largely that the story lacked the \\feel\\\" of setting out on a grand adventure. The plot of the episode itself was more a \\\"generic\\\" Trek story with the themes of \\\"exploration\\\" and \\\"first step towards space\\\" merely subplot and subtext. Were you to edit out the references to this being the first deep space mission, the plot would be hard to differentiate between the eras of Enterprise, TOS or TNG. The central plot didn't reflect or do justice to the grand theme of the series.<br /><br /> The plot of launching the first mission would have been grand enough without the \\\"action\\\". Instead of isolated references to the newness of exploration, they could have been the story. Get a little more nostalgic and philosophical about it (oh, for a TV show that once again would make us THINK). Make us feel the excitement of \\\"the wind\\\" and being on \\\"the sea\\\" instead of distracting us with a rescue and a plethora of gunplay. There was WAY too much gunplay.<br /><br />We had the feeling more that humans were the \\\"freshmen\\\" in an established school. New kids on the block, as opposed to venturing into a largely unknown universe. Sadly, the Klingons landed on our doorstep instead of us finding them. That meeting could have been far more historic and far more sociological. Just how DO two such different societies interact? Don't just hint about it, SHOW it!<br /><br />I had to think of it more as `Trek with an akward crew and limited technology' as opposed to `the first brave steps into the unknown'. I wanted to see something newer and fresher. The series promises to have a new concept but so far I haven't seen this new, great concept.<br /><br />I will conclude with reiterating the sentiment that the series has potential. There are some interesting characters. Bakula is wonderful. Blalock has potential. The overall theme is the most interesting since we first saw Kirk in a world before Apollo 11. If only future episodes can do justice to this grand and wonderful theme, we will have a show which will create new legends.<br /><br />You shoot an arrow into the air... Good luck Capt. Archer.<br /><br />To the producers: TAKE MORE RISKS AND MAKE US *THINK*! :-)\"\n",
      "* * * * * * * * * \n",
      "3442\n",
      "The hysterical thing about this movie is that, according to the director, it has difficulty finding a distributor in the U.S. because most of them that viewed it couldn't reconcile the seemingly conflicting messages of Christianity and American angst. The thought of anyone seeing this as a religious film in anyway is laughable.<br /><br />Because a minister at a mission prays with the homeless or wishes someone \\Godspeed\\\" this makes it a \\\"Christian\\\" movie? One could interpret that it is actually mocking religion for in the \\\"Land of Plenty\\\" with all of its material excess, the best an organized mission can do is hand out a bowl of soup and a bible verse. Plenty of unfortunate or downtrodden maybe? Plenty of useless homeless missions? How about plenty of psycho Vietnam vets? As a pill-popping delusional survivor of agent \\\"pink\\\" are we to think America is a \\\"Land of Plenty\\\" of paranoid patriots? Maybe we have plenty of psychiatric patients? Certainly we don't have plenty of people concerned about Palestine politics based on the main characters phone conversation in the film. Of course if you worked in a German homeless shelter the unfortunate there would be much more concerned about peace in a distant land than their own personal survival as the world knows how Europe is the \\\"Continent of Plenty\\\" when it comes to sophistication.<br /><br />Indeed I agreed with the title in the end as the United States is the \\\"Land of Plenty\\\" and in this particular case it refers to the abundance of poor scripts, amateur acting and dispassionately directed films. Life is too short and one, even an American, doesn't have \\\"plenty\\\" of time to waste watching this piece.\"\n",
      "* * * * * * * * * \n",
      "3675\n",
      "Let's see. In the \\St. Elsewhere\\\" finale we found out that there was no hospital and that every thing had been in the mind of an autistic child. \\\"Newhart\\\" ended by telling us that it had all been a dream. And \\\"Roseanne\\\" ended by telling us that it all had taken place in her mind. Very \\\"creative\\\". Annoying was more like it. Yes, it was just a TV show and wasn't at all reality. It's just that when you get caught up in a great movie or TV show you end up at least wanting to believe that it's all \\\"real\\\". At least as far as the reality it portrays on screen. This type of series finale had been done twice before and was old hat, frustrating and simply not fun to watch. Now \\\"Newhart\\\" being all a dream? At least done in a creative way that far exceeded the expectations of anyone who loved the show. The idea itself was not too engaging but it was so brilliantly done that its arguably the Best Series Finale Ever. Roseanne left me feeling cheated after being such a loyal fan.\"\n",
      "* * * * * * * * * \n",
      "3761\n",
      "Positively awful George Sanders vehicle where he goes from being a thief to police czar.<br /><br />While Sanders was an excellent character actor, he was certainly no leading man and this film proves it.<br /><br />It is absolutely beyond stupidity. Gene Lockhart did provide some comic relief until a moment of anger led him to fire his gun with tragedy resulting.<br /><br />Sadly, George Sanders and co-star Carol Landis committed suicide in real life. After making a film as deplorable as this, it is not shocking.<br /><br />The usual appealing Signe Hasso is really nothing here.\n",
      "* * * * * * * * * \n",
      "4353\n",
      "This series was CBS networks answer to the success of the Big Valley. It was a 90 minute Western just like the ABC program was. While it was an answer, it did not have the stuff to make it past season 2.<br /><br />The problem really became reality got lost on this show. For example- in one episode, Johnny gets his eye poked out by a stick. Amazingly, by the end of the show, Johnny had healed entirely. Along with that, the stories on this were no where near as strong as The Big Valley.<br /><br />This is a show that I would not want DVDs of, & frankly hope they are never released. Think since CBS was running out of lots, they re-used many familiar settings. This was one the last western series CBS produced as westerns were not real popular in the 1970's.\n",
      "* * * * * * * * * \n",
      "4571\n",
      "This film was screen as part of the 2007 Sydney Mardi Gras Film Festival. I had no expectation of the film as someone else choose it for me.<br /><br />I actually like films that take time to develop, films that allow the characters to unfold and lets the story flow. Stillness is good. But this film though was just plain slow.<br /><br />Credit must go to the two main actors. There was a sense of tension between them as two totally different people, misfits really, come together in a very awkward way. There were tender moments and sadness as we learned more about them.<br /><br />I also liked the setting and the way it was shot. It was claustrophobic and monochrome and it added to the film's intimacy and reinforces the oddness of the characters.<br /><br />I just don't understand the ending. What was the point of it all?\n",
      "* * * * * * * * * \n",
      "4764\n",
      "Noting the cast, I recently watched this movie on TCM, hoping for an under-appreciated gem, as I regard many films from the 30's. This is no gem - not even semi-precious. The anachronistic clothing and 1930's Rolls Royce limo hit you immediately. The casting is strange, also. But mostly, there are too many dumb and unnecessary plot devices. This film has lots of good ingredients and a basic plot that holds promise, but the components aren't mixed according to the right recipe. It simply doesn't come together like it should. And that's a shame. WIth a few rather obvious, but minor alterations, this might have been a very good movie.<br /><br />The film is about an American showgirl (Jean Harlow) seeking a rich British husband - preferably from the nobility. She meets Franchot Tone and his buddy, who are on a lark in a Rolls Royce owned by his buddy's employer. Harlow mistakenly assumes Tone is the Lord who owns the Rolls, and she sets her sights on him. This early part of the film is a light comedy of no real distinction. <br /><br />However, Tone unwittingly uncovers the fact that his employer is actually a German 5th columnist on the eve of WWI, and that is when the movie changes tone altogether and begins to fall apart. Tone and Harlow are married, but just as the honeymoon begins, he is gunned down by a Mata Hari-type (Benita Hume), and Harlow flees the scene, with a bystander accusing her of Tone's murder. (In fact, Tone recovers from the wounds.)<br /><br />Harlow flees to France, where she falls in love again - this time with a wealthy French cad (Cary Grant). Tone, now in the army, and Harlow are unexpectedly brought back together in Grant's hospital room where he is in rehab from a plane crash. In the following scene, Tone accuses Harlow of abandoning him because she is essentially a gold-digger. Harlow never explains about the witness' accusing her of murder and her panic! That is one of those unreal, movie-plot-device break-downs in the story.<br /><br />Then Tone is also brought back into contact with the woman (Hume) who shot him. She is on hand to watch her paramour, Grant, test the new plane that Tone has delivered to him from England. Incredibly, both Hume and Tone dimly recognize each other, but simply can't place where from! Okay, so Tone was shot and almost died; perhaps his memory is a little out of whack. But how many men did Hume shoot that she would forget one of her marks? (She does not seem to be faking the memory lapse.)<br /><br />This is inexplicable and unnecessary. Hume should have absolutely recognized him, but played it coy when she realized that Tone wasn't able to place her. That would have been a much better treatment of that issue.<br /><br />The finale also is very unsatisfying. The movie, as made, has Tone and Harlow conspiring to preserve the good reputation of the cad, Grant, leading to his fraudulent burial as a hero. Then Harlow and Tone just walk away. It is noble to preserve the French public's perception of their national war hero, but very unsatisfying as a love story!<br /><br />What the film begs for is this: Harlow explains that she fled in a panic in the face of accusations of murder; Tone forgives her and quietly rekindles his love for her; he then carries a torch for her, even while helping her to rig the crash site to preserve Grant's reputation. Meanwhile, Harlow finally recognizes Grant for the cad he is. Then having seen Tone for the brave and noble man he is, Harlow rekindles feelings for him, too. At film's end, the two of them become reconciled even as they work together to rig the appearance of Grant's death. After Grant's hero's burial, we see them embrace and kiss at the fade-out. That would have made a nice little movie. For Cary Grant fans, it would have been even better had Tone played the French cad who is killed and Grant the long-suffering first husband, reunited with Harlow.<br /><br />It is incomprehensible that Franchot Tone is cast as the Irishman living in England, while Cary Grant is cast as the Frenchman. This movie would have been much better had they reversed roles. That also would have been more conducive to the film that should have been...\n",
      "* * * * * * * * * \n",
      "4827\n",
      "My husband is a huge Robin Williams fan. I like him too, but have generally found that he should \\stick to what he does best\\\" and focus on comedic roles. My thoughts were confirmed with this movie. I was completely bored throughout the entire film. The story was predictable. I realize it was inspired by a true story. But, my guess is that there could have been some suspense or intrigue even while maintaining truth in the story. None of the characters were well developed. There was a side story about the main character and his partner. This relationship could have been explored further. More important, though, would have been a deeper exploration of the mother of the \\\"boy\\\". Her psychological profile would have been interesting to delve into. She obviously has a long history that was not touched upon except in the most superficial way. If my husband wasn't such a huge Williams fan, we would have left 20 minutes into it. Too bad I can't get my $20 or 2 hours back.\"\n",
      "* * * * * * * * * \n",
      "4853\n",
      "An illegal immigrant resists the social support system causing dire consequences for many. Well filmed and acted even though the story is a bit forced, yet the slow pacing really sets off the conclusion. The feeling of being lost in the big city is effectively conveyed. The little person lost in the big society is something to which we can all relate, but I cannot endorse going out of your way to see this movie.\n",
      "* * * * * * * * * \n",
      "4921\n",
      "Predictable plot. Simple dialogue. Shockingly unemotional performances. But Robert Downey, Jr. is so cute, I gave this \\poor man's afternoon special\\\" a 3 instead of the 1 or 2 it so richly deserved.\"\n",
      "* * * * * * * * * \n",
      "5075\n",
      "Working with one of the best Shakespeare sources, this film manages to be creditable to it's source, whilst still appealing to a wider audience.<br /><br />Branagh steals the film from under Fishburne's nose, and there's a talented cast on good form.\n",
      "* * * * * * * * * \n",
      "5493\n",
      "The filming crew did not have good access to the occupied territories, so filming of the Israeli side dominated. I was struck by the nearly completely opposite points of view of the mothers. The Israeli mother lost a child who had the possibility of a life of tremendous happiness. The Palestinian mother lost a child who had only the possibility of a life of privation and despair. With such completely different viewpoints, any meeting had no real chance of any meeting of the minds. The word \\peace\\\" did not have the same meaning to each of them. Peace to the Palestinian was freedom. Peace to the Israeli was security. With such an abyss, is this sort of film really worth much? I finished with the feeling that I had watched pointless propaganda -- both sides were unconvincing.\"\n",
      "* * * * * * * * * \n",
      "6179\n",
      "I do regret that I have bought this series. I expected more action, more objective picture and more consistency. This is just a pure propaganda series, very dark, without any charm, or romanticism, it is just boredom itself. I find the actors work quite weak as well. O'Donnell might seem charming as Robin (with Batman), but in this picture he lacks any charm. Probably while he becomes older, he is loosing his childish charm but does not gain any charm of a grown up. It comes as no surprise, that it was not shown in a lot of countries and is being sold in the UK for 40% of the recommended price and was not even released in the Netherlands.\n",
      "* * * * * * * * * \n"
     ]
    },
    {
     "name": "stdout",
     "output_type": "stream",
     "text": [
      "6496\n",
      "I'm a Jean Harlow fan, because she had star quality. I don't think her movies are good and I don't even think that she was a good actress, but she certainly was Great in comedies. Every bit of comedy in The Girl from Missouri is very good. But this movie is perhaps more like a love story. Jean Harlow is wonderful in this one and you can forget the rest of the cast - their performances bring nothing new. It always impresses me much to think that Harlow's beautiful body was that of an ill woman. Well, in this movie she does look beautiful.\n",
      "* * * * * * * * * \n",
      "6596\n",
      "I know nothing of the Iliad so can not comment on it's accuracy to that story. However, as a stand alone film I found this very boring. The battle scenes tried to be large and spectacular but they were just obvious CGI.<br /><br />The acting is poor and no doubt Brad Pitt was cast just to attract the ladies. But he does not make a good warrior, too pretty i am afraid.<br /><br />Good points are is the design. This film does look good with the landscape and castle buildings/walls impressive. I do like a film that at least tries to get the characters accents true but this film just seems to ignore it completely. we hear American, Scottish English anything but what you might expect for a film about an ancient eastern civilisation.<br /><br />All in all, I do not recommend this film for a family sit down. It is too long and the young will get bored.<br /><br />For adults, it is OK if you don't care about the lack realism.\n",
      "* * * * * * * * * \n",
      "6891\n",
      "Vic (Richard Dreyfuss) is a mob boss, leaving a mental institution, back to his world of gangsters. How can a director have a cast with Richard Dreyfuss, Ellen Barkin, Jeff Goldblum, Diane Lane (very gorgeous), Gabriel Byrne, Gregory Hines, Kyle MacLachlan, Burt Reynolds, Billy Idol and a make such a waste of time? This movie is a comedy that is not funny, having a constellation in the cast. My vote is four.<br /><br />Title (Brazil):' Prazer em Matar-te!' ('Pleasure in Killing You!')<br /><br />\n",
      "* * * * * * * * * \n",
      "6927\n",
      "\\The Return of Chandu\\\" is notable, if one can say that, for the casting of Bela Lugosi as the hero rather than the villain. Why he even gets the girl.<br /><br /> The story as such, involves the Black Magic Cult of Ubasti trying to capture the last Egyptian princess Nadji (the delectable Maria Alba) and use her as a sacrifice as a means of reviving their ancient leader who just happens to look like Nadji. Lugosi as Chandu, who possesses magical powers, tries to thwart the villains.<br /><br /> Director Ray Taylor does his best with limited resources and extensive stock footage. Fans of King Kong (1933) will recognize the giant doors that were used to keep Kong at bay in several scenes. The acting is for the most part, awful. The actor who plays the high priest (I believe Lucien Prival) for example, uses that acting coach inspired pronunciation that was so common in the early talkies. The less said about the others the better.<br /><br /> It is a mystery why Lugosi accepted parts in independent quickies at this stage of his career, because he was still a bankable star at Universal at this time. Maybe it was because in this case he got to play the hero and get the girl, who knows. As his career started to spiral downwards in the late 30s, this kind of fare would become the norm for Lugosi rather than the exception.<br /><br />\"\n",
      "* * * * * * * * * \n",
      "6989\n",
      "Based on the personal experiences of director John Singleton's time at the University of Southern California,comes Higher Learning. A film centered on the racial politics that occur at modern day colleges.<br /><br />There are three main characters to which the film bases its foundation around for its story: Malik Williams, an carefree lowbrow athlete who is an African American male. Kristin Conner, a sheltered soft white girl, and Remy, a unsophisticated unconnected white male. All three are overcome by the sudden realities that college life is not as good as it is advertised as all three go through disappointment by being unprepared (Malik), by being naive (Kristin), and by being unwanted (Remy).<br /><br />One good thing about the film is that it does show that modern American colleges are just high schools writ large. The colleges are not places to build character , develop potential, or enhance personal advancement, but they are institutions used to gather all sorts of students in a one-size-fits-all atmosphere. It is an experience that usually is built for failure for most students. It would have been good if the film built it story about this travesty rather than racial politics.<br /><br />But it didn't and that's where the films falls apart. Singleton ,it seems, had a pretty bad experience at Southern California. Through this film he lets it all hang out. There is no need to beat around the bush here. Singleton lets the heroes and the villains of this piece be easily seen.<br /><br />The black characters in the film are pretty much seen as the heroes here while all the whites in the film are seen as the villains, save for Kristin, who was raped by a fellow white student.<br /><br />Who can understand the inconsistencies of this film? Black gang members who come to the aid of a white girl after she points out to them who supposedly raped her? The ease that the black gang members have at the university while a bunch of skin heads meet in a dark small dorm planning violence? <br /><br />The performances of Omar Epps (Malik) and Kristy Swanson (Kristin) are disappointing. They do seem like the third choices for the roles that they played in this movie (Tupac Shakur and Drew Barrymore were supposed to play Malik and Kristin but were unavailable). O'Shea Jackson aka Ice Cube ,Busta Rhymes, and Regina King were all irritating in their respective roles. And Laurence Fishburne was woefully miscast here as the history professor. Only Michael Rappaport did well in this film and he did considering that his character ,of the three main characters, changed the most in the film.<br /><br />John Singleton wanted to take on the matter of race and inequality in American college life with this film. And he did so quite badly. It was sort like killing a fly with a shotgun. Life is far more complex than it seems and people are alike all over and he should know this. Higher Learning is proof that he did not understand this at all. Seeing the film ,then and now, would only confuse, disappoint and enrage the same public he would wish to speak to. Not to mention it would not entertain them in the slightest.\n",
      "* * * * * * * * * \n",
      "7058\n",
      "Back in the 70's, when I had first seen this, I was in high school. It was cool then. Now as an adult I look back at it and I say to myself..yeah right. What was so funny? It has it's moments but they are few and far between. It is so dated that the jokes no longer stand up. Show this to a younger crowd and they will be totally lost. If you like this type of humor you may want to stick with Kentucky Fried Movie or Amazon Women From The Moon. Tunnel Vision as well as Groove tube are too dated for today's viewing.\n",
      "* * * * * * * * * \n",
      "7088\n",
      "Let me start by stating that I usually do like Renny Harlin's directing style, for the most part, and that the cinematographer should be commended for some the shots. Unlike Harlin's \\Elm Street 4\\\", and \\\"Die Hard 2\\\" which I really liked, there is something that is missing from this movie. That, my friends, is a script. The dialogue in movies like this is always pretty awful, but this one takes the gold medal for stupidity. There are so many awful lines in this movie, I don't even want to have to remember any of them. Not just that but the execution of the lines is pathetic and seems more suited toward a bad porn movie than an action adventure. It's almost like Harlin thought that if they slowed down the words being said, they could improve the script. Wrong again.<br /><br />The sad part is that there is some talented actors thrown into bad roles with worse dialogue. Stallone has never been a favorite of mine, but when he is acting circles around Lithgow, Turner, and the worst of the bunch Rooker, there is something wrong with this picture. Lithgow played one of the best villains in \\\"Ricochet\\\", yet comes across as someone who can't act to save his life here. How is that possible? I've always been a huge fan of his and he gets schooled in acting by Stallone, who himself still phoned-in his performance. Turner's part is so small and pointless, but she still manages to appear lost on screen. Michael Rooker CAN act. I know this because I have witnessed it in \\\"Days of Thunder\\\", but he seems like he is READING his lines from cue cards. Has it come to this? When Rooker and Lithgow have scenes together where they are speaking, I just wanted the movie to end right there, or have them both amazingly find their acting ability. Unfortunately, neither of those things occurred.<br /><br />Which brings me back to Harlin, who can be the only one to really blame for this mess other than the screenwriters. It's his fault that I was never drawn into this movie at all, because he should have made the people actually act. The script is not very good, but still the actors' performances are what destroys this movie and that has to lie with the director. I don't care how much was paid for the special effects, which for the most part are good, you still can't just sacrifice the movie with terrible acting. <br /><br />Plus, the pacing of this movie seems to be off. The opening sequence was good and the plane scene was very well done, but how are you supposed to care about the outcome of the heist at all. I mean I understand that they were trying to create tension with all of the bells and whistles of the plane scene, but I really didn't care if they got the money or not in that scene. If the bad guy's would have won early, maybe I wouldn't have had to witness one of the worst movies ever!\"\n",
      "* * * * * * * * * \n"
     ]
    },
    {
     "name": "stdout",
     "output_type": "stream",
     "text": [
      "7532\n",
      "While I count myself as a fan of the Babylon 5 television series, the original movie that introduced the series was a weak start. Although many of the elements that would later mature and become much more compelling in the series are there, the pace of The Gathering is slow, the makeup somewhat inadequate, and the plot confusing. Worse, the characterization in the premiere episode is poor. Although the ratings chart shows that many fans are willing to overlook these problems, I remember The Gathering almost turned me off off what soon grew into a spectacular series.\n",
      "* * * * * * * * * \n",
      "7575\n",
      "Question: how does a bourgeois director treat a subject like immigration ? Answer: by turning it into an existential alienation parable.<br /><br />Yes, we're back in the early 90s, just after the disintegration of the Eastern block and the subsequent flooding of immigrants in the European Union, and what better way to deal with the subject than making a film about an existentially alienated middle-class journalist, an existentially alienated upper-class politician, his existentially alienated rich wife, and so on.<br /><br />In the background, immigrants are asking for political asylum in an unnamed Greek village near the borders. I guess that way Angelopoulos can show some social awareness, while dealing with the existentially troubled upper-classes. I mean honestly, the scene where some top-ranking army-officer curses his destiny cause he sent his daughter to study in London is enough to make you puke.<br /><br />Anyway, it can't be that bad, Angelopoulos is a master of the cinematic art after all, right ? Wrong. It's at this point when his mannerisms start getting too artificial, sort of like a filtered image in Photoshop. His usual tricks show up: there are blurred windows, blurred lights, a weird wedding, a walk by the river-shore, and people with yellow water-coats. Also Mastroianni breaks new ground for most sleepwalking performance ever. Avoid really. Go for his early films.\n",
      "* * * * * * * * * \n",
      "8392\n",
      "Let's start by the simple lines. From the viewer's side, there a couple of good \\director details\\\", some points of view at the movie scenes that are nice. The special effects are good enough, a good acting/good scenery also. But the story is way too simple. It shows how a elite Army bomb squad unit lives, acts and sometimes dies. It shows the drama of living in war. In my movie experience as a serious action movie \\\"addicted\\\" guy, I missed that click that gets my eyes and mind stuck on the screen. One of the things that need to be present in a movie in order to I consider it a good one is the ability of immerse the viewer in the movie reality and time. It didn't happened to me. I stayed \\\"conscious\\\", for the entire movie.<br /><br />Honestly speaking, I think that this movie gained its place in fame based on the \\\"subconscious\\\" appeal of American patriotism, a healthy and genuine feeling, but not the adequate use as a movie fame generator. More than a movie about war, it grows its popularity based on that.<br /><br />A simple thought: if this was a world war II or I movie, only changing time, with everything remained the same, would it be this awarded? Sure not. Why? Because there are great ones that elevate the bar way to high.<br /><br />Compared against its rivals in the Oscars, I don't think that all of the prizes it won are correctly awarded.\"\n",
      "* * * * * * * * * \n",
      "9028\n",
      "First of all there is Gujarati Theatre then there is Bollywood. Both have their strengths and fan following. Director Vipul Shah should look elsewhere instead of Gujarati Theatre when making a Bollywood production. First he made Aankhen (adapted from a Gujarati play) - which had a unique plot, but could not hold as a Hindi film. Now he's adapted another Gujarati play and named it Waqt - a race against time. In sum, the emotions are alien. The plot development is not for Hindi films. For example, the role play between father and son is best left to Gujarati Theatre - don't bring it in a Hindi film. Even the comedy track is best left for the Gujarati stage. All performances are average - nothing to shout about - barring Shefali Chhaya Shah who is fantastic.\n",
      "* * * * * * * * * \n",
      "9372\n",
      "Saw it at the Philadelphia Gay and Lesbian Film Fest.<br /><br />What can I say? Against my better judgment, I liked it, but it seemed to me that that acting was a little...weak (mostly I noticed this from the family of the teen boy). I mean, the script wasn't stellar to begin with, but the actors didn't make me believe the relationships.<br /><br />The plot is also predictable.<br /><br />Nonethelss, I liked it. The characters are likable, and the plot is not challenging or upsetting. It's sweet, the characters care about each other, and I don't count it as fifty minutes ill-spent. <br /><br />But I don't recommend it.\n",
      "* * * * * * * * * \n",
      "9557\n",
      "Simon Pegg stars as Sidney Young, a stereotypically clumsy idiot Brit working as a celebrity journalist in this US comedy. After getting a very lucky break he starts work at the highly respected Sharps magazine run by a reliably on form Jeff Bridges in New York. It's more The Devil Wears Prada than Shaun of the Dead. The unlikely love interest is provided by Kirsten Dunst who works well with Pegg for the laughs but they don't exactly set the screen ablaze with their passion.<br /><br />Sidney goes through some emotional challenges while trying to decide if he should forget about his journalistic principles in order to get material in the magazine. Of course he's eventually seduced by the glitz and glamour of the world of celebrities especially the young starlet Sophie Maes (Transformers' Megan Fox). Fans of Shaun of the Dead, Hot Fuzz and Spaced will wonder if Pegg himself ever experienced similar feelings in real life with this film and to an extent Run Fat Boy Run as one of the UK's best comic talents being ruined by the US.<br /><br />All in all this is a forgettable comedy. Please come back to us Simon, we can forgive and forget.\n",
      "* * * * * * * * * \n",
      "9732\n",
      "In Cold Blood was one of several 60s films that created a new vision of violence in the Hollywood film industry. Capote coined the phrase \\nonfiction novel\\\" to describe the book on which this film is based, and the spirit of that form was carried over into the film script, which he co-wrote. Despite the fact that we were well into the era of color film, Richard Brooks elected to present this film in black and white to underscore both the starkness of the landscape and the bleakness of the story. This is the first problem with the TV remake --color changes the tone of the story. In addition, the confinement of shooting a film for TV makes reduces the options of how the shots are framed and focused. As a result, we lose the dramatic clash which makes the second part of the original film (police interviews, trial, imprisonment, and execution) so claustrophobic. On the small screen, it's just another version of Law and Order spin-offs. <br /><br />Hollywood's search for scripts continuously takes it back to movies that were successful in another age. Usually, that's a mistake, and this is no exception.<br /><br />All of the actors are competent. The script is OK. The directing doesn't get in the way. It's just that the movie doesn't work as well as the original precision instrument. It doesn't hook the viewer into the ambivalence toward Smith and Hickock that the original film provokes. At the end of the TV version, we are left with the feeling: \\\"Ho hum, who cares?\\\"<br /><br />See the original first, on as large a screen as you can, then watch the TV version simply to understand why the first one was such an important film in 1967.<br /><br />Wouldn't hurt to also go on line and read a bit about Capote and the original book. It will help you to understand the extraordinary effort he put into the material, and also some of the controversy surrounding both the book and the movie.<br /><br />I actually only gave this a 4 because I save the bottom 3 rankings for true bombs--the kind that enrage you about having been sucked into spending an\"\n",
      "* * * * * * * * * \n",
      "9743\n",
      "I've never been to Paris, but after seeing \\Paris, Je t'aime\\\" I'm crazy to visit this city! I've been to NY several times and I LOVE the city and its boroughs. I kinda expected to be touched by this film, to feel like jumping into a plane and fly there right away, but, lo and behold, I regret the time and money I spent with it. There are no love stories between people or a person and the city. There's a lot of dysfunctional meetings and relations or people who know each other and it just doesn't work out fine. Maybe this reflects a characteristic of the city, where it's said to have thousands of people living on their own. Can't you find love in New York?\"\n",
      "* * * * * * * * * \n",
      "9801\n",
      "I think that movie can`t be a Scott`s film. That is impossible. Do you remember Blade Runner? And Alien? Two greats movies versus a one. I hope didn´t see ever it. good bye!!\n",
      "* * * * * * * * * \n",
      "9885\n",
      "Spooks is enjoyable trash, featuring some well directed sequences, ridiculous plots and dialogue, and some third rate acting.<br /><br />Many have described this is a UK version of \\24\\\", and one can see the similarities. <br /><br />The American version shares the weak silly plots, but the execution is so much slicker, sexier and I suspect, expensive.<br /><br />Some people describe weak comedy as \\\"gentle comedy\\\". <br /><br />This is gentle spy story hour, the exact opposite of anything created by John Le Carre.<br /><br />Give me Smiley any day.\"\n",
      "* * * * * * * * * \n",
      "9887\n",
      "Despite being a huge fan of Fred Astaire and Ginger Rogers' movies, it wasn't until about 6 years ago that I first saw 'Follow the Fleet'. I knew all the songs from an old Astaire/Rogers record (yes, vinyl) but knew nothing of the plot.<br /><br />Unfortunately, while the songs are catchy and Ginger Rogers' character is sweet and funny, you just can't like 'Bake Baker'. While trying to make up to his longtime partner, he continually sabotages her career. His character doesn't have the usual humour and elan of the other films' Astaire characters.<br /><br />Worth watching for the songs and a great solo tap routine by Ginger Rogers.\n",
      "* * * * * * * * * \n",
      "10070\n",
      "The film is almost laughable with Debbie Reynolds and Shelley Winters teaming up as the mothers of convicted murderers. With the horrible notoriety after the trial, the two women team up and leave N.Y. for California in order to open and song and dance studio for Shirley Temple-like girls.<br /><br />From the beginning, it becomes apparent that Reynolds has made a mistake in taking Winters with her to California. Winters plays a deeply religious woman who increasingly seems to be going off her rocker. <br /><br />To make matters worse, the women who live together, are receiving menacing phone calls. Reynolds, who puts on a blond wig, is soon romanced by the wealthy father of one of her students, nicely played by Dennis Weaver.<br /><br />Agnes Moorehead, in one of her last films, briefly is seen as Sister Alma, who Winters is a faithful listener of.<br /><br />The film really belongs to Shelley Winters. She is heavy here and heaviness seemed to make her acting even better. Winters always did well in roles testing her nerves.<br /><br />The ending is of the macabre and who can forget Winters at the piano banging away with that totally insane look?\n",
      "* * * * * * * * * \n",
      "10231\n",
      "First of all, I would just like to say to everyone who has seen this movie, that the actor who played the \\Transvestite\\\" Is one of my friends, his name is Robert Dugdale, he's a terrific actor, although it doesn't say much about his filmography, he's been in several plays and musicals. He is currently residing in Terrace B.C. that is where I am from, he comes over to our house almost every saturday *laughs* Okay, now about the movie, I wouldn't recomend this to anyone who HASN'T seen it, for it is not a movie worth watching, the main reason I found it to be a bad movie is it never stays in place, it keeps bouncing back between time, so kinda hard to follow at some points, and second, its really boring *laughs* Although the acting is great, the movie just doesn't compare.\"\n",
      "* * * * * * * * * \n",
      "10390\n",
      "This move reminded my of Tales from the Crypt Keeper. It has the same sort of idea of people get what they deserve. I think that's always the them in a Crypt story. The same goes for the bad acting. Very bad acting. I enjoyed the movie knowing that most people didn't like it and I wasn't expecting much. Whenever I watch a stephen King movie I don't expect much because all his movies are awful compared to the genius of his novels. I have read The Shining and Carrie and they were great books. I love how Carrie played out like it was a true story and the whole book is a bunch of reports and theories and such. It was so good. But I noticed that both of the novels were nothing like the movies. The endings were very different then the movie versions. I assume from those two novels that all of his novels are changed greatly and the endings are always cheesy. I ending of Thinner is the worst. So Cheesy. I want to read the book to find out the real ending. I suggest everyone who intends to read stephen King's novels to watch his movies before hand so that you may compare. And that way you will be greatly satisfied in the book. I intend on doing so with all his novels that were made into movies. I'm sure if they were made into movies they were real good books... and the screenplay went terribly wrong.\n",
      "* * * * * * * * * \n"
     ]
    },
    {
     "name": "stdout",
     "output_type": "stream",
     "text": [
      "11024\n",
      "For getting so many positive reviews, this movie really disappointed me! It is slow moving and long. At times the story is not clear, particularly in the evolving relationships among characters. My advice? Read the book, it's a fabulous story which loses it's impact on screen.\n",
      "* * * * * * * * * \n",
      "11056\n",
      "After being hugely entertained by Mr. Brosnan's performance as a cad in \\The Tailor of Panama\\\" (which I rate 10/10 across the board: casting, acting, script, story, editing, pace, music, emotional impact, etc.), I enthusiastically anticipated this film. I was hugely disappointed. It is a script reading not a film, vulgar for the sake of being vulgar, bankrupt in every way that \\\"The Tailor of Panama\\\" is rich and satisfying. Blame it on the screen writing and directing. I sat in the theater waiting for the \\\"good part;\\\" it never came. I neither laughed nor cried, although one line of dialog did make me smile. Worth $7? Hardly.\"\n",
      "* * * * * * * * * \n",
      "11148\n",
      "I found the documentary entitled Fast, Cheap, and Out of Control to be a fairly interesting documentary. The documentary contained four \\mini\\\" documentaries about four interesting men. Each one of these men was extremely involved with his job, showing sheer love and enjoyment for one's job.<br /><br />The sad part, I must say, would have to be the subjects in which these individuals worked/studied. They were interesting for about five minutes, afterwards becoming boring and lasting entirely too long.<br /><br />The video was filmed in a very creative way though. I very much enjoyed the film of one thing with a voice dub over another. It played out excellent and also coincided nicely with the music.\"\n",
      "* * * * * * * * * \n",
      "11355\n",
      "As a young black/latina woman I am always searching for movies that represent the experiences and lives of people like me. Of course when I saw this movie at the video store I thought I would enjoy it; unfortunately, I didn't. Although the topics presented in the film are interesting and relevant, the story was simply not properly developed. The movie just kept dragging on and on and many of the characters that appear on screen just come and go without much to contribute to the overall film. Had the director done a better job interconnecting the scenes, perhaps I would have enjoyed it a bit more. Honestly, I would recommend a film like \\Raising Victor\\\" over this one any day. I just was not too impressed.\"\n",
      "* * * * * * * * * \n",
      "11505\n",
      "I have just watched the movie for the first time. I wanted to watch it as I like Drew Barrymore and wanted to see one of her early movies. <br /><br />The movie is about a girl (played by young and beautiful Drew Barrymore), who moves from NYC to LA in order to get over her recently troubled loss. Short after moving to a guy who falls in love with her, it becomes obvious that she has an evil twin=doppelganger, who haunts her.<br /><br />The movie is quite poor and lousy. Both the dialogs and the acting make the film not really worth seeing it. Summing up it is just something for the fans of Drew Barrymore.\n",
      "* * * * * * * * * \n",
      "11531\n",
      "I watched the film recently and it poorly resembles the book is based on. I blame this on poor screenplay and direction. Some parts were forcibly introduced (the gay rape scene) for no apparent reason. I actually read the book after watching the movie and some 20 years or so after reading it for the first time. I found it hard to read and somewhat clumsy. Too many disparate ideas introduced for no benefit at all... other than sensational parts for the time. As it covers stuff that was deemed 'sensitive', to say the least, during communism, I can see the fascination it produced at the time. That isn't the case anymore though or maybe I see things differently now or a bit of both. The film tries too much to cover many aspects from the book, the result being a concoction of scenes that may make some sense to someone who read the book. Even so this is a film that is difficult to watch and maybe should have never been made.\n",
      "* * * * * * * * * \n",
      "11644\n",
      "This is not a horror film, but a boring sex movie. A very bad movie, to be avoided by any serious horror fan. No plot, awful acting and annoying music. If you only watch the trailer you will know enough... It's a shame that such thing is available on VHS or video while there are so many good movies unavailable. If you like vampires try the Hammer Productions or the Italian Gothic from Mario Bava and Antonio Margheriti instead. Those are masterpieces if you compare this with this trash. Rating = even \\1\\\" is too much! And believe me, I am not the only one with this opinion.\"\n",
      "* * * * * * * * * \n",
      "12323\n",
      "George P. Cosmatos' \\Rambo: First Blood Part II\\\" is pure wish-fulfillment. The United States clearly didn't win the war in Vietnam. They caused damage to this country beyond the imaginable and this movie continues the fairy story of the oh-so innocent soldiers. The only bad guys were the leaders of the nation, who made this war happen. The character of Rambo is perfect to notice this. He is extremely patriotic, bemoans that US-Americans didn't appreciate and celebrate the achievements of the single soldier, but has nothing but distrust for leading officers and politicians. Like every film that defends the war (e.g. \\\"We Were Soldiers\\\") also this one avoids the need to give a comprehensible reason for the engagement in South Asia. And for that matter also the reason for every single US-American soldier that was there. Instead, Rambo gets to take revenge for the wounds of a whole nation. It would have been better to work on how to deal with the memories, rather than suppressing them. \\\"Do we get to win this time?\\\" Yes, you do.\"\n",
      "* * * * * * * * * \n",
      "13267\n",
      "With movies like this you know you are going to get the usual jokes concerning ghosts. Eva as a ghost is pretty funny. And the other actors also do a good job. It is the direction and the story that is lacking. That could have been overlooked had the jokes worked better. The problem only is that there aren't many jokes. Sure I laughed a couple of times. Apart from the talking parrot there wasn't an ounce of creativity to be noticed in the movie. I blame the director not using the premise to it's full potential. Eva certainly has the comedic skill to show more but did not get the opportunity to do so. Overall this movie is ideal for a Sunday afternoon. Other than that it can be skipped completely.\n",
      "* * * * * * * * * \n",
      "13304\n",
      "I am very disappointed with \\K-911.\\\" The original \\\"good\\\" quality of \\\"K-9\\\" doesn't exist any more. This is more like a sitcom! Some of casts from original movie returned and got some of my memory back. The captain of Dooley now loves to hit him like a scene from old comedy show. That was crazy. What's the deal with the change of Police? It seems like they are now LAPD! Not San Diego PD. It is a completely different movie from \\\"\"\n",
      "* * * * * * * * * \n",
      "13414\n",
      "On Broadway, A Chorus Line was pure magic. From the second the show opened with a spectacular burst of energy to the truly grand finale, a joyous curtain call of all those chorus members who we grew to love during the course of the show, we were totally engaged - captivated by the intensely personal stories, some funny, some clever, some stirring, of this chorus line. The movie is another matter entirely. The focus is now on the director - and WHAT an ogre he is! Every time the film switches to Michael Douglas, there he is with a bitter, sour expression, barking out questions and orders, screaming and yelling whenever he gets the chance. Yikes!! That changes the dynamics of the story. On Broadway, the director was indeed an imperious offstage presence, but he was also sort of a theatrical device to allow the stories of these amazing strong/fragile/intriguing/hilarious chorus line members to be told with insight and clarity. There is a reason this work won the Pulitzer Prize! And actually in one of the only moments the director appears, he is there to comfort the young Puerto Rican Dancer after we hear that dancer's heart-breaking story. He appears again to ultimately express his genuine affection/ concern for Cassie. But in the movie, from the second Douglas' director starts bitterly barking orders, the chorus line members' stories become secondary. It's like they are in a lousy profession, where a jaded director instead of showing the joy at creating a new exciting theatrical show, is jaded, exhausted, furious at having to audition these chorus members. On stage, there was ALWAYS the excitement of the show. Here in the movie practically from the word go, you feel sorry for everyone involved. During the course of the musical, we desperately wished every single one of those chorus members well, and how happy we would have been if they had all gotten the job! But of course that couldn't happen. But in the Finale when they all came back in glorious costume with those amazing spinning mirrors on stage, sometimes reflecting us in the audience, in our hearts, and we know, also in the hearts of all those chorus members both accepted and rejected, they were on stage forever dancing in a profession they loved so much, bringing magic to the theatre. In the movie, after all the misplaced story lines and emphasis, that magic becomes totally diluted. All we feel (even with the exact same curtain call), is that some of the members got a job with a mean-spirited director. So they all come on the screen and are dancing again. Big deal.\n",
      "* * * * * * * * * \n",
      "13878\n",
      "Remakes (and sequels) have been a staple of Cinema from the beginning of the media. It is pretty much a hit or miss venture though. If you take what's good of the original and build upon it and update key features too current standards, you can have a success. Note, such films like THE THIEF OF BAGDAD (1924/1940) or KING KONG (1933/2005) succeeded in their attempts. Others like KING KONG (1976) fail, miserably.<br /><br />BRIEF ENCOUNTER (1945) is the template for this film. It is as perfect as could be made on such a subject and we rate it IMDb**********Ten. The story is simple, Love, innocently found by accident and tragically lost. Why, it just happened for the two (2) principals involved at the wrong time. These are portrayed in a convincing and sensitive manner by TREVOR HOWARD and CECILIA JOHNSON. Neither are conventionally leading Star material, but quality Character Actors. For the details watch the film.<br /><br />Now what went wrong? A T.V. Movie, remade practically scene for scene with name actors RICHARD BURTON and SOPHIA LOREN should have at least scored IMDb******Six. Both actors though appear disinterested, just showing up to punch their time-clocks and pick up their checks. Neither are involved with their characters or with each other. You do not believe they are in Love or when they finally separate it is any great loss to either of them. That should not be and that's why it fails in its intent. Sometimes it is just better to leave things alone.\n",
      "* * * * * * * * * \n",
      "14469\n",
      "Essentially a story of man versus nature, this film has beautiful cinematography, the lush jungles of Ceylon and the presence of Elizabeth Taylor but the film really never gets going. Newlwed Taylor is ignored and neglected by her husband and later is drawn to the plantation's foreman, played by Dana Andrews. The plantation is under the spell of owner Peter Finch's late father whose ghost casts a pall over Elephant Walk that becomes a major point of contention between Taylor and Finch. The elephants are determined to reclaim their traditional path to water that was blocked when the mansion was built across their right-of-way. The beasts go on a rampage and provides the best moments of action in the picture. Taylor and Andrews have some good moments as she struggles to remain a faithful wife in spite of he marital difficulties with Finch.\n",
      "* * * * * * * * * \n",
      "14530\n",
      "I had the displeasure of watching this movie with my girlfriend, who, like me, is a fan of the first. This movie down right sucked! It lacked the magic of the first. You could actually understand every word the mice said, the animation is crappy, the palace is much much different from the first movie, there's new characters that were never mentioned before and were terrible, luckily the Prince didn't have many lines which kept him from sounding stupid. Basically its like The Lion King 1 1/2 except its different stories all told by the mice. The reason I'm giving this a 2 out of 10 is because the songs not sung by the characters were the most enjoyable.\n",
      "* * * * * * * * * \n",
      "14685\n",
      "Characters you don't care about, relationships you don't care about and you sit through all that to see the ending you knew was coming from the start. Julia Roberts usually leaves no impression on me one way or the other. She was actually somewhat endearing in this role.\n",
      "* * * * * * * * * \n",
      "14738\n",
      "this one of the best celebrity's reality shows a ever saw. we can see the concerts we can see the life of Britney, i love the five episodes. i was always being surprised by Britney and the subjects of the show i think that some people don't watch the show at all we can how a great person she his. she his really funny really gentle and she loves her fans and we can see how she loves her work. i just don't give a 10 because of k-fed he his a real jerk he doesn't seem to like Britney at all. I they make a second season of this great show because it shows at some people how Britney really is. Go Britney your the best and you will never leave our hearts.\n",
      "* * * * * * * * * \n",
      "14943\n",
      "For those who like depressing films with sleazy characters and a sordid storyline, this one is for you! From the bleak New York City atmosphere, which comes across as an extremely grim and almost hopeless place, to two diverse lead characters devoid of much sense of morality, this movie is a real downer. <br /><br />Why it won the Academy Award was because it was so shocking at that time that Hollywood, brand new its freedom to show anything it wanted with all moral codes abandoned, wanted to celebrate that fact. Filmmakers then were like an immature six-year-old with an unlimited expense account at the local candy store. So, Hollywood gave theater viewers (for probably the first time) a dose of rape, prostitution, homosexuality, child nudity, homeless existence and other such wonderful sights and sounds only its twisted brain would think is appealing....and then awarded its work. <br /><br />It also hoped, I'm sure, to shock mainstream audiences. Well, it succeeded on that level. Audiences were stunned at what they say and heard and the Academy, proud of itself for being able to display filth and make money at the same time, couldn't help but bestow honors upon this piece of gilded garbage.<br /><br />Forty years ago, as a very young man, I found this film fascinating, too. However, seeing it again in the 1990s left such a bad taste in my mouth I never watched to view it again. <br /><br />The acting was good, but so what? Acting is good in many films. Nobody ever said Dustin Hoffman and Jon Voight couldn't act. Hoffman was particularly good in his younger days in playing wacked-out people. He was kind of like the Johnny Depp of his era, playing guys like \\Ratso Rizzo\\\" in this film and then going to be the \\\"Rain Man\\\" later on. Yes, \\\"Ratso\\\" is a character you'll never forget, and \\\"Joe Buck\\\" (Voight) is one you want to forget, but the story is so sordid, it overwhelms the fine acting.<br /><br />This movie isn't \\\"art,\\\" and it isn't worthy of its many awards; it only pushed the envelope big-time in 1969 and that's why it is so fondly remembered in the hearts of film people and critics. It's two hours of profanity and ultra-sleazy, religious cheap shots, glorifying weirdos (Andy Warhol even gets in the act - no surprise), and generally despicable people.<br /><br />I did like the catchy song, \\\"Everybody's Talking'\\\" that helped make Harry Nilsson famous, but even that was bogus because Fred Neil wrote the song and sang it better, before Nilsson did it....and few people have ever heard of Neil (which is their loss). And - as mentioned - the name \\\"Ratso Rizzo\\\" kind of stays with you!<br /><br />The film is a landmark, but in a negative sense, I fear: this marked it as \\\"official\\\" that Hollywood had gone down the toilet, and it has remained in the sewer ever since.\"\n",
      "* * * * * * * * * \n"
     ]
    },
    {
     "name": "stdout",
     "output_type": "stream",
     "text": [
      "15046\n",
      "I recently watched Belle Epoque, thinking it might be wonderful as it did win an Oscar for Best Foreign Language Film. I was a bit underwhelmed by the predictability and simplicity of the film. Maybe the conflict I had was that from the time the movie was filmed to now, the plot of a man falling for beautiful women and eventually falling for the good girl has been done so many times. Aside from predictability of the plot, some scenes in the film felt really out of place with the storyline (ex. a certain event at the wedding). At times the film was a bit preachy in it's ideas and in relation to the Franco era the film was set in and the Church. The only thing the film had going for it was the cutesy moments, the scenery, and the character of Violeta being a strong, independent woman during times when women were not really associated with those characteristics.\n",
      "* * * * * * * * * \n",
      "15174\n",
      "Horrible film with bits of the Ramones strewn about. Your worse than average 1970's/80's comedy format of the cool kids taking over the school with some whimsical plan. This movie is terrible. The plot consists of a girl who enjoys the Ramones and a school bent on fighting against their oppressive administration. Forget this movie and watch something like Wild Zero starring Guitar Wolf if you want an entertaining B movie. Terrible acting, terrible writing, terrible plot with the stamp of approval of the Ramones who probably needed some money quick so they said yes to this movie. That is the only logical thing I can think of because this movie blows.\n",
      "* * * * * * * * * \n",
      "15323\n",
      "This was a disappointment - none of the nuance of the original. The Brits just seem to be able to make a truly unsettling film with none of the over-the-top histrionics of the American version. The original series combined both creepy stories and subtlety of performance with great attention to lighting and settings. I have watched the series many times and am still enthralled.<br /><br />Just another poor adaptation along the lines of the dreadful adaptation of \\Cracker\\\". Get hooked up with BBC America or BBC Canada and watch for such delights as Waking the Dead, Spooks, Silent Witness, and Judge John Deed. Watch the original Touching Evil, then look for \\\"Wire in the Blood\\\" for more of the truly understated, elegant performance of Robson Green. Hollywood needs to have a look at this actor!\"\n",
      "* * * * * * * * * \n",
      "15454\n",
      "This is an attempt, by both author Edgar Rice Burroughs and filmmakers, at an Arabian \\Tarzan of the Apes\\\". But, this desert-set film shows none of the majesty present in Burroughs' more successful jungle adventure. The focus is on the love between handsome English noble Jon Hall (as \\\"El 'Lion\\\" Chatham) and exotic Arab beauty Kathleen Burke (as \\\"Princess\\\" Eulilah), with revenge happening to coincide with their urge to merge. The opening states that, although guilty of conduct unbecoming, the lad's mother is living - but, she never re-enters the picture. Unfortunately, \\\"The Lion Man\\\" has deteriorated, and is looks like it's missing footage.<br /><br />*** The Lion Man (1936) John P. McCarthy ~ Jon Hall, Kathleen Burke, Ted Adams\"\n",
      "* * * * * * * * * \n",
      "15813\n",
      "I haven't seen this movie in a while, so I'm afraid I can't be very specific about details... It did have some interesting points. Ralph Bakshi's attempt at an animated adaptation of J.R.R Tolkien's masterpiece was a very ambitious project, so ambitious in fact that it went bankrupt at some point during the production. Therefore, not only does it stop abruptly somewhere around the middle of the second book of the trilogy (with sort of a shade of a hint of a sequel that was never made), the film itself seems less than finished. It seems that some characters were animated while others were filmed, but whether or not it's intentional is hard to say. The whole thing seems shabbily made and undone, especially the Orcs and the Nazgul. Another problem, of course, is the huge gaps in the plot. Bakshi was in a rush to finish this movie, and he somehow hoped to cram a book and a half in little more than two hours (the new trilogy by Peter Jackson does it in about twice that time.) Far too many important bits were left out (and I don't refer only to Tom Bombadil, which, I think, was lovely in the book but would look silly in a movie.) And of course, the ending, which is completely sudden and out of place. I'm not even sure if Bakshi originally intended to end the film there, or if he even had any idea where he's going to end it.<br /><br />The characters... well, most of them were okay. The hobbits don't look so bad (except for the gay Sam. Did you know that the producers of the new trilogy originally wanted to make Sam a woman so there would be a feminine lead character?) If you're a Tolkien fanatic (like me), watch this movie (though I'm not too sure about buying it. What special features does the DVD version have, anyway?) But know in advance that you're not going to watch a real 'Lord Of The Rings Movie' but not much more than a historical curiosity, which probably looks not much better than the 60s version would have had the Beatles carried on with their plan (I actually think a psychedelic LOTR could have been quite cool. The idea was to cast George as Gandalf, Paul as Frodo, Ringo as Sam and John as Gollum.) If you didn't read the book or didn't like it much or don't like animation films or don't want to see a half-finished movie... stay away.\n",
      "* * * * * * * * * \n",
      "15814\n",
      "Lulu (Louise Brooks) works as a typist and is missing something in her life. She enters a Miss France contest against the wishes of her boyfriend Andre (Georges Charlia) and she wins. She sets off for the Miss Europe title leaving her boyfriend behind. She wins again but returns home to Andre because he has asked her to. Once back together, her life becomes mundane again so one night she writes a note to him and leaves to experience the fame that is waiting for her as Miss Europe. Andre follows her.....<br /><br />This film is a silent film with a piano music-track all the way through. It is also sped-up so everything seems fast. Limited dialogue has been added on afterwards and it is very phony. The cast are alright bearing in mind that it is a silent film. The best part of the film comes at the end but the story goes on a little too long. After watching this, I'm not really sure what the big deal was over the looks of Louise Brooks - she has a terrible haircut that makes her face look fat. I don't need to watch it again.\n",
      "* * * * * * * * * \n",
      "15850\n",
      "Why? Because for one reason, there has never been a more adorable scene in any film than Ann Margret singing \\Bye Bye Birdie\\\" at the opening. She reprises it again at the ending, too (in a different mood!). Both wonderful. Rent it and see. Even if that's all of it that you watch. You'll agree, I'm sure.<br /><br />Everything about the original was so excellent it just didn't need a remake, sorry! Jason and Vanessa gave commendable performances, as well as Tyne and Chynna. In fact, all the actors and singers in this new version were giving their 'all,' but it's like trying to improve on \\\"Casablanca\\\" -- it just can't be done! It's even annoying finding yourself comparing the two mentally as you try to appreciate the remake, and it just falls short, through no fault of the actors.\"\n",
      "* * * * * * * * * \n",
      "15868\n",
      "I am a guy, who loves guy movies... I was looking forward to seeing a dragon fighting with the army with cool special effects. All of this happened, however, this movie was the worst movie I have ever seen in my life.<br /><br />The story was standard, but the portrayal of the story was terrible. The scene transitions were the worst I have ever seen. Why would you walk out to a beach to relax if your life was in danger? The serpent dragon's actions itself was very poorly written... and the serpent dragon's attack capabilities varied widely throughout the movie, several times the main characters should have died.<br /><br />The director attempted to infuse a love story in the middle of the movie during the most stressful times, this movie was obviously not watched after it was made, I love movies, but had to force myself to finish watching it, thank god I did not buy this, I borrowed it from a friend.<br /><br />Do not buy this, do not rent it, just watch discovery channel... much more exciting.\n",
      "* * * * * * * * * \n",
      "16735\n",
      "The first part of Grease with John Travolta and Olivia Newton John is one of the best movie for teens, This one is a very bad copy. The change is only in the sex. In the first one the good one was Sandy, here it's Michael. I prefer to watch the first Grease.\n",
      "* * * * * * * * * \n",
      "17132\n",
      "I like the cast pretty much however the story sort of unfolds rather slowly. Danny Glover does a good job making you wonder if he's the bad guy. Meanwhile, the other characters are just part of the story. Dennis Quaid didn't have as much room in the story as he could have had. I thought the first scene was a bit over the top grim compared to how the story unfolded. I'd watch it again though. I rated it a 5 (wish I could rate it a 5.5)\n",
      "* * * * * * * * * \n",
      "17414\n",
      "My girlfriend picked this one; as a southern born and raised African American I found this movie's plot and premise totally without credibility. To believe that class and racial biases would be so easily and comfortably suspended would only come from someone totally unfamiliar with the ante-bellum south. Totally absurd !!! I wonder how they got a good actor like Harvey Keitel and a good actress like Andie McDowell (who being southern knows better) to participate in this crap\n",
      "* * * * * * * * * \n"
     ]
    },
    {
     "name": "stdout",
     "output_type": "stream",
     "text": [
      "17659\n",
      "This film reminds me of how college students used to protest against the Vietnam War. As if, upon hearing some kids were doing without cheeseburgers in Cow Dung Collehe, the President was going to immediately change all US foreign policy.<br /><br />The worst thing is that, while dangerous, the concept of a policy based on if the USSR and US went to war it could mean the end of the world, WORKED. The US and USSR NEVER WENT TO WAR.<br /><br />Had we only conventional weapons, the notion of yet another war, a \\win-able\\\" war, in Europe and Asia was not unthinkable.<br /><br />Not that I think they should get rid of this movie. It should be seen by film students as a splendid example of \\\"How NOT to make a film.\\\"<br /><br />It should be 0 stars or maybe black holes...\"\n",
      "* * * * * * * * * \n",
      "17676\n",
      "I have seen romantic comedies and this is one of the easiest/worst attempts at one. A lot of the scenes work in a plug-and-play manner inserted strictly to conform to the romantic-comedy genre. Usually this is okay because we're dealing with a genre, but the challenge generally resides in making it original, new and inventive. This movie fails to do so.<br /><br />There is no sense of who the characters really are, apart from Sylvie Moreau's (who is the real star of this movie, not Isabelle Blais). They fit into this one-dimensional cliché and they become nothing more than simple puppets serving the purpose of a very light narrative.<br /><br />The pacing of the movie can become annoying, rhythm lacks, and the editing is filled with unnecessary close-ups. I should also mention the overly stylized decors making some scenes devoid of any naturally, or rather, making the attempt at naturally seem too obvious. Of course, along with that, you have the right-on-cue sappy music which unfortunately often sounds mismatched.<br /><br />I can't believe that a movie who makes obvious Woody Allen allusions ends up being this deceptive. If you expect a good light-hearted romantic comedy, this is not it. Or rather, this a poor attempt at it. You will only leave the theater wondering why this film has been getting such praise when cinema is now more than 100 years old and there are far superior Quebecois directors making better flicks.<br /><br />Les Aimants is a good movie for what it is. But it's a bad one if you regard cinema as an art and directors as auteur's.\n",
      "* * * * * * * * * \n",
      "17957\n",
      "This horror movie is really weak...that is if this is the correct movie I am commenting on. Nothing really terrible goes on as a family adopts a cute little German Shepard pup. I had a German Shepard and it is a really good dog. I did not get the idea to get one from this movie though, but rather from the comedy \\K-9\\\". That is another story all together though. This movie really doesn't have much horror at all as the most horrific scene is at the end and it looks really cheesy. Also, we see a guy almost put his hand into a lawn mower. That is about it. The father suspects something though, as his family seems to be getting rather strange, somewhere he finds out if you hold a mirror to them while they are sleeping you can see if they are possessed. All in all a really weak horror movie even by television standards...television movies that do work are out there as \\\"This House Possessed\\\" is pretty good and there is another haunted house movie about a woman and these strange creatures that is also rather good. This one is really rather dull.\"\n",
      "* * * * * * * * * \n",
      "18650\n",
      "Just a regular Jason lee movie, There were some parts of the movie that were funny. The undertone of the move is to live life on the edge I guess. These are the types of movies that I think 14 year old girls watch at slumber parties. It was an all right movie. It is kind of one of those movies you have on in the back ground and look up every now and then to when something catches attention. I think That Julia stiles and Selma Blair are a good combination and would like to see them in a movie with a good story and plot. Its just kind of a boy meets girl movie. This is that perfect movie they would show on comedy Central. I am glad that I didn't see this movie in the theater, I would have been angry. But I guess that's why I didn't see it in the theater.\n",
      "* * * * * * * * * \n",
      "18698\n",
      "Luise Rainer received an Oscar for her performance in The Good Earth. Unfortunately, her role required no. She did not say much and looked pale throughout the film. Luise's character was a slave then given away to marriage to Paul Muni's character (he did a fantastic job for his performance). Set in ancient Asia, both actors were not Asian, but were very convincing in their roles. I hope that Paul Muni received an Oscar for his performance, because that is what Luise must have gotten her Oscar for. She must have been a breakthrough actress, one of the first to method act. This seems like something that Hollywood does often. Al Pacino has played an Italian and Cuban. I felt Luise's performance to be lackluster throughout, and when she died, she did not change in expression from any previous scenes. She stayed the same throughout the film; she only changed her expression or emotion maybe twice. If her brilliant acting was so subtle, I suppose I did not see it.\n",
      "* * * * * * * * * \n",
      "19316\n",
      "Bad Movie - saw it at the TIFF and the movie gives me a sense of 'been there done that' - it reminds me alot of the movie Blow - expect the Blow was actually interesting.<br /><br />This one story told two ways and both times it is not told that well.<br /><br />\n",
      "* * * * * * * * * \n",
      "19512\n",
      "I went to this movie expecting a concise movie relating the effect the Son of Sam had on the society. I didn't expect Spike Lee to force-feed me more garbage on racial tension, mob-justice, or the inability of the common citizen to make a choice under pressure by peers. Lee has presented an extreme opinion.<br /><br />The entire movie could have been more effective if in a 90-min format with more focus, less tangential sub-plots.<br /><br />Don't even bother renting the video unless you passionately enjoy Spike Lee; in such a case, the theatre is worth it. This is not an escapist movie.\n",
      "* * * * * * * * * \n",
      "19727\n",
      "For me, this movie just seemed to fall on its face. The main problem for me was the casting of Glover as a serial killer. I don't know whether this grows out of type-casting or simply his demeanor, but I doubt Glover could ever portray a convincing villain. He's a good guy, and that's always obvious in his performances. Other than that the film is your run of the mill serial killer story. Nothing very innovative .\n",
      "* * * * * * * * * \n",
      "19843\n",
      "This could be a cute movie for kids My grandson watched it once. he was watching it a second time I was watching some of it with him.<br /><br />When the little bear gets lost on the ice burg and he is in the water he is trying to get to a piece of ice it says \\Come back stupid ass fool\\\".<br /><br />I don't want my 3 year old grandson watching movies with words like this in it.<br /><br />That is why its rated for children. Should be child friendly. That is what I would expect. put out by warner brothers and G rated I would expect this to not have cuss words in it. The words don't even fit the movie in most places as it seems added later. And the movie drags out in many parts.\"\n",
      "* * * * * * * * * \n"
     ]
    }
   ],
   "source": [
    "# false positives\n",
    "\n",
    "print(\"Examples of false positives:\")\n",
    "\n",
    "import random, time\n",
    "\n",
    "for i in range(0, len(ols_predictions)):\n",
    "    if (ols_predictions[i] == 1):\n",
    "        if (X_raw_train.iloc[i]['sentiment'] == 0):\n",
    "            if (random.uniform(0, 1) < 0.5): # to print only 5% of the false positives\n",
    "                print(i)\n",
    "                print(X_raw_train.iloc[i]['review'])\n",
    "                print('* * * * * * * * * ')\n"
   ]
  },
  {
   "cell_type": "markdown",
   "metadata": {},
   "source": [
    "---\n",
    "\n",
    "# <span style=\"color:red\">WARNING: Don't look at test set performance too much!</span>\n",
    "\n",
    "---\n",
    "\n",
    "The following cells show performance on your test set. Do not look at this too often! "
   ]
  },
  {
   "cell_type": "markdown",
   "metadata": {},
   "source": [
    "# Look at performance on the test set"
   ]
  },
  {
   "cell_type": "markdown",
   "metadata": {},
   "source": [
    "### MODEL: ordinary least squares"
   ]
  },
  {
   "cell_type": "code",
   "execution_count": 390,
   "metadata": {},
   "outputs": [
    {
     "name": "stdout",
     "output_type": "stream",
     "text": [
      "{'Pos': 2535, 'Neg': 2465, 'TP': 1347, 'TN': 1130, 'FP': 1335, 'FN': 1188, 'Accuracy': 0.4954, 'Precision': 0.5022371364653244, 'Recall': 0.5313609467455621, 'desc': 'ols_test'}\n"
     ]
    }
   ],
   "source": [
    "ols_performance_test = BinaryClassificationPerformance(ols.predict(X_test), y_test, 'ols_test')\n",
    "ols_performance_test.compute_measures()\n",
    "print(ols_performance_test.performance_measures)"
   ]
  },
  {
   "cell_type": "markdown",
   "metadata": {},
   "source": [
    "### MODEL: SVM, linear"
   ]
  },
  {
   "cell_type": "code",
   "execution_count": 391,
   "metadata": {},
   "outputs": [
    {
     "name": "stdout",
     "output_type": "stream",
     "text": [
      "{'Pos': 2535, 'Neg': 2465, 'TP': 2098, 'TN': 2049, 'FP': 416, 'FN': 437, 'Accuracy': 0.8294, 'Precision': 0.8345266507557677, 'Recall': 0.8276134122287968, 'desc': 'svm_test'}\n"
     ]
    }
   ],
   "source": [
    "svm_performance_test = BinaryClassificationPerformance(svm.predict(X_test), y_test, 'svm_test')\n",
    "svm_performance_test.compute_measures()\n",
    "print(svm_performance_test.performance_measures)"
   ]
  },
  {
   "cell_type": "markdown",
   "metadata": {},
   "source": [
    "### MODEL: logistic regression"
   ]
  },
  {
   "cell_type": "code",
   "execution_count": 392,
   "metadata": {},
   "outputs": [
    {
     "name": "stdout",
     "output_type": "stream",
     "text": [
      "{'Pos': 2535, 'Neg': 2465, 'TP': 2102, 'TN': 2056, 'FP': 409, 'FN': 433, 'Accuracy': 0.8316, 'Precision': 0.8371166865790521, 'Recall': 0.8291913214990138, 'desc': 'lgs_test'}\n"
     ]
    }
   ],
   "source": [
    "lgs_performance_test = BinaryClassificationPerformance(lgs.predict(X_test), y_test, 'lgs_test')\n",
    "lgs_performance_test.compute_measures()\n",
    "print(lgs_performance_test.performance_measures)"
   ]
  },
  {
   "cell_type": "markdown",
   "metadata": {},
   "source": [
    "### MODEL: Naive Bayes"
   ]
  },
  {
   "cell_type": "code",
   "execution_count": 393,
   "metadata": {},
   "outputs": [
    {
     "name": "stdout",
     "output_type": "stream",
     "text": [
      "{'Pos': 2535, 'Neg': 2465, 'TP': 1825, 'TN': 1833, 'FP': 632, 'FN': 710, 'Accuracy': 0.7316, 'Precision': 0.7427757427757428, 'Recall': 0.7199211045364892, 'desc': 'nbs_test'}\n"
     ]
    }
   ],
   "source": [
    "nbs_performance_test = BinaryClassificationPerformance(nbs.predict(X_test), y_test, 'nbs_test')\n",
    "nbs_performance_test.compute_measures()\n",
    "print(nbs_performance_test.performance_measures)"
   ]
  },
  {
   "cell_type": "markdown",
   "metadata": {},
   "source": [
    "### MODEL: Perceptron"
   ]
  },
  {
   "cell_type": "code",
   "execution_count": 394,
   "metadata": {},
   "outputs": [
    {
     "name": "stdout",
     "output_type": "stream",
     "text": [
      "{'Pos': 2535, 'Neg': 2465, 'TP': 2093, 'TN': 2053, 'FP': 412, 'FN': 442, 'Accuracy': 0.8292, 'Precision': 0.8355289421157684, 'Recall': 0.8256410256410256, 'desc': 'prc_test'}\n"
     ]
    }
   ],
   "source": [
    "prc_performance_test = BinaryClassificationPerformance(prc.predict(X_test), y_test, 'prc_test')\n",
    "prc_performance_test.compute_measures()\n",
    "print(prc_performance_test.performance_measures)"
   ]
  },
  {
   "cell_type": "markdown",
   "metadata": {},
   "source": [
    "### MODEL: Ridge Regression Classifier"
   ]
  },
  {
   "cell_type": "code",
   "execution_count": 395,
   "metadata": {},
   "outputs": [
    {
     "name": "stdout",
     "output_type": "stream",
     "text": [
      "{'Pos': 2535, 'Neg': 2465, 'TP': 1924, 'TN': 2271, 'FP': 194, 'FN': 611, 'Accuracy': 0.839, 'Precision': 0.9084041548630784, 'Recall': 0.7589743589743589, 'desc': 'rdg_test'}\n"
     ]
    }
   ],
   "source": [
    "rdg_performance_test = BinaryClassificationPerformance(rdg.predict(X_test), y_test, 'rdg_test')\n",
    "rdg_performance_test.compute_measures()\n",
    "print(rdg_performance_test.performance_measures)"
   ]
  },
  {
   "cell_type": "markdown",
   "metadata": {},
   "source": [
    "### MODEL: Random Forest Classifier"
   ]
  },
  {
   "cell_type": "code",
   "execution_count": 396,
   "metadata": {},
   "outputs": [
    {
     "name": "stdout",
     "output_type": "stream",
     "text": [
      "{'Pos': 2535, 'Neg': 2465, 'TP': 1887, 'TN': 1911, 'FP': 554, 'FN': 648, 'Accuracy': 0.7596, 'Precision': 0.7730438344940598, 'Recall': 0.744378698224852, 'desc': 'rdf_test'}\n"
     ]
    }
   ],
   "source": [
    "rdf_performance_test = BinaryClassificationPerformance(rdf.predict(X_test), y_test, 'rdf_test')\n",
    "rdf_performance_test.compute_measures()\n",
    "print(rdf_performance_test.performance_measures)"
   ]
  },
  {
   "cell_type": "markdown",
   "metadata": {},
   "source": [
    "### ROC plot to compare performance of various models and fits"
   ]
  },
  {
   "cell_type": "code",
   "execution_count": 397,
   "metadata": {},
   "outputs": [
    {
     "data": {
      "image/png": "[encoded data removed]",
      "text/plain": [
       "<Figure size 432x288 with 1 Axes>"
      ]
     },
     "metadata": {
      "needs_background": "light"
     },
     "output_type": "display_data"
    }
   ],
   "source": [
    "fits = [rdg_performance_test]\n",
    "\n",
    "for fit in fits:\n",
    "    plt.plot(fit.performance_measures['FP'] / fit.performance_measures['Neg'], \n",
    "             fit.performance_measures['TP'] / fit.performance_measures['Pos'], 'bo')\n",
    "    plt.text(fit.performance_measures['FP'] / fit.performance_measures['Neg'], \n",
    "             fit.performance_measures['TP'] / fit.performance_measures['Pos'], fit.desc)\n",
    "plt.axis([0, 1, 0, 1])\n",
    "plt.title('ROC plot: test set')\n",
    "plt.xlabel('False positive rate')\n",
    "plt.ylabel('True positive rate')\n",
    "plt.show()"
   ]
  },
  {
   "cell_type": "markdown",
   "metadata": {},
   "source": [
    "---\n",
    "\n",
    "# <span style=\"color:red\">SUBMISSION</span>\n",
    "\n",
    "---"
   ]
  },
  {
   "cell_type": "code",
   "execution_count": 398,
   "metadata": {},
   "outputs": [
    {
     "name": "stdout",
     "output_type": "stream",
     "text": [
      "movie_data is: <class 'pandas.core.frame.DataFrame'>\n",
      "movie_data has 25000 rows and 2 columns \n",
      "\n",
      "the data types for each of the columns in movie_data:\n",
      "id        object\n",
      "review    object\n",
      "dtype: object \n",
      "\n",
      "the first 10 rows in movie_data:\n",
      "         id                                             review\n",
      "0  12311_10  Naturally in a film who's main themes are of m...\n",
      "1    8348_2  This movie is a disaster within a disaster fil...\n",
      "2    5828_4  All in all, this is a movie for kids. We saw i...\n",
      "3    7186_2  Afraid of the Dark left me with the impression...\n",
      "4   12128_7  A very accurate depiction of small time mob li...\n",
      "Shape of HashingVectorizer X:\n",
      "(25000, 131072)\n",
      "Look at a few rows of the new quantitative features: \n",
      "   word_count  punc_count\n",
      "0         131           5\n",
      "1         169          15\n",
      "2         176          18\n",
      "3         112           5\n",
      "4         133           8\n",
      "5         331          20\n",
      "6         121          18\n",
      "7         230          22\n",
      "8          59           3\n",
      "9         224          14\n",
      "Size of combined bag of words and new quantitative variables matrix:\n",
      "(25000, 131074)\n",
      "(25000, 131074)\n",
      "Shape of X_test for submission:\n",
      "(25000, 131074)\n",
      "SUCCESS!\n",
      "Number of rows in the submission test set (should be 25,000): \n"
     ]
    }
   ],
   "source": [
    "# read in test data for submission\n",
    "# CHANGE FILE PATH and my_random_seed number (any integer other than 74 will do): \n",
    "raw_data, X_test_submission = process_raw_data(fn='../data/moviereviews_test.tsv', my_random_seed=999, test=True)\n",
    "print(\"Number of rows in the submission test set (should be 25,000): \")"
   ]
  },
  {
   "cell_type": "markdown",
   "metadata": {},
   "source": [
    "---\n",
    "\n",
    "Choose a <span style=\"color:red\">*single*</span> model for your submission. In this code, I am choosing the Ordinary Least Squares model fit, which is in the `ols` object. But you should choose the model that is performing the best for you! "
   ]
  },
  {
   "cell_type": "code",
   "execution_count": 399,
   "metadata": {},
   "outputs": [
    {
     "name": "stdout",
     "output_type": "stream",
     "text": [
      "0.52044\n"
     ]
    }
   ],
   "source": [
    "# store the id from the raw data\n",
    "my_submission = pd.DataFrame(raw_data[\"id\"])\n",
    "# concatenate predictions to the id\n",
    "my_submission[\"prediction\"] = ols.predict(X_test_submission)\n",
    "# look at the proportion of positive predictions\n",
    "print(my_submission['prediction'].mean())"
   ]
  },
  {
   "cell_type": "code",
   "execution_count": 400,
   "metadata": {},
   "outputs": [
    {
     "data": {
      "text/html": [
       "<div>\n",
       "<style scoped>\n",
       "    .dataframe tbody tr th:only-of-type {\n",
       "        vertical-align: middle;\n",
       "    }\n",
       "\n",
       "    .dataframe tbody tr th {\n",
       "        vertical-align: top;\n",
       "    }\n",
       "\n",
       "    .dataframe thead th {\n",
       "        text-align: right;\n",
       "    }\n",
       "</style>\n",
       "<table border=\"1\" class=\"dataframe\">\n",
       "  <thead>\n",
       "    <tr style=\"text-align: right;\">\n",
       "      <th></th>\n",
       "      <th>id</th>\n",
       "      <th>review</th>\n",
       "      <th>word_count</th>\n",
       "      <th>punc_count</th>\n",
       "    </tr>\n",
       "  </thead>\n",
       "  <tbody>\n",
       "    <tr>\n",
       "      <th>0</th>\n",
       "      <td>12311_10</td>\n",
       "      <td>Naturally in a film who's main themes are of m...</td>\n",
       "      <td>131</td>\n",
       "      <td>5</td>\n",
       "    </tr>\n",
       "    <tr>\n",
       "      <th>1</th>\n",
       "      <td>8348_2</td>\n",
       "      <td>This movie is a disaster within a disaster fil...</td>\n",
       "      <td>169</td>\n",
       "      <td>15</td>\n",
       "    </tr>\n",
       "    <tr>\n",
       "      <th>2</th>\n",
       "      <td>5828_4</td>\n",
       "      <td>All in all, this is a movie for kids. We saw i...</td>\n",
       "      <td>176</td>\n",
       "      <td>18</td>\n",
       "    </tr>\n",
       "    <tr>\n",
       "      <th>3</th>\n",
       "      <td>7186_2</td>\n",
       "      <td>Afraid of the Dark left me with the impression...</td>\n",
       "      <td>112</td>\n",
       "      <td>5</td>\n",
       "    </tr>\n",
       "    <tr>\n",
       "      <th>4</th>\n",
       "      <td>12128_7</td>\n",
       "      <td>A very accurate depiction of small time mob li...</td>\n",
       "      <td>133</td>\n",
       "      <td>8</td>\n",
       "    </tr>\n",
       "  </tbody>\n",
       "</table>\n",
       "</div>"
      ],
      "text/plain": [
       "         id                                             review  word_count  \\\n",
       "0  12311_10  Naturally in a film who's main themes are of m...         131   \n",
       "1    8348_2  This movie is a disaster within a disaster fil...         169   \n",
       "2    5828_4  All in all, this is a movie for kids. We saw i...         176   \n",
       "3    7186_2  Afraid of the Dark left me with the impression...         112   \n",
       "4   12128_7  A very accurate depiction of small time mob li...         133   \n",
       "\n",
       "   punc_count  \n",
       "0           5  \n",
       "1          15  \n",
       "2          18  \n",
       "3           5  \n",
       "4           8  "
      ]
     },
     "execution_count": 400,
     "metadata": {},
     "output_type": "execute_result"
    }
   ],
   "source": [
    "raw_data.head()"
   ]
  },
  {
   "cell_type": "code",
   "execution_count": 401,
   "metadata": {},
   "outputs": [
    {
     "data": {
      "text/html": [
       "<div>\n",
       "<style scoped>\n",
       "    .dataframe tbody tr th:only-of-type {\n",
       "        vertical-align: middle;\n",
       "    }\n",
       "\n",
       "    .dataframe tbody tr th {\n",
       "        vertical-align: top;\n",
       "    }\n",
       "\n",
       "    .dataframe thead th {\n",
       "        text-align: right;\n",
       "    }\n",
       "</style>\n",
       "<table border=\"1\" class=\"dataframe\">\n",
       "  <thead>\n",
       "    <tr style=\"text-align: right;\">\n",
       "      <th></th>\n",
       "      <th>id</th>\n",
       "      <th>prediction</th>\n",
       "    </tr>\n",
       "  </thead>\n",
       "  <tbody>\n",
       "    <tr>\n",
       "      <th>0</th>\n",
       "      <td>12311_10</td>\n",
       "      <td>1</td>\n",
       "    </tr>\n",
       "    <tr>\n",
       "      <th>1</th>\n",
       "      <td>8348_2</td>\n",
       "      <td>0</td>\n",
       "    </tr>\n",
       "    <tr>\n",
       "      <th>2</th>\n",
       "      <td>5828_4</td>\n",
       "      <td>1</td>\n",
       "    </tr>\n",
       "    <tr>\n",
       "      <th>3</th>\n",
       "      <td>7186_2</td>\n",
       "      <td>0</td>\n",
       "    </tr>\n",
       "    <tr>\n",
       "      <th>4</th>\n",
       "      <td>12128_7</td>\n",
       "      <td>1</td>\n",
       "    </tr>\n",
       "  </tbody>\n",
       "</table>\n",
       "</div>"
      ],
      "text/plain": [
       "         id  prediction\n",
       "0  12311_10           1\n",
       "1    8348_2           0\n",
       "2    5828_4           1\n",
       "3    7186_2           0\n",
       "4   12128_7           1"
      ]
     },
     "execution_count": 401,
     "metadata": {},
     "output_type": "execute_result"
    }
   ],
   "source": [
    "my_submission.head()"
   ]
  },
  {
   "cell_type": "code",
   "execution_count": 402,
   "metadata": {},
   "outputs": [
    {
     "data": {
      "text/plain": [
       "(25000, 2)"
      ]
     },
     "execution_count": 402,
     "metadata": {},
     "output_type": "execute_result"
    }
   ],
   "source": [
    "my_submission.shape"
   ]
  },
  {
   "cell_type": "code",
   "execution_count": 403,
   "metadata": {},
   "outputs": [],
   "source": [
    "# export submission file as pdf\n",
    "# CHANGE FILE PATH: \n",
    "# my_submission.to_csv('/home/ec2-user/data/moviereviews_submission.csv', index=False)"
   ]
  },
  {
   "cell_type": "markdown",
   "metadata": {},
   "source": [
    "# Submit to Canvas: 1) the CSV file that was written in the previous cell and 2) the url to the repository (GitHub or other) that contains your code and documentation"
   ]
  }
 ],
 "metadata": {
  "kernelspec": {
   "display_name": "Python 3 (ipykernel)",
   "language": "python",
   "name": "python3"
  },
  "language_info": {
   "codemirror_mode": {
    "name": "ipython",
    "version": 3
   },
   "file_extension": ".py",
   "mimetype": "text/x-python",
   "name": "python",
   "nbconvert_exporter": "python",
   "pygments_lexer": "ipython3",
   "version": "3.9.7"
  }
 },
 "nbformat": 4,
 "nbformat_minor": 2
}
